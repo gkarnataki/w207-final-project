{
 "cells": [
  {
   "cell_type": "markdown",
   "metadata": {
    "collapsed": false
   },
   "source": [
    "# Random Acts of Pizza"
   ]
  },
  {
   "cell_type": "markdown",
   "metadata": {},
   "source": [
    "The objective of the project is to predict if the requester on Reddit will receive a Pizza as an act of altruism from one of the other Reddit users. \n",
    "The train and test data files are available in kaggle.com and have been downloaded at the below location before executing this notebook. \n",
    "We apply some text processing techniques below on the requester text. We basically use both CountVectorizer and TfIdfVectorizer with multiple options of parameters."
   ]
  },
  {
   "cell_type": "code",
   "execution_count": null,
   "metadata": {
    "collapsed": true
   },
   "outputs": [],
   "source": [
    "%matplotlib inline\n",
    "\n",
    "import pandas as pd\n",
    "import re\n",
    "import numpy as np\n",
    "import matplotlib.pyplot as plt\n",
    "from sklearn.pipeline import Pipeline\n",
    "from sklearn.neighbors import KNeighborsClassifier\n",
    "from sklearn.linear_model import LogisticRegression\n",
    "from sklearn.naive_bayes import BernoulliNB\n",
    "from sklearn.naive_bayes import MultinomialNB\n",
    "from sklearn.naive_bayes import GaussianNB\n",
    "from sklearn.grid_search import GridSearchCV\n",
    "\n",
    "# SK-learn libraries for evaluation.\n",
    "from sklearn.metrics import confusion_matrix\n",
    "from sklearn import metrics\n",
    "from sklearn.metrics import classification_report\n",
    "\n",
    "# SK-learn libraries for feature extraction from text.\n",
    "from sklearn.feature_extraction.text import *"
   ]
  },
  {
   "cell_type": "code",
   "execution_count": 37,
   "metadata": {
    "collapsed": false
   },
   "outputs": [
    {
     "data": {
      "text/html": [
       "<div>\n",
       "<table border=\"1\" class=\"dataframe\">\n",
       "  <thead>\n",
       "    <tr style=\"text-align: right;\">\n",
       "      <th></th>\n",
       "      <th>giver_username_if_known</th>\n",
       "      <th>number_of_downvotes_of_request_at_retrieval</th>\n",
       "      <th>number_of_upvotes_of_request_at_retrieval</th>\n",
       "      <th>post_was_edited</th>\n",
       "      <th>request_id</th>\n",
       "      <th>request_number_of_comments_at_retrieval</th>\n",
       "      <th>request_text</th>\n",
       "      <th>request_text_edit_aware</th>\n",
       "      <th>request_title</th>\n",
       "      <th>requester_account_age_in_days_at_request</th>\n",
       "      <th>...</th>\n",
       "      <th>requester_received_pizza</th>\n",
       "      <th>requester_subreddits_at_request</th>\n",
       "      <th>requester_upvotes_minus_downvotes_at_request</th>\n",
       "      <th>requester_upvotes_minus_downvotes_at_retrieval</th>\n",
       "      <th>requester_upvotes_plus_downvotes_at_request</th>\n",
       "      <th>requester_upvotes_plus_downvotes_at_retrieval</th>\n",
       "      <th>requester_user_flair</th>\n",
       "      <th>requester_username</th>\n",
       "      <th>unix_timestamp_of_request</th>\n",
       "      <th>unix_timestamp_of_request_utc</th>\n",
       "    </tr>\n",
       "  </thead>\n",
       "  <tbody>\n",
       "    <tr>\n",
       "      <th>0</th>\n",
       "      <td>N/A</td>\n",
       "      <td>0</td>\n",
       "      <td>1</td>\n",
       "      <td>0</td>\n",
       "      <td>t3_l25d7</td>\n",
       "      <td>0</td>\n",
       "      <td>Hi I am in need of food for my 4 children we a...</td>\n",
       "      <td>Hi I am in need of food for my 4 children we a...</td>\n",
       "      <td>Request Colorado Springs Help Us Please</td>\n",
       "      <td>0.0000</td>\n",
       "      <td>...</td>\n",
       "      <td>False</td>\n",
       "      <td>[]</td>\n",
       "      <td>0</td>\n",
       "      <td>1</td>\n",
       "      <td>0</td>\n",
       "      <td>1</td>\n",
       "      <td>None</td>\n",
       "      <td>nickylvst</td>\n",
       "      <td>1317852607</td>\n",
       "      <td>1317849007</td>\n",
       "    </tr>\n",
       "    <tr>\n",
       "      <th>1</th>\n",
       "      <td>N/A</td>\n",
       "      <td>2</td>\n",
       "      <td>5</td>\n",
       "      <td>0</td>\n",
       "      <td>t3_rcb83</td>\n",
       "      <td>0</td>\n",
       "      <td>I spent the last money I had on gas today. Im ...</td>\n",
       "      <td>I spent the last money I had on gas today. Im ...</td>\n",
       "      <td>[Request] California, No cash and I could use ...</td>\n",
       "      <td>501.1111</td>\n",
       "      <td>...</td>\n",
       "      <td>False</td>\n",
       "      <td>[AskReddit, Eve, IAmA, MontereyBay, RandomKind...</td>\n",
       "      <td>34</td>\n",
       "      <td>4258</td>\n",
       "      <td>116</td>\n",
       "      <td>11168</td>\n",
       "      <td>None</td>\n",
       "      <td>fohacidal</td>\n",
       "      <td>1332652424</td>\n",
       "      <td>1332648824</td>\n",
       "    </tr>\n",
       "    <tr>\n",
       "      <th>2</th>\n",
       "      <td>N/A</td>\n",
       "      <td>0</td>\n",
       "      <td>3</td>\n",
       "      <td>0</td>\n",
       "      <td>t3_lpu5j</td>\n",
       "      <td>0</td>\n",
       "      <td>My girlfriend decided it would be a good idea ...</td>\n",
       "      <td>My girlfriend decided it would be a good idea ...</td>\n",
       "      <td>[Request] Hungry couple in Dundee, Scotland wo...</td>\n",
       "      <td>0.0000</td>\n",
       "      <td>...</td>\n",
       "      <td>False</td>\n",
       "      <td>[]</td>\n",
       "      <td>0</td>\n",
       "      <td>3</td>\n",
       "      <td>0</td>\n",
       "      <td>3</td>\n",
       "      <td>None</td>\n",
       "      <td>jacquibatman7</td>\n",
       "      <td>1319650094</td>\n",
       "      <td>1319646494</td>\n",
       "    </tr>\n",
       "  </tbody>\n",
       "</table>\n",
       "<p>3 rows × 32 columns</p>\n",
       "</div>"
      ],
      "text/plain": [
       "  giver_username_if_known  number_of_downvotes_of_request_at_retrieval  \\\n",
       "0                     N/A                                            0   \n",
       "1                     N/A                                            2   \n",
       "2                     N/A                                            0   \n",
       "\n",
       "   number_of_upvotes_of_request_at_retrieval  post_was_edited request_id  \\\n",
       "0                                          1                0   t3_l25d7   \n",
       "1                                          5                0   t3_rcb83   \n",
       "2                                          3                0   t3_lpu5j   \n",
       "\n",
       "   request_number_of_comments_at_retrieval  \\\n",
       "0                                        0   \n",
       "1                                        0   \n",
       "2                                        0   \n",
       "\n",
       "                                        request_text  \\\n",
       "0  Hi I am in need of food for my 4 children we a...   \n",
       "1  I spent the last money I had on gas today. Im ...   \n",
       "2  My girlfriend decided it would be a good idea ...   \n",
       "\n",
       "                             request_text_edit_aware  \\\n",
       "0  Hi I am in need of food for my 4 children we a...   \n",
       "1  I spent the last money I had on gas today. Im ...   \n",
       "2  My girlfriend decided it would be a good idea ...   \n",
       "\n",
       "                                       request_title  \\\n",
       "0            Request Colorado Springs Help Us Please   \n",
       "1  [Request] California, No cash and I could use ...   \n",
       "2  [Request] Hungry couple in Dundee, Scotland wo...   \n",
       "\n",
       "   requester_account_age_in_days_at_request              ...                \\\n",
       "0                                    0.0000              ...                 \n",
       "1                                  501.1111              ...                 \n",
       "2                                    0.0000              ...                 \n",
       "\n",
       "   requester_received_pizza  \\\n",
       "0                     False   \n",
       "1                     False   \n",
       "2                     False   \n",
       "\n",
       "                     requester_subreddits_at_request  \\\n",
       "0                                                 []   \n",
       "1  [AskReddit, Eve, IAmA, MontereyBay, RandomKind...   \n",
       "2                                                 []   \n",
       "\n",
       "   requester_upvotes_minus_downvotes_at_request  \\\n",
       "0                                             0   \n",
       "1                                            34   \n",
       "2                                             0   \n",
       "\n",
       "   requester_upvotes_minus_downvotes_at_retrieval  \\\n",
       "0                                               1   \n",
       "1                                            4258   \n",
       "2                                               3   \n",
       "\n",
       "   requester_upvotes_plus_downvotes_at_request  \\\n",
       "0                                            0   \n",
       "1                                          116   \n",
       "2                                            0   \n",
       "\n",
       "   requester_upvotes_plus_downvotes_at_retrieval  requester_user_flair  \\\n",
       "0                                              1                  None   \n",
       "1                                          11168                  None   \n",
       "2                                              3                  None   \n",
       "\n",
       "   requester_username  unix_timestamp_of_request  \\\n",
       "0           nickylvst                 1317852607   \n",
       "1           fohacidal                 1332652424   \n",
       "2       jacquibatman7                 1319650094   \n",
       "\n",
       "   unix_timestamp_of_request_utc  \n",
       "0                     1317849007  \n",
       "1                     1332648824  \n",
       "2                     1319646494  \n",
       "\n",
       "[3 rows x 32 columns]"
      ]
     },
     "execution_count": 37,
     "metadata": {},
     "output_type": "execute_result"
    }
   ],
   "source": [
    "# We split the train and dev datasets roughly 75/25\n",
    "data = pd.read_json(\"/Users/gautamkarnataki/MIDS/train.json\")\n",
    "train_data = data[:3500][\"request_text\"]\n",
    "train_labels = data[:3500][\"requester_received_pizza\"]\n",
    "dev_data = data[3501:][\"request_text\"]\n",
    "dev_labels = data[3501:][\"requester_received_pizza\"]\n",
    "data.head(3)"
   ]
  },
  {
   "cell_type": "code",
   "execution_count": 38,
   "metadata": {
    "collapsed": false
   },
   "outputs": [
    {
     "data": {
      "image/png": "[encoded data removed]",
      "text/plain": [
       "<matplotlib.figure.Figure at 0x11bd9efd0>"
      ]
     },
     "metadata": {},
     "output_type": "display_data"
    },
    {
     "data": {
      "text/html": [
       "<div>\n",
       "<table border=\"1\" class=\"dataframe\">\n",
       "  <thead>\n",
       "    <tr style=\"text-align: right;\">\n",
       "      <th></th>\n",
       "      <th># of Words</th>\n",
       "    </tr>\n",
       "  </thead>\n",
       "  <tbody>\n",
       "    <tr>\n",
       "      <th>count</th>\n",
       "      <td>3500.000000</td>\n",
       "    </tr>\n",
       "    <tr>\n",
       "      <th>mean</th>\n",
       "      <td>78.094571</td>\n",
       "    </tr>\n",
       "    <tr>\n",
       "      <th>std</th>\n",
       "      <td>73.007565</td>\n",
       "    </tr>\n",
       "    <tr>\n",
       "      <th>min</th>\n",
       "      <td>0.000000</td>\n",
       "    </tr>\n",
       "    <tr>\n",
       "      <th>25%</th>\n",
       "      <td>35.000000</td>\n",
       "    </tr>\n",
       "    <tr>\n",
       "      <th>50%</th>\n",
       "      <td>59.000000</td>\n",
       "    </tr>\n",
       "    <tr>\n",
       "      <th>75%</th>\n",
       "      <td>97.250000</td>\n",
       "    </tr>\n",
       "    <tr>\n",
       "      <th>max</th>\n",
       "      <td>854.000000</td>\n",
       "    </tr>\n",
       "  </tbody>\n",
       "</table>\n",
       "</div>"
      ],
      "text/plain": [
       "        # of Words\n",
       "count  3500.000000\n",
       "mean     78.094571\n",
       "std      73.007565\n",
       "min       0.000000\n",
       "25%      35.000000\n",
       "50%      59.000000\n",
       "75%      97.250000\n",
       "max     854.000000"
      ]
     },
     "execution_count": 38,
     "metadata": {},
     "output_type": "execute_result"
    }
   ],
   "source": [
    "post_lengths = []\n",
    "for post in train_data:\n",
    "    post_lengths.append(len(post.split()))\n",
    "post_length_np = np.array(post_lengths)\n",
    "plt.hist(post_length_np)\n",
    "plt.title(\"Histogram of Number of Words in Post\")\n",
    "plt.show()\n",
    "pd.DataFrame(data = {'# of Words': post_length_np}).describe()"
   ]
  },
  {
   "cell_type": "code",
   "execution_count": 42,
   "metadata": {
    "collapsed": false
   },
   "outputs": [
    {
     "data": {
      "image/png": "[encoded data removed]",
      "text/plain": [
       "<matplotlib.figure.Figure at 0x11cd86990>"
      ]
     },
     "metadata": {},
     "output_type": "display_data"
    },
    {
     "name": "stdout",
     "output_type": "stream",
     "text": [
      "optimal k =  2\n",
      "KNeighborsClassifier(algorithm='auto', leaf_size=30, metric='minkowski',\n",
      "           metric_params=None, n_jobs=1, n_neighbors=2, p=2,\n",
      "           weights='uniform')\n",
      "    accuracy  = 0.757\n",
      "    f1 scores =  [ 0.86166843  0.        ]\n"
     ]
    },
    {
     "data": {
      "image/png": "[encoded data removed]",
      "text/plain": [
       "<matplotlib.figure.Figure at 0x11fe33290>"
      ]
     },
     "metadata": {},
     "output_type": "display_data"
    },
    {
     "name": "stdout",
     "output_type": "stream",
     "text": [
      "optimal C =  0.001\n",
      "LogisticRegression(C=0.001, class_weight=None, dual=False, fit_intercept=True,\n",
      "          intercept_scaling=1, max_iter=100, multi_class='ovr', n_jobs=1,\n",
      "          penalty='l2', random_state=None, solver='liblinear', tol=0.0001,\n",
      "          verbose=0, warm_start=False)\n",
      "    accuracy  =  0.756957328386\n"
     ]
    }
   ],
   "source": [
    "# Method to search for an optimal k for a K Nearest Neighbor vectorizer\n",
    "def knn_optimal_k(vectorizer,train_data,train_labels,dev_data,dev_labels, \\\n",
    "                      k_values=np.arange(1,50)):\n",
    "    train_data_vectorized = vectorizer.fit_transform(train_data)\n",
    "    dev_data_vectorized = vectorizer.transform(dev_data)\n",
    "    \n",
    "    # Fit K-Nearest Neighbor\n",
    "    accuracies = []\n",
    "    for k in k_values:\n",
    "        knn = KNeighborsClassifier(n_neighbors=k)\n",
    "        knn.fit(train_data_vectorized,train_labels)\n",
    "        accuracy = knn.score(dev_data_vectorized,dev_labels)\n",
    "        accuracies.append(accuracy)\n",
    "        #print knn\n",
    "        #print \"accuracy = \",accuracy\n",
    "\n",
    "    plt.plot(k_values,accuracies)\n",
    "    plt.xlabel('k')\n",
    "    plt.ylabel('accuracy')\n",
    "    plt.title('Accuracy for values of k in KNN')\n",
    "    plt.show()    \n",
    "        \n",
    "    optimal_k = k_values[accuracies.index(max(accuracies))]\n",
    "    print \"optimal k = \",optimal_k\n",
    "    \n",
    "    knn = KNeighborsClassifier(n_neighbors=optimal_k)\n",
    "    knn.fit(train_data_vectorized,train_labels)\n",
    "    y_pred = knn.predict(dev_data_vectorized)\n",
    "    print knn\n",
    "    print\"    accuracy  = %2.3f\" % (max(accuracies))\n",
    "    print\"    f1 scores = \", metrics.f1_score(dev_labels, y_pred,average=None)\n",
    "    \n",
    "    \n",
    "def log_res_optimal_C(vectorizer,train_data,train_labels,dev_data,dev_labels, \\\n",
    "                      C_list=[0.001, 0.01, 0.1, 0.5, 1.0]):\n",
    "    train_data_vectorized = vectorizer.fit_transform(train_data)\n",
    "    dev_data_vectorized = vectorizer.transform(dev_data)\n",
    "    \n",
    "    accuracies = []\n",
    "    for C in C_list:\n",
    "        lr = LogisticRegression(C=C).fit(train_data_vectorized,train_labels)\n",
    "        accuracy = lr.score(dev_data_vectorized,dev_labels)\n",
    "        accuracies.append(accuracy)\n",
    "        #print lr\n",
    "        #print \"accuracy =\",accuracy\n",
    "        #print\n",
    "\n",
    "    plt.plot(C_list,accuracies)\n",
    "    plt.xlabel('C')\n",
    "    plt.ylabel('accuracy')\n",
    "    plt.title('Accuracy for values of C in Logistic Regression')\n",
    "    plt.show()\n",
    "   \n",
    "    optimal_C = C_list[accuracies.index(max(accuracies))]\n",
    "    print \"optimal C = \",optimal_C\n",
    "    lr = LogisticRegression(C=optimal_C).fit(train_data_vectorized,train_labels)\n",
    "    print lr\n",
    "    print \"    accuracy  = \",max(accuracies)\n",
    "    \n",
    "knn_optimal_k(cv,train_data,train_labels,dev_data,dev_labels)\n",
    "log_res_optimal_C(cv,train_data,train_labels,dev_data,dev_labels)"
   ]
  },
  {
   "cell_type": "code",
   "execution_count": 25,
   "metadata": {
    "collapsed": true
   },
   "outputs": [],
   "source": [
    "# Use basic pre-processing techniques\n",
    "from nltk.stem.porter import PorterStemmer\n",
    "porter_stemmer = PorterStemmer()\n",
    "\n",
    "def no_preprocessor(s):\n",
    "    return s\n",
    "\n",
    "def better_preprocessor(s):\n",
    "    message = s.lower()\n",
    "    message = re.sub(r\"[^a-zA-Z0-9]\", \" \", message)\n",
    "    message = re.sub(r\"[-]*\", \"\", message)\n",
    "    message = ' '.join([word[0:8] for word in message.split()])\n",
    "    return message\n",
    "\n",
    "def stemming_tokenizer(str_input):\n",
    "    words = str_input.split()\n",
    "    words = [porter_stemmer.stem(word) for word in words]\n",
    "    return words"
   ]
  },
  {
   "cell_type": "markdown",
   "metadata": {},
   "source": [
    "In each of the cases below, while the accuracy is above 70%, we are seeing that none of the cases in the dev dataset are being predicted as 'True'. This could be because of the skewness in the training dataset - where more than 70% of the cases are 'False'.\n",
    "This suggests a major problem in the training dataset. Of the two classes, the dataset is biased towards one of them."
   ]
  },
  {
   "cell_type": "code",
   "execution_count": 32,
   "metadata": {
    "collapsed": false
   },
   "outputs": [
    {
     "name": "stdout",
     "output_type": "stream",
     "text": [
      "Default F1-score (on dev set): 0.7570\n",
      "             precision    recall  f1-score   support\n",
      "\n",
      "      False       0.76      1.00      0.86       408\n",
      "       True       0.00      0.00      0.00       131\n",
      "\n",
      "avg / total       0.57      0.76      0.65       539\n",
      "\n"
     ]
    },
    {
     "name": "stderr",
     "output_type": "stream",
     "text": [
      "/Users/gautamkarnataki/anaconda/envs/dato-env/lib/python2.7/site-packages/sklearn/metrics/classification.py:1074: UndefinedMetricWarning: Precision and F-score are ill-defined and being set to 0.0 in labels with no predicted samples.\n",
      "  'precision', 'predicted', average, warn_for)\n"
     ]
    }
   ],
   "source": [
    "cv = TfidfVectorizer(stop_words='english')\n",
    "transformer = cv.fit_transform(train_data)\n",
    "classifier = KNeighborsClassifier(n_neighbors=8)\n",
    "classifier.fit(transformer,train_labels)\n",
    "dev_data_trans = cv.transform(dev_data)\n",
    "y_pred = classifier.predict(dev_data_trans)\n",
    "print \"Default F1-score (on dev set): %.4f\" % metrics.accuracy_score(y_true=dev_labels, y_pred=y_pred)\n",
    "print metrics.classification_report(y_true=dev_labels, y_pred=y_pred)"
   ]
  },
  {
   "cell_type": "code",
   "execution_count": 33,
   "metadata": {
    "collapsed": false
   },
   "outputs": [
    {
     "name": "stdout",
     "output_type": "stream",
     "text": [
      "Default F1-score (on dev set): 0.7570\n",
      "             precision    recall  f1-score   support\n",
      "\n",
      "      False       0.76      1.00      0.86       408\n",
      "       True       0.00      0.00      0.00       131\n",
      "\n",
      "avg / total       0.57      0.76      0.65       539\n",
      "\n"
     ]
    }
   ],
   "source": [
    "cv = CountVectorizer(stop_words='english',preprocessor=better_preprocessor,tokenizer=stemming_tokenizer,ngram_range=(1,2))\n",
    "transformer = cv.fit_transform(train_data)\n",
    "classifier = LogisticRegression(C=0.001)\n",
    "classifier.fit(transformer,train_labels)\n",
    "dev_data_trans = cv.transform(dev_data)\n",
    "y_pred = classifier.predict(dev_data_trans)\n",
    "print \"Default F1-score (on dev set): %.4f\" % metrics.accuracy_score(y_true=dev_labels, y_pred=y_pred)\n",
    "print metrics.classification_report(y_true=dev_labels, y_pred=y_pred)"
   ]
  },
  {
   "cell_type": "code",
   "execution_count": 34,
   "metadata": {
    "collapsed": false
   },
   "outputs": [
    {
     "name": "stdout",
     "output_type": "stream",
     "text": [
      "Default F1-score (on dev set): 0.7570\n",
      "             precision    recall  f1-score   support\n",
      "\n",
      "      False       0.76      1.00      0.86       408\n",
      "       True       0.00      0.00      0.00       131\n",
      "\n",
      "avg / total       0.57      0.76      0.65       539\n",
      "\n"
     ]
    }
   ],
   "source": [
    "cv = TfidfVectorizer(stop_words='english',preprocessor=no_preprocessor,tokenizer=stemming_tokenizer,ngram_range=(1,1))\n",
    "transformer = cv.fit_transform(train_data)\n",
    "classifier = LogisticRegression(C=0.01)\n",
    "classifier.fit(transformer,train_labels)\n",
    "dev_data_trans = cv.transform(dev_data)\n",
    "y_pred = classifier.predict(dev_data_trans)\n",
    "print \"Default F1-score (on dev set): %.4f\" % metrics.accuracy_score(y_true=dev_labels, y_pred=y_pred)\n",
    "print metrics.classification_report(y_true=dev_labels, y_pred=y_pred)"
   ]
  },
  {
   "cell_type": "markdown",
   "metadata": {},
   "source": [
    "The training dataset has been split in a better way in the function tf_idf_logreg2 below. While there is a drop in accuracy, the confusion matrix shows better precision and recall numbers across all classes."
   ]
  },
  {
   "cell_type": "code",
   "execution_count": 29,
   "metadata": {
    "collapsed": false
   },
   "outputs": [
    {
     "name": "stdout",
     "output_type": "stream",
     "text": [
      "Accuracy (on dev set): 0.7551\n",
      "             precision    recall  f1-score   support\n",
      "\n",
      "      False       0.76      1.00      0.86       408\n",
      "       True       0.00      0.00      0.00       131\n",
      "\n",
      "avg / total       0.57      0.76      0.65       539\n",
      "\n",
      "Accuracy (on dev set): 0.5806\n",
      "             precision    recall  f1-score   support\n",
      "\n",
      "      False       0.54      0.50      0.52        42\n",
      "       True       0.61      0.65      0.63        51\n",
      "\n",
      "avg / total       0.58      0.58      0.58        93\n",
      "\n"
     ]
    }
   ],
   "source": [
    "def tf_idf_logreg1():\n",
    "    data = pd.read_json(\"/Users/gautamkarnataki/MIDS/train.json\")\n",
    "    train_data = data[:3500][\"request_text\"]\n",
    "    train_labels = data[:3500][\"requester_received_pizza\"]\n",
    "    dev_data = data[3501:][\"request_text\"]\n",
    "    dev_labels = data[3501:][\"requester_received_pizza\"]\n",
    "    cv = TfidfVectorizer(stop_words='english',\n",
    "                     preprocessor=better_preprocessor,\n",
    "                     lowercase=True,\n",
    "                     tokenizer=stemming_tokenizer,\n",
    "                     min_df=2, \n",
    "                     max_df=0.5, \n",
    "                     ngram_range=(1,3))\n",
    "    transformer = cv.fit_transform(train_data)\n",
    "    classifier = LogisticRegression()\n",
    "    classifier.fit(transformer,train_labels)\n",
    "    dev_data_trans = cv.transform(dev_data)\n",
    "    y_pred = classifier.predict(dev_data_trans)\n",
    "    print \"Accuracy (on dev set): %.4f\" % metrics.accuracy_score(y_true=dev_labels, y_pred=y_pred)\n",
    "    print metrics.classification_report(y_true=dev_labels, y_pred=y_pred)\n",
    "    \n",
    "def tf_idf_logreg2():\n",
    "    data = pd.read_json(\"/Users/gautamkarnataki/MIDS/train.json\")\n",
    "    all_data = data[data[\"requester_received_pizza\"]==True].iloc[0:1000]\n",
    "    all_data = all_data.append(data[data[\"requester_received_pizza\"]==False].iloc[0:1000])\n",
    "    all_data = all_data.sample(frac=1)\n",
    "    train_data = all_data[:1900][\"request_text\"]\n",
    "    train_labels = all_data[:1900][\"requester_received_pizza\"]\n",
    "    dev_data = all_data[1901:][\"request_text\"]\n",
    "    dev_labels = all_data[1901:][\"requester_received_pizza\"]\n",
    "    cv = TfidfVectorizer(stop_words='english',\n",
    "                     preprocessor=better_preprocessor,\n",
    "                     lowercase=True,\n",
    "                     tokenizer=stemming_tokenizer,\n",
    "                     min_df=2, \n",
    "                     max_df=0.5, \n",
    "                     ngram_range=(1,3))\n",
    "    transformer = cv.fit_transform(train_data)\n",
    "    classifier = LogisticRegression()\n",
    "    classifier.fit(transformer,train_labels)\n",
    "    dev_data_trans = cv.transform(dev_data)\n",
    "    y_pred = classifier.predict(dev_data_trans)\n",
    "    print \"Accuracy (on dev set): %.4f\" % metrics.accuracy_score(y_true=dev_labels, y_pred=y_pred)\n",
    "    print metrics.classification_report(y_true=dev_labels, y_pred=y_pred)\n",
    "\n",
    "    \n",
    "tf_idf_logreg1()\n",
    "tf_idf_logreg2()"
   ]
  },
  {
   "cell_type": "markdown",
   "metadata": {
    "collapsed": true
   },
   "source": [
    "### Baseline:\n"
   ]
  },
  {
   "cell_type": "markdown",
   "metadata": {},
   "source": [
    "This deliverable is a baseline deliverable where we have just extracted the text data from the training set and trained converted the data into both count based and tf-idf based vectors. We have then tried some basic classification algorithms. "
   ]
  },
  {
   "cell_type": "markdown",
   "metadata": {},
   "source": [
    "We also tried a couple of ways of splitting the data and learnt that the training data is biased towards negetive cases."
   ]
  },
  {
   "cell_type": "markdown",
   "metadata": {},
   "source": [
    "### Future Work"
   ]
  },
  {
   "cell_type": "markdown",
   "metadata": {},
   "source": [
    "Over the next few weeks we want to try some more techniques on this dataset:\n",
    "1. Use combination of text and other features in the dataset\n",
    "2. Create features that reflect the 'tone' of the text from these features e.g. politeness etc.\n",
    "3. Find out if users are more sympathetic towards other similar users by using the 'requester_subreddits_at_request' attribute\n",
    "4. Detect if limitations in vocabulary improves the accuracy/ROC\n",
    "5. Find more effective ways of doing the train/dev split. We can see that train.json only has about 4000 datapoints. We want to try out if we can use the generative abilities of the Naive Bayes model to generate more data"
   ]
  },
  {
   "cell_type": "markdown",
   "metadata": {},
   "source": [
    "### References"
   ]
  },
  {
   "cell_type": "markdown",
   "metadata": {},
   "source": [
    "1. How to Ask for a Favor: A Case Study on the Success of Altruistic Requests: https://cs.stanford.edu/~althoff/raop-dataset/altruistic_requests_icwsm.pdf\n",
    "2. https://slate.com/technology/2014/05/researchers-at-stanford-analyzed-random-acts-of-pizza-posts-on-reddit.html\n",
    "3. https://www.huffingtonpost.com/2014/06/04/free-pizza-study-stanford-study_n_5441068.html\n",
    "4. https://blog.algorithmia.com/introduction-natural-language-processing-nlp/"
   ]
  },
  {
   "cell_type": "code",
   "execution_count": null,
   "metadata": {
    "collapsed": true
   },
   "outputs": [],
   "source": []
  }
 ],
 "metadata": {
  "anaconda-cloud": {},
  "kernelspec": {
   "display_name": "Python 2",
   "language": "python",
   "name": "python2"
  },
  "language_info": {
   "codemirror_mode": {
    "name": "ipython",
    "version": 2
   },
   "file_extension": ".py",
   "mimetype": "text/x-python",
   "name": "python",
   "nbconvert_exporter": "python",
   "pygments_lexer": "ipython2",
   "version": "2.7.11"
  }
 },
 "nbformat": 4,
 "nbformat_minor": 0
}
