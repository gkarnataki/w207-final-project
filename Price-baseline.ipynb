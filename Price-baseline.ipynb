{
 "cells": [
  {
   "cell_type": "code",
   "execution_count": 9,
   "metadata": {},
   "outputs": [],
   "source": [
    "%matplotlib inline\n",
    "\n",
    "import pandas as pd\n",
    "import re\n",
    "import numpy as np\n",
    "import matplotlib.pyplot as plt\n",
    "from sklearn.pipeline import Pipeline\n",
    "from sklearn.neighbors import KNeighborsClassifier\n",
    "from sklearn.linear_model import LogisticRegression\n",
    "from sklearn.naive_bayes import BernoulliNB\n",
    "from sklearn.naive_bayes import MultinomialNB\n",
    "from sklearn.grid_search import GridSearchCV\n",
    "\n",
    "# SK-learn libraries for evaluation.\n",
    "from sklearn.metrics import confusion_matrix\n",
    "from sklearn import metrics\n",
    "from sklearn.metrics import classification_report\n",
    "\n",
    "# SK-learn libraries for feature extraction from text.\n",
    "from sklearn.feature_extraction.text import *"
   ]
  },
  {
   "cell_type": "code",
   "execution_count": 10,
   "metadata": {},
   "outputs": [
    {
     "name": "stdout",
     "output_type": "stream",
     "text": [
      "(4040, 2)\n"
     ]
    }
   ],
   "source": [
    "data = pd.read_json(\"train.json\")[[\"request_text\",\"requester_received_pizza\"]]\n",
    "print data.shape\n",
    "train_data = data[:3500][\"request_text\"]\n",
    "train_labels = data[:3500][\"requester_received_pizza\"]\n",
    "dev_data = data[3501:][\"request_text\"]\n",
    "dev_labels = data[3501:][\"requester_received_pizza\"]"
   ]
  },
  {
   "cell_type": "code",
   "execution_count": 28,
   "metadata": {},
   "outputs": [
    {
     "data": {
      "image/png": "[encoded data removed]",
      "text/plain": [
       "<Figure size 432x288 with 1 Axes>"
      ]
     },
     "metadata": {},
     "output_type": "display_data"
    },
    {
     "data": {
      "text/html": [
       "<div>\n",
       "<style scoped>\n",
       "    .dataframe tbody tr th:only-of-type {\n",
       "        vertical-align: middle;\n",
       "    }\n",
       "\n",
       "    .dataframe tbody tr th {\n",
       "        vertical-align: top;\n",
       "    }\n",
       "\n",
       "    .dataframe thead th {\n",
       "        text-align: right;\n",
       "    }\n",
       "</style>\n",
       "<table border=\"1\" class=\"dataframe\">\n",
       "  <thead>\n",
       "    <tr style=\"text-align: right;\">\n",
       "      <th></th>\n",
       "      <th># of Words</th>\n",
       "    </tr>\n",
       "  </thead>\n",
       "  <tbody>\n",
       "    <tr>\n",
       "      <th>count</th>\n",
       "      <td>3500.000000</td>\n",
       "    </tr>\n",
       "    <tr>\n",
       "      <th>mean</th>\n",
       "      <td>78.094571</td>\n",
       "    </tr>\n",
       "    <tr>\n",
       "      <th>std</th>\n",
       "      <td>73.007565</td>\n",
       "    </tr>\n",
       "    <tr>\n",
       "      <th>min</th>\n",
       "      <td>0.000000</td>\n",
       "    </tr>\n",
       "    <tr>\n",
       "      <th>25%</th>\n",
       "      <td>35.000000</td>\n",
       "    </tr>\n",
       "    <tr>\n",
       "      <th>50%</th>\n",
       "      <td>59.000000</td>\n",
       "    </tr>\n",
       "    <tr>\n",
       "      <th>75%</th>\n",
       "      <td>97.250000</td>\n",
       "    </tr>\n",
       "    <tr>\n",
       "      <th>max</th>\n",
       "      <td>854.000000</td>\n",
       "    </tr>\n",
       "  </tbody>\n",
       "</table>\n",
       "</div>"
      ],
      "text/plain": [
       "        # of Words\n",
       "count  3500.000000\n",
       "mean     78.094571\n",
       "std      73.007565\n",
       "min       0.000000\n",
       "25%      35.000000\n",
       "50%      59.000000\n",
       "75%      97.250000\n",
       "max     854.000000"
      ]
     },
     "execution_count": 28,
     "metadata": {},
     "output_type": "execute_result"
    }
   ],
   "source": [
    "post_lengths = []\n",
    "for post in train_data:\n",
    "    post_lengths.append(len(post.split()))\n",
    "post_length_np = np.array(post_lengths)\n",
    "plt.hist(post_length_np)\n",
    "plt.title(\"Histogram of Number of Words in Post\")\n",
    "plt.show()\n",
    "pd.DataFrame(data = {'# of Words': post_length_np}).describe()"
   ]
  },
  {
   "cell_type": "code",
   "execution_count": 4,
   "metadata": {},
   "outputs": [],
   "source": [
    "from nltk.stem.porter import PorterStemmer\n",
    "porter_stemmer = PorterStemmer()\n",
    "\n",
    "def better_preprocessor(s):\n",
    "    message = s.lower()\n",
    "    message = re.sub(r\"[^a-z]\", \" \", message)\n",
    "    message = re.sub(r\"[-]*\", \"\", message)\n",
    "    return message\n",
    "\n",
    "def stemming_tokenizer(str_input):\n",
    "    words = re.sub(r\"[^a-z]\", \" \", str_input).split()\n",
    "    words = [porter_stemmer.stem(word) for word in words]\n",
    "    return words"
   ]
  },
  {
   "cell_type": "code",
   "execution_count": 5,
   "metadata": {},
   "outputs": [
    {
     "name": "stdout",
     "output_type": "stream",
     "text": [
      "Default F1-score (on dev set): 0.7570\n"
     ]
    }
   ],
   "source": [
    "cv = TfidfVectorizer(stop_words='english',preprocessor=better_preprocessor,tokenizer=stemming_tokenizer)\n",
    "transformer = cv.fit_transform(train_data)\n",
    "classifier = KNeighborsClassifier(n_neighbors=11)\n",
    "classifier.fit(transformer,train_labels)\n",
    "dev_data_trans = cv.transform(dev_data)\n",
    "y_pred = classifier.predict(dev_data_trans)\n",
    "print \"Default F1-score (on dev set): %.4f\" % metrics.accuracy_score(y_true=dev_labels, y_pred=y_pred)"
   ]
  },
  {
   "cell_type": "code",
   "execution_count": 16,
   "metadata": {},
   "outputs": [],
   "source": [
    "# Method to search for an optimal k for a K Nearest Neighbor vectorizer\n",
    "def knn_optimal_k(vectorizer,train_data,train_labels,dev_data,dev_labels, \\\n",
    "                      k_values=np.arange(1,50)):\n",
    "    train_data_vectorized = vectorizer.fit_transform(train_data)\n",
    "    dev_data_vectorized = vectorizer.transform(dev_data)\n",
    "    \n",
    "    # Fit K-Nearest Neighbor\n",
    "    accuracies = []\n",
    "    for k in k_values:\n",
    "        knn = KNeighborsClassifier(n_neighbors=k)\n",
    "        knn.fit(train_data_vectorized,train_labels)\n",
    "        accuracy = knn.score(dev_data_vectorized,dev_labels)\n",
    "        accuracies.append(accuracy)\n",
    "        #print knn\n",
    "        #print \"accuracy = \",accuracy\n",
    "\n",
    "    plt.plot(k_values,accuracies)\n",
    "    plt.xlabel('k')\n",
    "    plt.ylabel('accuracy')\n",
    "    plt.title('Accuracy for values of k in KNN')\n",
    "    plt.show()    \n",
    "        \n",
    "    optimal_k = k_values[accuracies.index(max(accuracies))]\n",
    "    print \"optimal k = \",optimal_k\n",
    "    \n",
    "    knn = KNeighborsClassifier(n_neighbors=optimal_k)\n",
    "    knn.fit(train_data_vectorized,train_labels)\n",
    "    y_pred = knn.predict(dev_data_vectorized)\n",
    "    print knn\n",
    "    print\"    accuracy  = %2.3f\" % (max(accuracies))\n",
    "    print\"    f1 scores = \", metrics.f1_score(dev_labels, y_pred,average=None)\n",
    "    print    "
   ]
  },
  {
   "cell_type": "markdown",
   "metadata": {},
   "source": [
    "#### Application of the search for optimal k for our current vectorizer"
   ]
  },
  {
   "cell_type": "code",
   "execution_count": 17,
   "metadata": {},
   "outputs": [
    {
     "data": {
      "image/png": "[encoded data removed]",
      "text/plain": [
       "<Figure size 432x288 with 1 Axes>"
      ]
     },
     "metadata": {},
     "output_type": "display_data"
    },
    {
     "name": "stdout",
     "output_type": "stream",
     "text": [
      "optimal k =  6\n",
      "KNeighborsClassifier(algorithm='auto', leaf_size=30, metric='minkowski',\n",
      "           metric_params=None, n_jobs=1, n_neighbors=6, p=2,\n",
      "           weights='uniform')\n",
      "    accuracy  = 0.759\n",
      "    f1 scores =  [0.86228814 0.02985075]\n",
      "\n"
     ]
    }
   ],
   "source": [
    "knn_optimal_k(cv,train_data,train_labels,dev_data,dev_labels)"
   ]
  },
  {
   "cell_type": "code",
   "execution_count": 26,
   "metadata": {},
   "outputs": [],
   "source": [
    "def log_res_optimal_C(vectorizer,train_data,train_labels,dev_data,dev_labels, \\\n",
    "                      C_list=[0.001, 0.01, 0.1, 0.5, 1.0]):\n",
    "    train_data_vectorized = vectorizer.fit_transform(train_data)\n",
    "    dev_data_vectorized = vectorizer.transform(dev_data)\n",
    "    \n",
    "    accuracies = []\n",
    "    for C in C_list:\n",
    "        lr = LogisticRegression(C=C).fit(train_data_vectorized,train_labels)\n",
    "        accuracy = lr.score(dev_data_vectorized,dev_labels)\n",
    "        accuracies.append(accuracy)\n",
    "        #print lr\n",
    "        #print \"accuracy =\",accuracy\n",
    "        #print\n",
    "\n",
    "    plt.plot(C_list,accuracies)\n",
    "    plt.xlabel('C')\n",
    "    plt.ylabel('accuracy')\n",
    "    plt.title('Accuracy for values of C in Logistic Regression')\n",
    "    plt.show()\n",
    "   \n",
    "    optimal_C = C_list[accuracies.index(max(accuracies))]\n",
    "    print \"optimal C = \",optimal_C\n",
    "    lr = LogisticRegression(C=optimal_C).fit(train_data_vectorized,train_labels)\n",
    "    print lr\n",
    "    print \"    accuracy  = \",max(accuracies)\n",
    "    print"
   ]
  },
  {
   "cell_type": "code",
   "execution_count": 49,
   "metadata": {},
   "outputs": [
    {
     "name": "stdout",
     "output_type": "stream",
     "text": [
      "Default F1-score (on dev set): 0.7570\n"
     ]
    }
   ],
   "source": [
    "# Name for CountVectorizer and Fit Transform changed to differentiate\n",
    "# variable names between candidateVectorizers used in other cells\n",
    "cv = CountVectorizer(stop_words='english',preprocessor=better_preprocessor,tokenizer=stemming_tokenizer)\n",
    "cv_transformer = cv.fit_transform(train_data)\n",
    "classifier = LogisticRegression(C=0.001)\n",
    "classifier.fit(cv_transformer,train_labels)\n",
    "dev_data_trans = cv.transform(dev_data)\n",
    "y_pred = classifier.predict(dev_data_trans)\n",
    "print \"Default F1-score (on dev set): %.4f\" % metrics.accuracy_score(y_true=dev_labels, y_pred=y_pred)"
   ]
  },
  {
   "cell_type": "code",
   "execution_count": 50,
   "metadata": {},
   "outputs": [
    {
     "name": "stdout",
     "output_type": "stream",
     "text": [
      "Number of non-zero elements in fit_transform =  115517\n",
      "Shape of fit transform (3500, 8037)\n",
      "0th feature string  =  aa\n",
      "Last feature string =  zza\n"
     ]
    }
   ],
   "source": [
    "print \"Number of non-zero elements in fit_transform = \",cv_transformer.nnz\n",
    "print \"Shape of fit transform\",cv_transformer.shape\n",
    "print \"0th feature string  = \",cv.get_feature_names()[0]\n",
    "print \"Last feature string = \",cv.get_feature_names()[cv_transformer.shape[1]-1]"
   ]
  },
  {
   "cell_type": "code",
   "execution_count": 51,
   "metadata": {},
   "outputs": [
    {
     "data": {
      "image/png": "[encoded data removed]",
      "text/plain": [
       "<Figure size 432x288 with 1 Axes>"
      ]
     },
     "metadata": {},
     "output_type": "display_data"
    },
    {
     "name": "stdout",
     "output_type": "stream",
     "text": [
      "optimal C =  0.01\n",
      "LogisticRegression(C=0.01, class_weight=None, dual=False, fit_intercept=True,\n",
      "          intercept_scaling=1, max_iter=100, multi_class='ovr', n_jobs=1,\n",
      "          penalty='l2', random_state=None, solver='liblinear', tol=0.0001,\n",
      "          verbose=0, warm_start=False)\n",
      "    accuracy  =  0.764378478664193\n",
      "\n"
     ]
    }
   ],
   "source": [
    "log_res_optimal_C(cv,train_data,train_labels,dev_data,dev_labels)"
   ]
  },
  {
   "cell_type": "code",
   "execution_count": 52,
   "metadata": {},
   "outputs": [
    {
     "name": "stdout",
     "output_type": "stream",
     "text": [
      "Default F1-score (on dev set): 0.7570\n"
     ]
    }
   ],
   "source": [
    "# Name for CountVectorizer and Fit Transform changed to differentiate\n",
    "# variable names between candidateVectorizers used in other cells\n",
    "tfidf = TfidfVectorizer(stop_words='english',preprocessor=better_preprocessor,tokenizer=stemming_tokenizer)\n",
    "tfidf_transformer = tfidf.fit_transform(train_data)\n",
    "classifier = LogisticRegression(C=0.001)\n",
    "classifier.fit(tfidf_transformer,train_labels)\n",
    "dev_data_trans = tfidf.transform(dev_data)\n",
    "y_pred = classifier.predict(dev_data_trans)\n",
    "print \"Default F1-score (on dev set): %.4f\" % metrics.accuracy_score(y_true=dev_labels, y_pred=y_pred)"
   ]
  },
  {
   "cell_type": "code",
   "execution_count": 53,
   "metadata": {},
   "outputs": [
    {
     "name": "stdout",
     "output_type": "stream",
     "text": [
      "Number of non-zero elements in fit_transform =  115517\n",
      "Shape of fit transform (3500, 8037)\n",
      "0th feature string  =  aa\n",
      "Last feature string =  zza\n"
     ]
    }
   ],
   "source": [
    "print \"Number of non-zero elements in fit_transform = \",tfidf_transformer.nnz\n",
    "print \"Shape of fit transform\",tfidf_transformer.shape\n",
    "print \"0th feature string  = \",tfidf.get_feature_names()[0]\n",
    "print \"Last feature string = \",tfidf.get_feature_names()[tfidf_transformer.shape[1]-1]"
   ]
  },
  {
   "cell_type": "markdown",
   "metadata": {},
   "source": [
    "#### Should the TF-IDF Count Vectorizer have the same shape as the standard Count Vectorizer?"
   ]
  },
  {
   "cell_type": "code",
   "execution_count": 31,
   "metadata": {},
   "outputs": [
    {
     "data": {
      "image/png": "[encoded data removed]",
      "text/plain": [
       "<Figure size 432x288 with 1 Axes>"
      ]
     },
     "metadata": {},
     "output_type": "display_data"
    },
    {
     "name": "stdout",
     "output_type": "stream",
     "text": [
      "optimal C =  1e-05\n",
      "LogisticRegression(C=1e-05, class_weight=None, dual=False, fit_intercept=True,\n",
      "          intercept_scaling=1, max_iter=100, multi_class='ovr', n_jobs=1,\n",
      "          penalty='l2', random_state=None, solver='liblinear', tol=0.0001,\n",
      "          verbose=0, warm_start=False)\n",
      "    accuracy  =  0.7569573283858998\n",
      "\n"
     ]
    }
   ],
   "source": [
    "log_res_optimal_C(tfidf,train_data,train_labels,dev_data,dev_labels,[0.00001, 0.0001, 0.001, 0.01, 0.1, 0.5, 1.0])"
   ]
  },
  {
   "cell_type": "markdown",
   "metadata": {},
   "source": [
    "#### TODO : Check into why C = [0.00001, 0.0001, 0.001, 0.01] have same accuracy"
   ]
  },
  {
   "cell_type": "code",
   "execution_count": 90,
   "metadata": {},
   "outputs": [
    {
     "name": "stdout",
     "output_type": "stream",
     "text": [
      "             precision    recall  f1-score   support\n",
      "\n",
      "      False       0.76      1.00      0.86       408\n",
      "       True       0.00      0.00      0.00       131\n",
      "\n",
      "avg / total       0.57      0.76      0.65       539\n",
      "\n"
     ]
    }
   ],
   "source": [
    "print metrics.classification_report(y_true=dev_labels, y_pred=y_pred)"
   ]
  }
 ],
 "metadata": {
  "anaconda-cloud": {},
  "kernelspec": {
   "display_name": "Python 2",
   "language": "python",
   "name": "python2"
  },
  "language_info": {
   "codemirror_mode": {
    "name": "ipython",
    "version": 2
   },
   "file_extension": ".py",
   "mimetype": "text/x-python",
   "name": "python",
   "nbconvert_exporter": "python",
   "pygments_lexer": "ipython2",
   "version": "2.7.15"
  }
 },
 "nbformat": 4,
 "nbformat_minor": 1
}
