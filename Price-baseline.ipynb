{
 "cells": [
  {
   "cell_type": "code",
   "execution_count": 1,
   "metadata": {},
   "outputs": [
    {
     "name": "stderr",
     "output_type": "stream",
     "text": [
      "/Users/dan/anaconda2/lib/python2.7/site-packages/sklearn/cross_validation.py:41: DeprecationWarning: This module was deprecated in version 0.18 in favor of the model_selection module into which all the refactored classes and functions are moved. Also note that the interface of the new CV iterators are different from that of this module. This module will be removed in 0.20.\n",
      "  \"This module will be removed in 0.20.\", DeprecationWarning)\n",
      "/Users/dan/anaconda2/lib/python2.7/site-packages/sklearn/grid_search.py:42: DeprecationWarning: This module was deprecated in version 0.18 in favor of the model_selection module into which all the refactored classes and functions are moved. This module will be removed in 0.20.\n",
      "  DeprecationWarning)\n"
     ]
    }
   ],
   "source": [
    "%matplotlib inline\n",
    "\n",
    "import pandas as pd\n",
    "import re\n",
    "import numpy as np\n",
    "import matplotlib.pyplot as plt\n",
    "from sklearn.pipeline import Pipeline\n",
    "from sklearn.neighbors import KNeighborsClassifier\n",
    "from sklearn.linear_model import LogisticRegression\n",
    "from sklearn.naive_bayes import BernoulliNB\n",
    "from sklearn.naive_bayes import MultinomialNB\n",
    "from sklearn.grid_search import GridSearchCV\n",
    "\n",
    "# SK-learn libraries for evaluation.\n",
    "from sklearn.metrics import confusion_matrix\n",
    "from sklearn import metrics\n",
    "from sklearn.metrics import classification_report\n",
    "\n",
    "# SK-learn libraries for feature extraction from text.\n",
    "from sklearn.feature_extraction.text import *"
   ]
  },
  {
   "cell_type": "code",
   "execution_count": 3,
   "metadata": {},
   "outputs": [
    {
     "name": "stdout",
     "output_type": "stream",
     "text": [
      "(4040, 2)\n"
     ]
    }
   ],
   "source": [
    "data = pd.read_json(\"train.json\")[[\"request_text\",\"requester_received_pizza\"]]\n",
    "print data.shape\n",
    "train_data = data[:3500][\"request_text\"]\n",
    "train_labels = data[:3500][\"requester_received_pizza\"]\n",
    "dev_data = data[3501:][\"request_text\"]\n",
    "dev_labels = data[3501:][\"requester_received_pizza\"]"
   ]
  },
  {
   "cell_type": "code",
   "execution_count": 4,
   "metadata": {},
   "outputs": [],
   "source": [
    "from nltk.stem.porter import PorterStemmer\n",
    "porter_stemmer = PorterStemmer()\n",
    "\n",
    "def better_preprocessor(s):\n",
    "    message = s.lower()\n",
    "    message = re.sub(r\"[^a-z]\", \" \", message)\n",
    "    message = re.sub(r\"[-]*\", \"\", message)\n",
    "    return message\n",
    "\n",
    "def stemming_tokenizer(str_input):\n",
    "    words = re.sub(r\"[^a-z]\", \" \", str_input).split()\n",
    "    words = [porter_stemmer.stem(word) for word in words]\n",
    "    return words"
   ]
  },
  {
   "cell_type": "code",
   "execution_count": 5,
   "metadata": {},
   "outputs": [
    {
     "name": "stdout",
     "output_type": "stream",
     "text": [
      "Default F1-score (on dev set): 0.7570\n"
     ]
    }
   ],
   "source": [
    "cv = TfidfVectorizer(stop_words='english',preprocessor=better_preprocessor,tokenizer=stemming_tokenizer)\n",
    "transformer = cv.fit_transform(train_data)\n",
    "classifier = KNeighborsClassifier(n_neighbors=11)\n",
    "classifier.fit(transformer,train_labels)\n",
    "dev_data_trans = cv.transform(dev_data)\n",
    "y_pred = classifier.predict(dev_data_trans)\n",
    "print \"Default F1-score (on dev set): %.4f\" % metrics.accuracy_score(y_true=dev_labels, y_pred=y_pred)"
   ]
  },
  {
   "cell_type": "code",
   "execution_count": 6,
   "metadata": {},
   "outputs": [
    {
     "name": "stdout",
     "output_type": "stream",
     "text": [
      "Default F1-score (on dev set): 0.7570\n"
     ]
    }
   ],
   "source": [
    "cv = CountVectorizer(stop_words='english',preprocessor=better_preprocessor,tokenizer=stemming_tokenizer)\n",
    "transformer = cv.fit_transform(train_data)\n",
    "classifier = LogisticRegression(C=0.001)\n",
    "classifier.fit(transformer,train_labels)\n",
    "dev_data_trans = cv.transform(dev_data)\n",
    "y_pred = classifier.predict(dev_data_trans)\n",
    "print \"Default F1-score (on dev set): %.4f\" % metrics.accuracy_score(y_true=dev_labels, y_pred=y_pred)"
   ]
  },
  {
   "cell_type": "code",
   "execution_count": 7,
   "metadata": {},
   "outputs": [
    {
     "name": "stdout",
     "output_type": "stream",
     "text": [
      "LogisticRegression(C=0.0001, class_weight=None, dual=False,\n",
      "          fit_intercept=True, intercept_scaling=1, max_iter=100,\n",
      "          multi_class='ovr', n_jobs=1, penalty='l2', random_state=None,\n",
      "          solver='liblinear', tol=0.0001, verbose=0, warm_start=False)\n",
      "\n",
      "LogisticRegression(C=0.001, class_weight=None, dual=False, fit_intercept=True,\n",
      "          intercept_scaling=1, max_iter=100, multi_class='ovr', n_jobs=1,\n",
      "          penalty='l2', random_state=None, solver='liblinear', tol=0.0001,\n",
      "          verbose=0, warm_start=False)\n",
      "\n",
      "LogisticRegression(C=0.01, class_weight=None, dual=False, fit_intercept=True,\n",
      "          intercept_scaling=1, max_iter=100, multi_class='ovr', n_jobs=1,\n",
      "          penalty='l2', random_state=None, solver='liblinear', tol=0.0001,\n",
      "          verbose=0, warm_start=False)\n",
      "\n",
      "LogisticRegression(C=0.1, class_weight=None, dual=False, fit_intercept=True,\n",
      "          intercept_scaling=1, max_iter=100, multi_class='ovr', n_jobs=1,\n",
      "          penalty='l2', random_state=None, solver='liblinear', tol=0.0001,\n",
      "          verbose=0, warm_start=False)\n",
      "\n",
      "LogisticRegression(C=0.5, class_weight=None, dual=False, fit_intercept=True,\n",
      "          intercept_scaling=1, max_iter=100, multi_class='ovr', n_jobs=1,\n",
      "          penalty='l2', random_state=None, solver='liblinear', tol=0.0001,\n",
      "          verbose=0, warm_start=False)\n",
      "\n",
      "LogisticRegression(C=1.0, class_weight=None, dual=False, fit_intercept=True,\n",
      "          intercept_scaling=1, max_iter=100, multi_class='ovr', n_jobs=1,\n",
      "          penalty='l2', random_state=None, solver='liblinear', tol=0.0001,\n",
      "          verbose=0, warm_start=False)\n",
      "\n"
     ]
    },
    {
     "data": {
      "image/png": "[encoded data removed]",
      "text/plain": [
       "<Figure size 432x288 with 1 Axes>"
      ]
     },
     "metadata": {
      "needs_background": "light"
     },
     "output_type": "display_data"
    },
    {
     "name": "stdout",
     "output_type": "stream",
     "text": [
      "optimal C =  0.01\n",
      "LogisticRegression(C=0.01, class_weight=None, dual=False, fit_intercept=True,\n",
      "          intercept_scaling=1, max_iter=100, multi_class='ovr', n_jobs=1,\n",
      "          penalty='l2', random_state=None, solver='liblinear', tol=0.0001,\n",
      "          verbose=0, warm_start=False)\n",
      "    accuracy  =  0.764378478664193\n",
      "\n"
     ]
    }
   ],
   "source": [
    "def find_optimal_C():\n",
    "    vectorizer = CountVectorizer(stop_words='english',preprocessor=better_preprocessor,tokenizer=stemming_tokenizer)\n",
    "    X_train = vectorizer.fit_transform(train_data)\n",
    "    X_dev = vectorizer.transform(dev_data)\n",
    "    # Fit for logistic regression\n",
    "    C_list = [0.0001, 0.001, 0.01, 0.1, 0.5, 1.0]\n",
    "    accuracies = []\n",
    "    for C in C_list:\n",
    "        lr = LogisticRegression(C=C).fit(X_train,train_labels)\n",
    "        accuracies.append(lr.score(X_dev,dev_labels))\n",
    "        print lr\n",
    "        print\n",
    "       \n",
    "    plt.plot(C_list,accuracies)\n",
    "    plt.xlabel('C')\n",
    "    plt.ylabel('accuracy')\n",
    "    plt.title('Accuracy for values of C in Logistic Regression')\n",
    "    #plt.ylim(.64,.72)\n",
    "    plt.show()\n",
    "   \n",
    "    optimal_C = C_list[accuracies.index(max(accuracies))]\n",
    "    print \"optimal C = \",optimal_C\n",
    "    lr = LogisticRegression(C=optimal_C).fit(X_train,train_labels)\n",
    "    print lr\n",
    "    print \"    accuracy  = \",max(accuracies)\n",
    "    print\n",
    " \n",
    "find_optimal_C()"
   ]
  },
  {
   "cell_type": "code",
   "execution_count": 78,
   "metadata": {},
   "outputs": [
    {
     "name": "stdout",
     "output_type": "stream",
     "text": [
      "Default F1-score (on dev set): 0.7570\n"
     ]
    }
   ],
   "source": [
    "cv = TfidfVectorizer(stop_words='english',preprocessor=better_preprocessor,tokenizer=stemming_tokenizer)\n",
    "transformer = cv.fit_transform(train_data)\n",
    "classifier = LogisticRegression(C=0.001)\n",
    "classifier.fit(transformer,train_labels)\n",
    "dev_data_trans = cv.transform(dev_data)\n",
    "y_pred = classifier.predict(dev_data_trans)\n",
    "print \"Default F1-score (on dev set): %.4f\" % metrics.accuracy_score(y_true=dev_labels, y_pred=y_pred)"
   ]
  },
  {
   "cell_type": "code",
   "execution_count": 90,
   "metadata": {},
   "outputs": [
    {
     "name": "stdout",
     "output_type": "stream",
     "text": [
      "             precision    recall  f1-score   support\n",
      "\n",
      "      False       0.76      1.00      0.86       408\n",
      "       True       0.00      0.00      0.00       131\n",
      "\n",
      "avg / total       0.57      0.76      0.65       539\n",
      "\n"
     ]
    }
   ],
   "source": [
    "print metrics.classification_report(y_true=dev_labels, y_pred=y_pred)"
   ]
  },
  {
   "cell_type": "code",
   "execution_count": null,
   "metadata": {
    "collapsed": true
   },
   "outputs": [],
   "source": []
  }
 ],
 "metadata": {
  "anaconda-cloud": {},
  "kernelspec": {
   "display_name": "Python 2",
   "language": "python",
   "name": "python2"
  },
  "language_info": {
   "codemirror_mode": {
    "name": "ipython",
    "version": 2
   },
   "file_extension": ".py",
   "mimetype": "text/x-python",
   "name": "python",
   "nbconvert_exporter": "python",
   "pygments_lexer": "ipython2",
   "version": "2.7.15"
  }
 },
 "nbformat": 4,
 "nbformat_minor": 1
}
