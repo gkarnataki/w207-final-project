{
 "cells": [
  {
   "cell_type": "code",
   "execution_count": 1,
   "metadata": {},
   "outputs": [
    {
     "name": "stderr",
     "output_type": "stream",
     "text": [
      "/Users/dan/anaconda2/lib/python2.7/site-packages/sklearn/cross_validation.py:41: DeprecationWarning: This module was deprecated in version 0.18 in favor of the model_selection module into which all the refactored classes and functions are moved. Also note that the interface of the new CV iterators are different from that of this module. This module will be removed in 0.20.\n",
      "  \"This module will be removed in 0.20.\", DeprecationWarning)\n",
      "/Users/dan/anaconda2/lib/python2.7/site-packages/sklearn/grid_search.py:42: DeprecationWarning: This module was deprecated in version 0.18 in favor of the model_selection module into which all the refactored classes and functions are moved. This module will be removed in 0.20.\n",
      "  DeprecationWarning)\n"
     ]
    }
   ],
   "source": [
    "%matplotlib inline\n",
    "\n",
    "import pandas as pd\n",
    "import re\n",
    "import numpy as np\n",
    "import matplotlib.pyplot as plt\n",
    "from sklearn.pipeline import Pipeline\n",
    "from sklearn.neighbors import KNeighborsClassifier\n",
    "from sklearn.linear_model import LogisticRegression\n",
    "from sklearn.naive_bayes import BernoulliNB\n",
    "from sklearn.naive_bayes import MultinomialNB\n",
    "from sklearn.grid_search import GridSearchCV\n",
    "\n",
    "# SK-learn libraries for evaluation.\n",
    "from sklearn.metrics import confusion_matrix\n",
    "from sklearn import metrics\n",
    "from sklearn.metrics import classification_report\n",
    "\n",
    "# SK-learn libraries for feature extraction from text.\n",
    "from sklearn.feature_extraction.text import *"
   ]
  },
  {
   "cell_type": "code",
   "execution_count": 2,
   "metadata": {},
   "outputs": [
    {
     "data": {
      "text/html": [
       "<div>\n",
       "<style scoped>\n",
       "    .dataframe tbody tr th:only-of-type {\n",
       "        vertical-align: middle;\n",
       "    }\n",
       "\n",
       "    .dataframe tbody tr th {\n",
       "        vertical-align: top;\n",
       "    }\n",
       "\n",
       "    .dataframe thead th {\n",
       "        text-align: right;\n",
       "    }\n",
       "</style>\n",
       "<table border=\"1\" class=\"dataframe\">\n",
       "  <thead>\n",
       "    <tr style=\"text-align: right;\">\n",
       "      <th></th>\n",
       "      <th>giver_username_if_known</th>\n",
       "      <th>number_of_downvotes_of_request_at_retrieval</th>\n",
       "      <th>number_of_upvotes_of_request_at_retrieval</th>\n",
       "      <th>post_was_edited</th>\n",
       "      <th>request_id</th>\n",
       "      <th>request_number_of_comments_at_retrieval</th>\n",
       "      <th>request_text</th>\n",
       "      <th>request_text_edit_aware</th>\n",
       "      <th>request_title</th>\n",
       "      <th>requester_account_age_in_days_at_request</th>\n",
       "      <th>...</th>\n",
       "      <th>requester_received_pizza</th>\n",
       "      <th>requester_subreddits_at_request</th>\n",
       "      <th>requester_upvotes_minus_downvotes_at_request</th>\n",
       "      <th>requester_upvotes_minus_downvotes_at_retrieval</th>\n",
       "      <th>requester_upvotes_plus_downvotes_at_request</th>\n",
       "      <th>requester_upvotes_plus_downvotes_at_retrieval</th>\n",
       "      <th>requester_user_flair</th>\n",
       "      <th>requester_username</th>\n",
       "      <th>unix_timestamp_of_request</th>\n",
       "      <th>unix_timestamp_of_request_utc</th>\n",
       "    </tr>\n",
       "  </thead>\n",
       "  <tbody>\n",
       "    <tr>\n",
       "      <th>0</th>\n",
       "      <td>N/A</td>\n",
       "      <td>0</td>\n",
       "      <td>1</td>\n",
       "      <td>0</td>\n",
       "      <td>t3_l25d7</td>\n",
       "      <td>0</td>\n",
       "      <td>Hi I am in need of food for my 4 children we a...</td>\n",
       "      <td>Hi I am in need of food for my 4 children we a...</td>\n",
       "      <td>Request Colorado Springs Help Us Please</td>\n",
       "      <td>0.0000</td>\n",
       "      <td>...</td>\n",
       "      <td>False</td>\n",
       "      <td>[]</td>\n",
       "      <td>0</td>\n",
       "      <td>1</td>\n",
       "      <td>0</td>\n",
       "      <td>1</td>\n",
       "      <td>None</td>\n",
       "      <td>nickylvst</td>\n",
       "      <td>1317852607</td>\n",
       "      <td>1317849007</td>\n",
       "    </tr>\n",
       "    <tr>\n",
       "      <th>1</th>\n",
       "      <td>N/A</td>\n",
       "      <td>2</td>\n",
       "      <td>5</td>\n",
       "      <td>0</td>\n",
       "      <td>t3_rcb83</td>\n",
       "      <td>0</td>\n",
       "      <td>I spent the last money I had on gas today. Im ...</td>\n",
       "      <td>I spent the last money I had on gas today. Im ...</td>\n",
       "      <td>[Request] California, No cash and I could use ...</td>\n",
       "      <td>501.1111</td>\n",
       "      <td>...</td>\n",
       "      <td>False</td>\n",
       "      <td>[AskReddit, Eve, IAmA, MontereyBay, RandomKind...</td>\n",
       "      <td>34</td>\n",
       "      <td>4258</td>\n",
       "      <td>116</td>\n",
       "      <td>11168</td>\n",
       "      <td>None</td>\n",
       "      <td>fohacidal</td>\n",
       "      <td>1332652424</td>\n",
       "      <td>1332648824</td>\n",
       "    </tr>\n",
       "    <tr>\n",
       "      <th>2</th>\n",
       "      <td>N/A</td>\n",
       "      <td>0</td>\n",
       "      <td>3</td>\n",
       "      <td>0</td>\n",
       "      <td>t3_lpu5j</td>\n",
       "      <td>0</td>\n",
       "      <td>My girlfriend decided it would be a good idea ...</td>\n",
       "      <td>My girlfriend decided it would be a good idea ...</td>\n",
       "      <td>[Request] Hungry couple in Dundee, Scotland wo...</td>\n",
       "      <td>0.0000</td>\n",
       "      <td>...</td>\n",
       "      <td>False</td>\n",
       "      <td>[]</td>\n",
       "      <td>0</td>\n",
       "      <td>3</td>\n",
       "      <td>0</td>\n",
       "      <td>3</td>\n",
       "      <td>None</td>\n",
       "      <td>jacquibatman7</td>\n",
       "      <td>1319650094</td>\n",
       "      <td>1319646494</td>\n",
       "    </tr>\n",
       "  </tbody>\n",
       "</table>\n",
       "<p>3 rows × 32 columns</p>\n",
       "</div>"
      ],
      "text/plain": [
       "  giver_username_if_known  number_of_downvotes_of_request_at_retrieval  \\\n",
       "0                     N/A                                            0   \n",
       "1                     N/A                                            2   \n",
       "2                     N/A                                            0   \n",
       "\n",
       "   number_of_upvotes_of_request_at_retrieval  post_was_edited request_id  \\\n",
       "0                                          1                0   t3_l25d7   \n",
       "1                                          5                0   t3_rcb83   \n",
       "2                                          3                0   t3_lpu5j   \n",
       "\n",
       "   request_number_of_comments_at_retrieval  \\\n",
       "0                                        0   \n",
       "1                                        0   \n",
       "2                                        0   \n",
       "\n",
       "                                        request_text  \\\n",
       "0  Hi I am in need of food for my 4 children we a...   \n",
       "1  I spent the last money I had on gas today. Im ...   \n",
       "2  My girlfriend decided it would be a good idea ...   \n",
       "\n",
       "                             request_text_edit_aware  \\\n",
       "0  Hi I am in need of food for my 4 children we a...   \n",
       "1  I spent the last money I had on gas today. Im ...   \n",
       "2  My girlfriend decided it would be a good idea ...   \n",
       "\n",
       "                                       request_title  \\\n",
       "0            Request Colorado Springs Help Us Please   \n",
       "1  [Request] California, No cash and I could use ...   \n",
       "2  [Request] Hungry couple in Dundee, Scotland wo...   \n",
       "\n",
       "   requester_account_age_in_days_at_request              ...                \\\n",
       "0                                    0.0000              ...                 \n",
       "1                                  501.1111              ...                 \n",
       "2                                    0.0000              ...                 \n",
       "\n",
       "   requester_received_pizza  \\\n",
       "0                     False   \n",
       "1                     False   \n",
       "2                     False   \n",
       "\n",
       "                     requester_subreddits_at_request  \\\n",
       "0                                                 []   \n",
       "1  [AskReddit, Eve, IAmA, MontereyBay, RandomKind...   \n",
       "2                                                 []   \n",
       "\n",
       "   requester_upvotes_minus_downvotes_at_request  \\\n",
       "0                                             0   \n",
       "1                                            34   \n",
       "2                                             0   \n",
       "\n",
       "   requester_upvotes_minus_downvotes_at_retrieval  \\\n",
       "0                                               1   \n",
       "1                                            4258   \n",
       "2                                               3   \n",
       "\n",
       "   requester_upvotes_plus_downvotes_at_request  \\\n",
       "0                                            0   \n",
       "1                                          116   \n",
       "2                                            0   \n",
       "\n",
       "   requester_upvotes_plus_downvotes_at_retrieval  requester_user_flair  \\\n",
       "0                                              1                  None   \n",
       "1                                          11168                  None   \n",
       "2                                              3                  None   \n",
       "\n",
       "   requester_username  unix_timestamp_of_request  \\\n",
       "0           nickylvst                 1317852607   \n",
       "1           fohacidal                 1332652424   \n",
       "2       jacquibatman7                 1319650094   \n",
       "\n",
       "   unix_timestamp_of_request_utc  \n",
       "0                     1317849007  \n",
       "1                     1332648824  \n",
       "2                     1319646494  \n",
       "\n",
       "[3 rows x 32 columns]"
      ]
     },
     "execution_count": 2,
     "metadata": {},
     "output_type": "execute_result"
    }
   ],
   "source": [
    "# We split the train and dev datasets roughly 75/25\n",
    "data = pd.read_json(\"train.json\")\n",
    "train_data = data[:3500][\"request_text\"]\n",
    "train_labels = data[:3500][\"requester_received_pizza\"]\n",
    "dev_data = data[3500:][\"request_text\"]\n",
    "dev_labels = data[3500:][\"requester_received_pizza\"]\n",
    "data.head(3)"
   ]
  },
  {
   "cell_type": "markdown",
   "metadata": {},
   "source": [
    "## Collecting the entire JSON post including metadata in a dataframe. Many of the values are numeric or categoric. They may have value for logistic regression."
   ]
  },
  {
   "cell_type": "code",
   "execution_count": 3,
   "metadata": {},
   "outputs": [],
   "source": [
    "train_data_json = data[:3500]\n",
    "dev_data_json = data[3500:]"
   ]
  },
  {
   "cell_type": "markdown",
   "metadata": {},
   "source": [
    "## Data Column Names"
   ]
  },
  {
   "cell_type": "code",
   "execution_count": 4,
   "metadata": {},
   "outputs": [
    {
     "data": {
      "text/plain": [
       "[u'giver_username_if_known',\n",
       " u'number_of_downvotes_of_request_at_retrieval',\n",
       " u'number_of_upvotes_of_request_at_retrieval',\n",
       " u'post_was_edited',\n",
       " u'request_id',\n",
       " u'request_number_of_comments_at_retrieval',\n",
       " u'request_text',\n",
       " u'request_text_edit_aware',\n",
       " u'request_title',\n",
       " u'requester_account_age_in_days_at_request',\n",
       " u'requester_account_age_in_days_at_retrieval',\n",
       " u'requester_days_since_first_post_on_raop_at_request',\n",
       " u'requester_days_since_first_post_on_raop_at_retrieval',\n",
       " u'requester_number_of_comments_at_request',\n",
       " u'requester_number_of_comments_at_retrieval',\n",
       " u'requester_number_of_comments_in_raop_at_request',\n",
       " u'requester_number_of_comments_in_raop_at_retrieval',\n",
       " u'requester_number_of_posts_at_request',\n",
       " u'requester_number_of_posts_at_retrieval',\n",
       " u'requester_number_of_posts_on_raop_at_request',\n",
       " u'requester_number_of_posts_on_raop_at_retrieval',\n",
       " u'requester_number_of_subreddits_at_request',\n",
       " u'requester_received_pizza',\n",
       " u'requester_subreddits_at_request',\n",
       " u'requester_upvotes_minus_downvotes_at_request',\n",
       " u'requester_upvotes_minus_downvotes_at_retrieval',\n",
       " u'requester_upvotes_plus_downvotes_at_request',\n",
       " u'requester_upvotes_plus_downvotes_at_retrieval',\n",
       " u'requester_user_flair',\n",
       " u'requester_username',\n",
       " u'unix_timestamp_of_request',\n",
       " u'unix_timestamp_of_request_utc']"
      ]
     },
     "execution_count": 4,
     "metadata": {},
     "output_type": "execute_result"
    }
   ],
   "source": [
    "list(train_data_json)"
   ]
  },
  {
   "cell_type": "markdown",
   "metadata": {},
   "source": [
    "## We can assess the metadata for inclusion in a regression model and clean where needed. We will do a lot of plot histograms and getting a statistical summary with the describe() function so we aggregate those functions into one."
   ]
  },
  {
   "cell_type": "code",
   "execution_count": 4,
   "metadata": {},
   "outputs": [],
   "source": [
    "import math\n",
    "\n",
    "def describe_n_hist(df,bins=-1):\n",
    "    if bins == -1:\n",
    "        bins = int(math.ceil(df.max()))        \n",
    "    df.hist(bins=bins)\n",
    "    plt.title(\"Histogram of \"+df.name)\n",
    "    plt.xlabel(df._name)\n",
    "    plt.ylabel(\"Frequency\")\n",
    "    plt.show()\n",
    "    \n",
    "    print(df.describe())"
   ]
  },
  {
   "cell_type": "markdown",
   "metadata": {},
   "source": [
    "## \"giver_username_if_known\": Reddit username of giver if known, i.e. the person satisfying the request (\"N/A\" otherwise). \n",
    "\n",
    "### This is a string value that is not a candidate for regression."
   ]
  },
  {
   "cell_type": "markdown",
   "metadata": {},
   "source": [
    "## \"number_of_downvotes_of_request_at_retrieval\": Number of downvotes at the time the request was collected."
   ]
  },
  {
   "cell_type": "code",
   "execution_count": 95,
   "metadata": {},
   "outputs": [
    {
     "data": {
      "image/png": "[encoded data removed]",
      "text/plain": [
       "<matplotlib.figure.Figure at 0xbe62da0>"
      ]
     },
     "metadata": {},
     "output_type": "display_data"
    },
    {
     "name": "stdout",
     "output_type": "stream",
     "text": [
      "count    3500.000000\n",
      "mean        2.432571\n",
      "std         3.056442\n",
      "min         0.000000\n",
      "25%         1.000000\n",
      "50%         2.000000\n",
      "75%         3.000000\n",
      "max        47.000000\n",
      "Name: number_of_downvotes_of_request_at_retrieval, dtype: float64\n"
     ]
    }
   ],
   "source": [
    "describe_n_hist(train_data_json['number_of_downvotes_of_request_at_retrieval'])"
   ]
  },
  {
   "cell_type": "markdown",
   "metadata": {},
   "source": [
    "## \"number_of_upvotes_of_request_at_retrieval\": Number of upvotes at the time the request was collected."
   ]
  },
  {
   "cell_type": "code",
   "execution_count": 62,
   "metadata": {},
   "outputs": [
    {
     "data": {
      "image/png": "[encoded data removed]",
      "text/plain": [
       "<Figure size 432x288 with 1 Axes>"
      ]
     },
     "metadata": {},
     "output_type": "display_data"
    },
    {
     "name": "stdout",
     "output_type": "stream",
     "text": [
      "count    3500.000000\n",
      "mean        6.256000\n",
      "std        11.249675\n",
      "min         0.000000\n",
      "25%         2.000000\n",
      "50%         4.000000\n",
      "75%         7.000000\n",
      "max       345.000000\n",
      "Name: number_of_upvotes_of_request_at_retrieval, dtype: float64\n"
     ]
    }
   ],
   "source": [
    "describe_n_hist(train_data_json['number_of_upvotes_of_request_at_retrieval'],20)"
   ]
  },
  {
   "cell_type": "markdown",
   "metadata": {},
   "source": [
    "## \"post_was_edited\": Boolean indicating whether this post was edited (from Reddit)."
   ]
  },
  {
   "cell_type": "code",
   "execution_count": 7,
   "metadata": {},
   "outputs": [
    {
     "data": {
      "text/plain": [
       "count    3.500000e+03\n",
       "mean     1.005614e+08\n",
       "std      3.557997e+08\n",
       "min      0.000000e+00\n",
       "25%      0.000000e+00\n",
       "50%      0.000000e+00\n",
       "75%      0.000000e+00\n",
       "max      1.380374e+09\n",
       "Name: post_was_edited, dtype: float64"
      ]
     },
     "execution_count": 7,
     "metadata": {},
     "output_type": "execute_result"
    }
   ],
   "source": [
    "train_data_json['post_was_edited'].describe()"
   ]
  },
  {
   "cell_type": "markdown",
   "metadata": {
    "collapsed": true
   },
   "source": [
    "### \"post_was_edited\" should be a boolean (0 or 1) but miscoded values are present. Cleaning is required."
   ]
  },
  {
   "cell_type": "markdown",
   "metadata": {
    "collapsed": true
   },
   "source": [
    "#### By inspection, it appears that edited posts are typically annotated with the literal string \"edit\". We can correct those."
   ]
  },
  {
   "cell_type": "code",
   "execution_count": 5,
   "metadata": {},
   "outputs": [
    {
     "name": "stderr",
     "output_type": "stream",
     "text": [
      "/Users/dan/anaconda2/lib/python2.7/site-packages/ipykernel_launcher.py:10: SettingWithCopyWarning: \n",
      "A value is trying to be set on a copy of a slice from a DataFrame\n",
      "\n",
      "See the caveats in the documentation: http://pandas.pydata.org/pandas-docs/stable/indexing.html#indexing-view-versus-copy\n",
      "  # Remove the CWD from sys.path while we load stuff.\n",
      "/Users/dan/anaconda2/lib/python2.7/site-packages/IPython/core/interactiveshell.py:2878: SettingWithCopyWarning: \n",
      "A value is trying to be set on a copy of a slice from a DataFrame\n",
      "\n",
      "See the caveats in the documentation: http://pandas.pydata.org/pandas-docs/stable/indexing.html#indexing-view-versus-copy\n",
      "  exec(code_obj, self.user_global_ns, self.user_ns)\n",
      "/Users/dan/anaconda2/lib/python2.7/site-packages/ipykernel_launcher.py:8: SettingWithCopyWarning: \n",
      "A value is trying to be set on a copy of a slice from a DataFrame\n",
      "\n",
      "See the caveats in the documentation: http://pandas.pydata.org/pandas-docs/stable/indexing.html#indexing-view-versus-copy\n",
      "  \n"
     ]
    }
   ],
   "source": [
    "bad_value_indices = []\n",
    "for index,edit in enumerate(train_data_json['post_was_edited']):\n",
    "    if edit == 0 or edit == 1:\n",
    "        continue\n",
    "    else:\n",
    "        bad_value_indices.append(index)\n",
    "        if \"edit\" in train_data_json['request_text'][index]:\n",
    "            train_data_json['post_was_edited'][index] = 1\n",
    "        else:\n",
    "            train_data_json['post_was_edited'][index] = 0"
   ]
  },
  {
   "cell_type": "code",
   "execution_count": 6,
   "metadata": {},
   "outputs": [
    {
     "data": {
      "text/plain": [
       "259"
      ]
     },
     "execution_count": 6,
     "metadata": {},
     "output_type": "execute_result"
    }
   ],
   "source": [
    "len(bad_value_indices)"
   ]
  },
  {
   "cell_type": "markdown",
   "metadata": {},
   "source": [
    "### \"post_was_edited\" had 259 values miscoded to large integers but those are now corrected with caveat that our method for checking for edits could present false positives if \"edit\" appears in the original text."
   ]
  },
  {
   "cell_type": "code",
   "execution_count": 8,
   "metadata": {},
   "outputs": [
    {
     "data": {
      "text/plain": [
       "6      0\n",
       "19     0\n",
       "25     1\n",
       "31     0\n",
       "50     0\n",
       "54     0\n",
       "77     0\n",
       "80     0\n",
       "86     1\n",
       "104    0\n",
       "Name: post_was_edited, dtype: int64"
      ]
     },
     "execution_count": 8,
     "metadata": {},
     "output_type": "execute_result"
    }
   ],
   "source": [
    "train_data_json['post_was_edited'][bad_value_indices].head(10)"
   ]
  },
  {
   "cell_type": "code",
   "execution_count": 9,
   "metadata": {},
   "outputs": [
    {
     "data": {
      "text/plain": [
       "count    3500.000000\n",
       "mean        0.095429\n",
       "std         0.293848\n",
       "min         0.000000\n",
       "25%         0.000000\n",
       "50%         0.000000\n",
       "75%         0.000000\n",
       "max         1.000000\n",
       "Name: post_was_edited, dtype: float64"
      ]
     },
     "execution_count": 9,
     "metadata": {},
     "output_type": "execute_result"
    }
   ],
   "source": [
    "train_data_json['post_was_edited'].describe()"
   ]
  },
  {
   "cell_type": "code",
   "execution_count": 10,
   "metadata": {},
   "outputs": [
    {
     "data": {
      "text/plain": [
       "0    3166\n",
       "1     334\n",
       "Name: post_was_edited, dtype: int64"
      ]
     },
     "execution_count": 10,
     "metadata": {},
     "output_type": "execute_result"
    }
   ],
   "source": [
    "train_data_json['post_was_edited'].value_counts()"
   ]
  },
  {
   "cell_type": "code",
   "execution_count": 10,
   "metadata": {},
   "outputs": [
    {
     "data": {
      "text/plain": [
       "0.09542857142857143"
      ]
     },
     "execution_count": 10,
     "metadata": {},
     "output_type": "execute_result"
    }
   ],
   "source": [
    "train_data_json['post_was_edited'].value_counts()[1]/float(len(train_data_json['post_was_edited']))"
   ]
  },
  {
   "cell_type": "markdown",
   "metadata": {},
   "source": [
    "### About 9.5% of the posts are edited."
   ]
  },
  {
   "cell_type": "code",
   "execution_count": 11,
   "metadata": {},
   "outputs": [
    {
     "data": {
      "image/png": "[encoded data removed]",
      "text/plain": [
       "<Figure size 432x288 with 1 Axes>"
      ]
     },
     "metadata": {},
     "output_type": "display_data"
    }
   ],
   "source": [
    "edit = train_data_json['post_was_edited'].value_counts()\n",
    "plt.bar([0,1], edit, align='center')\n",
    "plt.xticks([0,1], [\"unedited\",\"edited\"])\n",
    "plt.ylabel('Count')\n",
    "plt.title('Unedited and edited posts')\n",
    " \n",
    "plt.show()"
   ]
  },
  {
   "cell_type": "markdown",
   "metadata": {},
   "source": [
    "### We are adding \"number_of_words_in_post\" as a feature"
   ]
  },
  {
   "cell_type": "code",
   "execution_count": 7,
   "metadata": {},
   "outputs": [
    {
     "name": "stderr",
     "output_type": "stream",
     "text": [
      "/Users/dan/anaconda2/lib/python2.7/site-packages/ipykernel_launcher.py:4: SettingWithCopyWarning: \n",
      "A value is trying to be set on a copy of a slice from a DataFrame.\n",
      "Try using .loc[row_indexer,col_indexer] = value instead\n",
      "\n",
      "See the caveats in the documentation: http://pandas.pydata.org/pandas-docs/stable/indexing.html#indexing-view-versus-copy\n",
      "  after removing the cwd from sys.path.\n"
     ]
    },
    {
     "data": {
      "image/png": "[encoded data removed]",
      "text/plain": [
       "<Figure size 432x288 with 1 Axes>"
      ]
     },
     "metadata": {
      "needs_background": "light"
     },
     "output_type": "display_data"
    },
    {
     "name": "stdout",
     "output_type": "stream",
     "text": [
      "count    3500.000000\n",
      "mean       78.094571\n",
      "std        73.007565\n",
      "min         0.000000\n",
      "25%        35.000000\n",
      "50%        59.000000\n",
      "75%        97.250000\n",
      "max       854.000000\n",
      "Name: number_of_words_in_post, dtype: float64\n"
     ]
    }
   ],
   "source": [
    "post_lengths = []\n",
    "for post in train_data_json['request_text']:\n",
    "    post_lengths.append(len(post.split()))\n",
    "train_data_json['number_of_words_in_post'] = pd.DataFrame(np.array(post_lengths))\n",
    "describe_n_hist(train_data_json['number_of_words_in_post'],20)"
   ]
  },
  {
   "cell_type": "markdown",
   "metadata": {},
   "source": [
    "### We are adding \"number_of_words_in_title\" as a feature"
   ]
  },
  {
   "cell_type": "code",
   "execution_count": 8,
   "metadata": {},
   "outputs": [
    {
     "name": "stderr",
     "output_type": "stream",
     "text": [
      "/Users/dan/anaconda2/lib/python2.7/site-packages/ipykernel_launcher.py:4: SettingWithCopyWarning: \n",
      "A value is trying to be set on a copy of a slice from a DataFrame.\n",
      "Try using .loc[row_indexer,col_indexer] = value instead\n",
      "\n",
      "See the caveats in the documentation: http://pandas.pydata.org/pandas-docs/stable/indexing.html#indexing-view-versus-copy\n",
      "  after removing the cwd from sys.path.\n"
     ]
    },
    {
     "data": {
      "image/png": "[encoded data removed]",
      "text/plain": [
       "<Figure size 432x288 with 1 Axes>"
      ]
     },
     "metadata": {
      "needs_background": "light"
     },
     "output_type": "display_data"
    },
    {
     "name": "stdout",
     "output_type": "stream",
     "text": [
      "count    3500.000000\n",
      "mean       12.375429\n",
      "std         6.984994\n",
      "min         1.000000\n",
      "25%         7.000000\n",
      "50%        11.000000\n",
      "75%        16.000000\n",
      "max        52.000000\n",
      "Name: number_of_words_in_title, dtype: float64\n"
     ]
    }
   ],
   "source": [
    "title_lengths = []\n",
    "for title in train_data_json['request_title']:\n",
    "    title_lengths.append(len(title.split()))\n",
    "train_data_json['number_of_words_in_title'] = pd.DataFrame(np.array(title_lengths))\n",
    "describe_n_hist(train_data_json['number_of_words_in_title'],20)"
   ]
  },
  {
   "cell_type": "markdown",
   "metadata": {},
   "source": [
    "### \"requester_number_of_comments_at_retrieval\": Total number of comments on Reddit by requester at time of retrieval."
   ]
  },
  {
   "cell_type": "code",
   "execution_count": 14,
   "metadata": {},
   "outputs": [
    {
     "data": {
      "image/png": "[encoded data removed]",
      "text/plain": [
       "<Figure size 432x288 with 1 Axes>"
      ]
     },
     "metadata": {},
     "output_type": "display_data"
    },
    {
     "name": "stdout",
     "output_type": "stream",
     "text": [
      "count    3500.000000\n",
      "mean        2.914286\n",
      "std         4.711217\n",
      "min         0.000000\n",
      "25%         0.000000\n",
      "50%         1.000000\n",
      "75%         4.000000\n",
      "max        61.000000\n",
      "Name: request_number_of_comments_at_retrieval, dtype: float64\n"
     ]
    }
   ],
   "source": [
    "describe_n_hist(train_data_json['request_number_of_comments_at_retrieval'])"
   ]
  },
  {
   "cell_type": "markdown",
   "metadata": {},
   "source": [
    "### \"requester_user_flair\": Users on RAOP receive badges (Reddit calls them flairs) which is a small picture next to their username. In our data set the user flair is either None (neither given nor received pizza, N=4282), \"shroom\" (received pizza, but not given, N=1306), or \"PIF\" (pizza given after having received, N=83)."
   ]
  },
  {
   "cell_type": "code",
   "execution_count": 13,
   "metadata": {},
   "outputs": [
    {
     "data": {
      "text/plain": [
       "count        863\n",
       "unique         2\n",
       "top       shroom\n",
       "freq         810\n",
       "Name: requester_user_flair, dtype: object"
      ]
     },
     "execution_count": 13,
     "metadata": {},
     "output_type": "execute_result"
    }
   ],
   "source": [
    "train_data_json['requester_user_flair'].describe()"
   ]
  },
  {
   "cell_type": "markdown",
   "metadata": {},
   "source": [
    "#### The \"requester_user_flair\" column has values {\"None\", \"shroom\", \"PIF\"}. According to the describe() function, \"shroom\" appears to be the most frequently occuring value which doesn't match expectations. \"None\" is interpreted as the object reference None instead of the string we desire. We recode the None values as \"None\"."
   ]
  },
  {
   "cell_type": "code",
   "execution_count": 9,
   "metadata": {},
   "outputs": [
    {
     "name": "stderr",
     "output_type": "stream",
     "text": [
      "/Users/dan/anaconda2/lib/python2.7/site-packages/ipykernel_launcher.py:9: SettingWithCopyWarning: \n",
      "A value is trying to be set on a copy of a slice from a DataFrame.\n",
      "Try using .loc[row_indexer,col_indexer] = value instead\n",
      "\n",
      "See the caveats in the documentation: http://pandas.pydata.org/pandas-docs/stable/indexing.html#indexing-view-versus-copy\n",
      "  if __name__ == '__main__':\n"
     ]
    },
    {
     "data": {
      "text/plain": [
       "count     3500\n",
       "unique       3\n",
       "top       None\n",
       "freq      2637\n",
       "Name: requester_user_flair, dtype: object"
      ]
     },
     "execution_count": 9,
     "metadata": {},
     "output_type": "execute_result"
    }
   ],
   "source": [
    "new_requester_user_flair = []\n",
    "for value in train_data_json['requester_user_flair']:\n",
    "    if value == None:\n",
    "        new_requester_user_flair.append(\"None\")\n",
    "    else:\n",
    "        new_requester_user_flair.append(value)\n",
    "\n",
    "#new_requester_user_flair\n",
    "train_data_json['requester_user_flair'] = pd.DataFrame(np.array(new_requester_user_flair))\n",
    "train_data_json['requester_user_flair'].describe()"
   ]
  },
  {
   "cell_type": "code",
   "execution_count": 10,
   "metadata": {},
   "outputs": [
    {
     "data": {
      "image/png": "[encoded data removed]",
      "text/plain": [
       "<Figure size 432x288 with 1 Axes>"
      ]
     },
     "metadata": {
      "needs_background": "light"
     },
     "output_type": "display_data"
    }
   ],
   "source": [
    "keys = list(train_data_json['requester_user_flair'].value_counts().keys())\n",
    "key_pos = np.arange(len(keys))\n",
    "values = list(train_data_json['requester_user_flair'].value_counts().values)\n",
    "\n",
    "plt.bar(key_pos,values, align='center')\n",
    "plt.xticks(key_pos,keys)\n",
    "plt.title(\"Value Counts of requester_user_flair\")\n",
    "plt.xlabel(\"Value\")\n",
    "plt.ylabel(\"Count\")\n",
    "plt.show()"
   ]
  },
  {
   "cell_type": "code",
   "execution_count": 11,
   "metadata": {},
   "outputs": [
    {
     "name": "stderr",
     "output_type": "stream",
     "text": [
      "/Users/dan/anaconda2/lib/python2.7/site-packages/ipykernel_launcher.py:6: SettingWithCopyWarning: \n",
      "A value is trying to be set on a copy of a slice from a DataFrame.\n",
      "Try using .loc[row_indexer,col_indexer] = value instead\n",
      "\n",
      "See the caveats in the documentation: http://pandas.pydata.org/pandas-docs/stable/indexing.html#indexing-view-versus-copy\n",
      "  \n"
     ]
    }
   ],
   "source": [
    "import time\n",
    "day_of_week = []\n",
    "days = {\"Sunday\":1,\"Monday\":2,\"Tuesday\":3,\"Wednesday\":4,\"Thursday\":5,\"Friday\":6,\"Saturday\":7}\n",
    "for timestamp in train_data_json['unix_timestamp_of_request']:\n",
    "    day_of_week.append(days[time.strftime('%A', time.localtime(timestamp))])\n",
    "train_data_json['day_of_week'] = pd.DataFrame(np.array(day_of_week))"
   ]
  },
  {
   "cell_type": "code",
   "execution_count": 12,
   "metadata": {},
   "outputs": [
    {
     "data": {
      "image/png": "[encoded data removed]",
      "text/plain": [
       "<Figure size 432x288 with 1 Axes>"
      ]
     },
     "metadata": {
      "needs_background": "light"
     },
     "output_type": "display_data"
    },
    {
     "name": "stdout",
     "output_type": "stream",
     "text": [
      "count    3500.000000\n",
      "mean        3.888571\n",
      "std         1.978199\n",
      "min         1.000000\n",
      "25%         2.000000\n",
      "50%         4.000000\n",
      "75%         6.000000\n",
      "max         7.000000\n",
      "Name: day_of_week, dtype: float64\n"
     ]
    }
   ],
   "source": [
    "describe_n_hist(train_data_json['day_of_week'],7)"
   ]
  },
  {
   "cell_type": "markdown",
   "metadata": {},
   "source": [
    "### Wednesday is the most likely day to request. Thursday is the least likely day to request."
   ]
  },
  {
   "cell_type": "code",
   "execution_count": 13,
   "metadata": {},
   "outputs": [
    {
     "name": "stderr",
     "output_type": "stream",
     "text": [
      "/Users/dan/anaconda2/lib/python2.7/site-packages/ipykernel_launcher.py:5: SettingWithCopyWarning: \n",
      "A value is trying to be set on a copy of a slice from a DataFrame.\n",
      "Try using .loc[row_indexer,col_indexer] = value instead\n",
      "\n",
      "See the caveats in the documentation: http://pandas.pydata.org/pandas-docs/stable/indexing.html#indexing-view-versus-copy\n",
      "  \"\"\"\n"
     ]
    }
   ],
   "source": [
    "import time\n",
    "month = []\n",
    "for timestamp in train_data_json['unix_timestamp_of_request']:\n",
    "    month.append(int(time.strftime('%-m', time.localtime(timestamp))))\n",
    "train_data_json['month'] = pd.DataFrame(np.array(month))"
   ]
  },
  {
   "cell_type": "code",
   "execution_count": 15,
   "metadata": {},
   "outputs": [
    {
     "data": {
      "image/png": "[encoded data removed]",
      "text/plain": [
       "<Figure size 432x288 with 1 Axes>"
      ]
     },
     "metadata": {
      "needs_background": "light"
     },
     "output_type": "display_data"
    },
    {
     "name": "stdout",
     "output_type": "stream",
     "text": [
      "count    3500.000000\n",
      "mean        6.878571\n",
      "std         2.979850\n",
      "min         1.000000\n",
      "25%         5.000000\n",
      "50%         7.000000\n",
      "75%         9.000000\n",
      "max        12.000000\n",
      "Name: month, dtype: float64\n"
     ]
    }
   ],
   "source": [
    "describe_n_hist(train_data_json['month'])"
   ]
  },
  {
   "cell_type": "markdown",
   "metadata": {},
   "source": [
    "### July is the month with the most requests"
   ]
  },
  {
   "cell_type": "markdown",
   "metadata": {},
   "source": [
    "# There are correlations in the JSON metadata that may justify looking at an ensemble that includes Logistic Regression."
   ]
  },
  {
   "cell_type": "code",
   "execution_count": 16,
   "metadata": {},
   "outputs": [
    {
     "data": {
      "text/plain": [
       "requester_received_pizza                                1.000000\n",
       "requester_number_of_posts_on_raop_at_retrieval          0.464928\n",
       "request_number_of_comments_at_retrieval                 0.290732\n",
       "requester_number_of_comments_in_raop_at_retrieval       0.273771\n",
       "requester_number_of_posts_on_raop_at_request            0.148392\n",
       "requester_number_of_comments_in_raop_at_request         0.133604\n",
       "post_was_edited                                         0.132316\n",
       "requester_days_since_first_post_on_raop_at_retrieval    0.130892\n",
       "requester_account_age_in_days_at_retrieval              0.129714\n",
       "number_of_words_in_post                                 0.118011\n",
       "requester_days_since_first_post_on_raop_at_request      0.107133\n",
       "requester_number_of_comments_at_retrieval               0.106592\n",
       "number_of_upvotes_of_request_at_retrieval               0.095123\n",
       "requester_upvotes_minus_downvotes_at_retrieval          0.077164\n",
       "requester_account_age_in_days_at_request                0.051151\n",
       "requester_number_of_posts_at_retrieval                  0.050299\n",
       "requester_upvotes_plus_downvotes_at_retrieval           0.047772\n",
       "requester_number_of_comments_at_request                 0.036180\n",
       "requester_upvotes_minus_downvotes_at_request            0.034887\n",
       "requester_number_of_subreddits_at_request               0.033526\n",
       "requester_upvotes_plus_downvotes_at_request             0.029534\n",
       "number_of_downvotes_of_request_at_retrieval             0.027698\n",
       "requester_number_of_posts_at_request                    0.024068\n",
       "number_of_words_in_title                                0.014617\n",
       "day_of_week                                            -0.010335\n",
       "month                                                  -0.011393\n",
       "unix_timestamp_of_request_utc                          -0.103567\n",
       "unix_timestamp_of_request                              -0.103570\n",
       "Name: requester_received_pizza, dtype: float64"
      ]
     },
     "execution_count": 16,
     "metadata": {},
     "output_type": "execute_result"
    }
   ],
   "source": [
    "corr_matrix = train_data_json.corr()\n",
    "corr_matrix['requester_received_pizza'].sort_values(ascending=False)"
   ]
  },
  {
   "cell_type": "code",
   "execution_count": 25,
   "metadata": {},
   "outputs": [],
   "source": [
    "y = train_data_json['requester_received_pizza']"
   ]
  },
  {
   "cell_type": "code",
   "execution_count": 26,
   "metadata": {},
   "outputs": [
    {
     "data": {
      "text/plain": [
       "0.8314285714285714"
      ]
     },
     "execution_count": 26,
     "metadata": {},
     "output_type": "execute_result"
    }
   ],
   "source": [
    "X = train_data_json[['requester_number_of_posts_on_raop_at_retrieval']]\n",
    "lr1 = LogisticRegression().fit(X,y)\n",
    "lr1.predict(dev_data_json[['requester_number_of_posts_on_raop_at_retrieval']])\n",
    "lr1.score(X,y)"
   ]
  },
  {
   "cell_type": "code",
   "execution_count": 27,
   "metadata": {},
   "outputs": [
    {
     "data": {
      "text/plain": [
       "0.8362857142857143"
      ]
     },
     "execution_count": 27,
     "metadata": {},
     "output_type": "execute_result"
    }
   ],
   "source": [
    "X2 = train_data_json[['requester_number_of_posts_on_raop_at_retrieval', \\\n",
    "                      'request_number_of_comments_at_retrieval']]\n",
    "lr2 = LogisticRegression().fit(X2,y)\n",
    "lr2.predict(dev_data_json[['requester_number_of_posts_on_raop_at_retrieval', \\\n",
    "                           'request_number_of_comments_at_retrieval']])\n",
    "lr2.score(X2,y)"
   ]
  },
  {
   "cell_type": "code",
   "execution_count": 28,
   "metadata": {},
   "outputs": [
    {
     "data": {
      "text/plain": [
       "0.836"
      ]
     },
     "execution_count": 28,
     "metadata": {},
     "output_type": "execute_result"
    }
   ],
   "source": [
    "X3 = train_data_json[['requester_number_of_posts_on_raop_at_retrieval', \\\n",
    "                      'request_number_of_comments_at_retrieval', \\\n",
    "                      'requester_number_of_comments_in_raop_at_retrieval']]\n",
    "lr3 = LogisticRegression().fit(X3,y)\n",
    "lr3.predict(dev_data_json[['requester_number_of_posts_on_raop_at_retrieval', \\\n",
    "                           'request_number_of_comments_at_retrieval', \\\n",
    "                           'requester_number_of_comments_in_raop_at_retrieval']])\n",
    "lr3.score(X3,y)"
   ]
  },
  {
   "cell_type": "code",
   "execution_count": 29,
   "metadata": {},
   "outputs": [
    {
     "data": {
      "text/plain": [
       "0.8388571428571429"
      ]
     },
     "execution_count": 29,
     "metadata": {},
     "output_type": "execute_result"
    }
   ],
   "source": [
    "X4 = train_data_json[['requester_number_of_posts_on_raop_at_retrieval', \\\n",
    "                      'request_number_of_comments_at_retrieval', \\\n",
    "                      'requester_number_of_comments_in_raop_at_retrieval',\n",
    "                      'requester_number_of_posts_on_raop_at_request']]\n",
    "lr4 = LogisticRegression().fit(X4,y)\n",
    "lr4.predict(dev_data_json[['requester_number_of_posts_on_raop_at_retrieval',\\\n",
    "                           'request_number_of_comments_at_retrieval', \\\n",
    "                           'requester_number_of_comments_in_raop_at_retrieval',\n",
    "                           'requester_number_of_posts_on_raop_at_request']])\n",
    "lr4.score(X4,y)"
   ]
  }
 ],
 "metadata": {
  "anaconda-cloud": {},
  "kernelspec": {
   "display_name": "Python 2",
   "language": "python",
   "name": "python2"
  },
  "language_info": {
   "codemirror_mode": {
    "name": "ipython",
    "version": 2
   },
   "file_extension": ".py",
   "mimetype": "text/x-python",
   "name": "python",
   "nbconvert_exporter": "python",
   "pygments_lexer": "ipython2",
   "version": "2.7.15"
  }
 },
 "nbformat": 4,
 "nbformat_minor": 2
}
