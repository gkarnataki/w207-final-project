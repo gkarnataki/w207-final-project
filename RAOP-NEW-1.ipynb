{
 "cells": [
  {
   "cell_type": "code",
   "execution_count": 1,
   "metadata": {},
   "outputs": [],
   "source": [
    "%matplotlib inline\n",
    "\n",
    "import pandas as pd\n",
    "import numpy as np\n",
    "import matplotlib.pyplot as plt\n",
    "from sklearn.model_selection import train_test_split\n",
    "from datetime import datetime\n",
    "import re\n",
    "from sklearn.linear_model import LogisticRegression\n",
    "import itertools\n",
    "\n",
    "\n",
    "# SK-learn libraries for evaluation.\n",
    "from sklearn.metrics import confusion_matrix\n",
    "from sklearn import metrics\n",
    "from sklearn.metrics import classification_report\n",
    "from scipy.optimize import minimize\n",
    "from sklearn.metrics import log_loss\n",
    "from sklearn.metrics import roc_curve, auc\n",
    "\n",
    "# SK-learn libraries for feature extraction from text.\n",
    "from sklearn.feature_extraction.text import *"
   ]
  },
  {
   "cell_type": "code",
   "execution_count": 2,
   "metadata": {},
   "outputs": [],
   "source": [
    "def evaluate(classes,y_true,y_pred,normalize=True):\n",
    "    print (classification_report(y_true, y_pred))\n",
    "    print (\"roc_auc_score : %f \" % metrics.roc_auc_score(y_true, y_pred))\n",
    "    \n",
    "    cmap=plt.cm.Blues\n",
    "    cm=confusion_matrix(y_true,y_pred)\n",
    "    if normalize:\n",
    "        cm = cm.astype('float') / cm.sum(axis=1)[:, np.newaxis]\n",
    "\n",
    "    f, axarr = plt.subplots(1,2,figsize=(12,4))\n",
    "    # plot confusion matrix\n",
    "    plt.subplot(1, 2, 1)\n",
    "    plt.imshow(cm, interpolation='nearest', cmap=cmap)\n",
    "    plt.title('Confusion Matrix')\n",
    "    plt.colorbar()\n",
    "    tick_marks = np.arange(len(classes))\n",
    "    plt.xticks(tick_marks, classes, rotation=45)\n",
    "    plt.yticks(tick_marks, classes)\n",
    "\n",
    "    fmt = '.2f' if normalize else 'd'\n",
    "    thresh = cm.max() / 2.\n",
    "    for i, j in itertools.product(range(cm.shape[0]), range(cm.shape[1])):\n",
    "        plt.text(j, i, format(cm[i, j], fmt),\n",
    "                 horizontalalignment=\"center\",\n",
    "                 color=\"black\" if cm[i, j] > thresh else \"black\")\n",
    "\n",
    "    plt.ylabel('True label')\n",
    "    plt.xlabel('Predicted label')\n",
    "    #plt.tight_layout()\n",
    "    \n",
    "    # plot roc curve\n",
    "    plt.subplot(1, 2, 2)\n",
    "    fpr,tpr,_ = roc_curve(y_true,y_pred)\n",
    "    auc = metrics.roc_auc_score(y_true,y_pred)\n",
    "    plt.plot(fpr,tpr,label=\"roc_auc_score : %f \"% auc)\n",
    "    plt.plot([0, 1], [0, 1], 'k--')\n",
    "    plt.legend(loc=4)\n",
    "    plt.title('ROC Curve')\n",
    "    plt.ylabel('True Positive Rate')\n",
    "    plt.xlabel('False Positive Rate')\n",
    "\n",
    "    plt.show()"
   ]
  },
  {
   "cell_type": "code",
   "execution_count": 3,
   "metadata": {},
   "outputs": [],
   "source": [
    "data = pd.read_json(\"data/train.json\")\n",
    "data['year']=data.apply(lambda x: datetime.utcfromtimestamp(x['unix_timestamp_of_request_utc']).strftime('%Y'), axis=1).astype(int)\n",
    "data['month']=data.apply(lambda x: datetime.utcfromtimestamp(x['unix_timestamp_of_request_utc']).strftime('%m'), axis=1).astype(int)\n",
    "data['day']=data.apply(lambda x: datetime.utcfromtimestamp(x['unix_timestamp_of_request_utc']).strftime('%d'), axis=1).astype(int)\n",
    "data['dayofweek']=data.apply(lambda x: datetime.utcfromtimestamp(x['unix_timestamp_of_request_utc']).weekday(), axis=1).astype(int)\n",
    "data=data.drop(['unix_timestamp_of_request'], axis=1)\n",
    "data=data.drop(['request_id'], axis=1)\n",
    "data=data.drop(['unix_timestamp_of_request_utc'], axis=1)\n",
    "data=data.drop(['request_text_edit_aware'], axis=1)\n",
    "data=data.drop(['request_title'], axis=1)\n",
    "data=data.drop(['requester_subreddits_at_request'], axis=1)\n",
    "data=data.drop(['requester_username'], axis=1)\n",
    "data=data.drop(['giver_username_if_known'], axis=1)\n",
    "data=data.drop(['requester_user_flair'], axis=1)\n",
    "data=data.drop(['requester_days_since_first_post_on_raop_at_retrieval'], axis=1)\n",
    "#data=data.drop(['requester_account_age_in_days_at_request'], axis=1)\n",
    "data=data.drop(['requester_account_age_in_days_at_retrieval'], axis=1)\n",
    "data=data.drop(['number_of_downvotes_of_request_at_retrieval'], axis=1)\n",
    "data=data.drop(['number_of_upvotes_of_request_at_retrieval'], axis=1)\n",
    "data=data.drop(['post_was_edited'], axis=1)\n",
    "data=data.drop(['request_number_of_comments_at_retrieval'], axis=1)\n",
    "data=data.drop(['requester_number_of_comments_at_retrieval'], axis=1)\n",
    "data=data.drop(['requester_number_of_comments_in_raop_at_retrieval'], axis=1)\n",
    "data=data.drop(['requester_number_of_posts_at_retrieval'], axis=1)\n",
    "data=data.drop(['requester_number_of_posts_on_raop_at_retrieval'], axis=1)\n",
    "data=data.drop(['requester_upvotes_minus_downvotes_at_retrieval'], axis=1)\n",
    "data=data.drop(['requester_upvotes_plus_downvotes_at_retrieval'], axis=1)"
   ]
  },
  {
   "cell_type": "code",
   "execution_count": 4,
   "metadata": {},
   "outputs": [
    {
     "data": {
      "text/plain": [
       "requester_received_pizza\n",
       "False    3046\n",
       "True      994\n",
       "dtype: int64"
      ]
     },
     "execution_count": 4,
     "metadata": {},
     "output_type": "execute_result"
    }
   ],
   "source": [
    "data.groupby(['requester_received_pizza']).size()"
   ]
  },
  {
   "cell_type": "markdown",
   "metadata": {},
   "source": [
    "### Balance the classes by oversampling the success label"
   ]
  },
  {
   "cell_type": "code",
   "execution_count": 5,
   "metadata": {},
   "outputs": [
    {
     "data": {
      "text/plain": [
       "requester_received_pizza\n",
       "False    3046\n",
       "True      994\n",
       "dtype: int64"
      ]
     },
     "execution_count": 5,
     "metadata": {},
     "output_type": "execute_result"
    }
   ],
   "source": [
    "data.groupby(['requester_received_pizza']).size()"
   ]
  },
  {
   "cell_type": "code",
   "execution_count": 6,
   "metadata": {},
   "outputs": [],
   "source": [
    "from sklearn.model_selection import train_test_split\n",
    "\n",
    "train_data, dev_data = train_test_split(data, test_size=0.3)\n",
    "\n",
    "#over sample train data\n",
    "train_data_fail = train_data[train_data['requester_received_pizza'] == 0]\n",
    "train_data_success = train_data[train_data['requester_received_pizza'] == 1]\n",
    "train_data = pd.concat([train_data_fail, train_data_success,\n",
    "                     train_data_success, train_data_success], axis = 0)\n"
   ]
  },
  {
   "cell_type": "code",
   "execution_count": 7,
   "metadata": {},
   "outputs": [
    {
     "name": "stdout",
     "output_type": "stream",
     "text": [
      "requester_received_pizza\n",
      "False    2133\n",
      "True     2085\n",
      "dtype: int64\n",
      "(4218, 13)\n",
      "(4218,)\n",
      "(1212, 13)\n",
      "(1212,)\n"
     ]
    }
   ],
   "source": [
    "print (train_data.groupby(['requester_received_pizza']).size())\n",
    "\n",
    "train_labels = train_data[\"requester_received_pizza\"]\n",
    "dev_labels = dev_data[\"requester_received_pizza\"]\n",
    "train_data=train_data.drop(['requester_received_pizza'], axis=1)\n",
    "dev_data=dev_data.drop(['requester_received_pizza'], axis=1)\n",
    "\n",
    "train_data_text = train_data[\"request_text\"]\n",
    "train_data=train_data.drop(['request_text'], axis=1)\n",
    "dev_data_text = dev_data[\"request_text\"]\n",
    "dev_data=dev_data.drop(['request_text'], axis=1)\n",
    "\n",
    "print (train_data.shape)\n",
    "print (train_data_text.shape)\n",
    "print (dev_data.shape)\n",
    "print (dev_data_text.shape)"
   ]
  },
  {
   "cell_type": "code",
   "execution_count": 8,
   "metadata": {},
   "outputs": [
    {
     "data": {
      "text/html": [
       "<div>\n",
       "<style scoped>\n",
       "    .dataframe tbody tr th:only-of-type {\n",
       "        vertical-align: middle;\n",
       "    }\n",
       "\n",
       "    .dataframe tbody tr th {\n",
       "        vertical-align: top;\n",
       "    }\n",
       "\n",
       "    .dataframe thead th {\n",
       "        text-align: right;\n",
       "    }\n",
       "</style>\n",
       "<table border=\"1\" class=\"dataframe\">\n",
       "  <thead>\n",
       "    <tr style=\"text-align: right;\">\n",
       "      <th></th>\n",
       "      <th>requester_account_age_in_days_at_request</th>\n",
       "      <th>requester_days_since_first_post_on_raop_at_request</th>\n",
       "      <th>requester_number_of_comments_at_request</th>\n",
       "      <th>requester_number_of_comments_in_raop_at_request</th>\n",
       "      <th>requester_number_of_posts_at_request</th>\n",
       "      <th>requester_number_of_posts_on_raop_at_request</th>\n",
       "      <th>requester_number_of_subreddits_at_request</th>\n",
       "      <th>requester_upvotes_minus_downvotes_at_request</th>\n",
       "      <th>requester_upvotes_plus_downvotes_at_request</th>\n",
       "      <th>year</th>\n",
       "      <th>month</th>\n",
       "      <th>day</th>\n",
       "      <th>dayofweek</th>\n",
       "    </tr>\n",
       "  </thead>\n",
       "  <tbody>\n",
       "    <tr>\n",
       "      <th>2457</th>\n",
       "      <td>91.798958</td>\n",
       "      <td>91.790625</td>\n",
       "      <td>195</td>\n",
       "      <td>1</td>\n",
       "      <td>31</td>\n",
       "      <td>1</td>\n",
       "      <td>28</td>\n",
       "      <td>442</td>\n",
       "      <td>626</td>\n",
       "      <td>2012</td>\n",
       "      <td>7</td>\n",
       "      <td>23</td>\n",
       "      <td>0</td>\n",
       "    </tr>\n",
       "  </tbody>\n",
       "</table>\n",
       "</div>"
      ],
      "text/plain": [
       "      requester_account_age_in_days_at_request  \\\n",
       "2457                                 91.798958   \n",
       "\n",
       "      requester_days_since_first_post_on_raop_at_request  \\\n",
       "2457                                          91.790625    \n",
       "\n",
       "      requester_number_of_comments_at_request  \\\n",
       "2457                                      195   \n",
       "\n",
       "      requester_number_of_comments_in_raop_at_request  \\\n",
       "2457                                                1   \n",
       "\n",
       "      requester_number_of_posts_at_request  \\\n",
       "2457                                    31   \n",
       "\n",
       "      requester_number_of_posts_on_raop_at_request  \\\n",
       "2457                                             1   \n",
       "\n",
       "      requester_number_of_subreddits_at_request  \\\n",
       "2457                                         28   \n",
       "\n",
       "      requester_upvotes_minus_downvotes_at_request  \\\n",
       "2457                                           442   \n",
       "\n",
       "      requester_upvotes_plus_downvotes_at_request  year  month  day  dayofweek  \n",
       "2457                                          626  2012      7   23          0  "
      ]
     },
     "execution_count": 8,
     "metadata": {},
     "output_type": "execute_result"
    }
   ],
   "source": [
    "train_data.head(1)"
   ]
  },
  {
   "cell_type": "code",
   "execution_count": 9,
   "metadata": {},
   "outputs": [],
   "source": [
    "class_names = ['No-Pizza','Pizza']\n",
    "import string\n",
    "def better_preprocessor(s):\n",
    "    if len(s)>1: \n",
    "      for char in string.punctuation:\n",
    "         s = s.replace(char, ' ').lower()\n",
    "    elif (s.isdigit()):\n",
    "        s = ' '\n",
    "    else: s=' '        \n",
    "    return s"
   ]
  },
  {
   "cell_type": "code",
   "execution_count": 10,
   "metadata": {},
   "outputs": [],
   "source": [
    "from nltk.stem.porter import PorterStemmer\n",
    "porter_stemmer = PorterStemmer()\n",
    "\n",
    "def stemming_tokenizer(str_input):\n",
    "    words = str_input.split()\n",
    "    words = [porter_stemmer.stem(word) for word in words]\n",
    "    return words"
   ]
  },
  {
   "cell_type": "code",
   "execution_count": 11,
   "metadata": {},
   "outputs": [
    {
     "name": "stdout",
     "output_type": "stream",
     "text": [
      "6231\n"
     ]
    }
   ],
   "source": [
    "vectorizer = TfidfVectorizer(stop_words='english',\n",
    "                     preprocessor=better_preprocessor\n",
    "                     #,tokenizer=stemming_tokenizer\n",
    "                      ,min_df=2, \n",
    "                      max_df=0.5, \n",
    "                     ngram_range=(1,1)       \n",
    "                     )\n",
    "X = vectorizer.fit_transform(train_data_text)\n",
    "print (len(vectorizer.get_feature_names()))"
   ]
  },
  {
   "cell_type": "code",
   "execution_count": 12,
   "metadata": {},
   "outputs": [],
   "source": [
    "#Fit Logistic Regression model\n",
    "from sklearn.linear_model import LogisticRegression\n",
    "clf = LogisticRegression(random_state=0,solver='lbfgs',C=0.21,\n",
    "multi_class='multinomial',class_weight='balanced').fit(X,train_labels)\n",
    "features=vectorizer.get_feature_names()"
   ]
  },
  {
   "cell_type": "code",
   "execution_count": 13,
   "metadata": {},
   "outputs": [
    {
     "name": "stdout",
     "output_type": "stream",
     "text": [
      "\n",
      "F1 Score for Logistic Regression Classifier : 0.6542527656809434\n"
     ]
    }
   ],
   "source": [
    "from sklearn import metrics\n",
    "\n",
    "X_dev = vectorizer.transform(dev_data_text)\n",
    "predicted = clf.predict(X_dev)\n",
    "f=metrics.f1_score(dev_labels, predicted, average='weighted')\n",
    "print ('\\nF1 Score for Logistic Regression Classifier : %r' % f)"
   ]
  },
  {
   "cell_type": "code",
   "execution_count": 14,
   "metadata": {},
   "outputs": [
    {
     "name": "stdout",
     "output_type": "stream",
     "text": [
      "              precision    recall  f1-score   support\n",
      "\n",
      "       False       0.79      0.70      0.75       913\n",
      "        True       0.33      0.44      0.37       299\n",
      "\n",
      "   micro avg       0.64      0.64      0.64      1212\n",
      "   macro avg       0.56      0.57      0.56      1212\n",
      "weighted avg       0.68      0.64      0.65      1212\n",
      "\n",
      "roc_auc_score : 0.571199 \n"
     ]
    },
    {
     "data": {
      "image/png": "[encoded data removed]",
      "text/plain": [
       "<Figure size 864x288 with 3 Axes>"
      ]
     },
     "metadata": {},
     "output_type": "display_data"
    }
   ],
   "source": [
    "evaluate(class_names,dev_labels,predicted,True)"
   ]
  },
  {
   "cell_type": "code",
   "execution_count": 15,
   "metadata": {},
   "outputs": [],
   "source": [
    "from sklearn.model_selection import GridSearchCV\n",
    "\n",
    "param_range=[0.0001,0.0005,0.001]\n",
    "parameters = {'C': param_range, 'solver':['lbfgs'] }\n",
    "\n",
    "gs_clf=GridSearchCV(clf, parameters, cv=5, iid=False, n_jobs=-1,scoring='roc_auc')\n",
    "gs_clf = gs_clf.fit(X, train_labels)"
   ]
  },
  {
   "cell_type": "code",
   "execution_count": 16,
   "metadata": {},
   "outputs": [
    {
     "data": {
      "text/plain": [
       "{'C': 0.001, 'solver': 'lbfgs'}"
      ]
     },
     "execution_count": 16,
     "metadata": {},
     "output_type": "execute_result"
    }
   ],
   "source": [
    "gs_clf.best_params_"
   ]
  },
  {
   "cell_type": "code",
   "execution_count": 17,
   "metadata": {},
   "outputs": [],
   "source": [
    "lr_clf = gs_clf.best_estimator_\n",
    "predicted = lr_clf.predict(X_dev)\n",
    "dev_probs=lr_clf.predict_proba(X_dev)\n",
    "predicted=[True if dev_probs[k][1] > 0.50 else False for k in range(len(dev_probs))]"
   ]
  },
  {
   "cell_type": "code",
   "execution_count": 18,
   "metadata": {},
   "outputs": [
    {
     "name": "stdout",
     "output_type": "stream",
     "text": [
      "              precision    recall  f1-score   support\n",
      "\n",
      "       False       0.81      0.68      0.74       913\n",
      "        True       0.35      0.51      0.41       299\n",
      "\n",
      "   micro avg       0.64      0.64      0.64      1212\n",
      "   macro avg       0.58      0.60      0.58      1212\n",
      "weighted avg       0.70      0.64      0.66      1212\n",
      "\n",
      "roc_auc_score : 0.596459 \n"
     ]
    },
    {
     "data": {
      "image/png": "[encoded data removed]",
      "text/plain": [
       "<Figure size 864x288 with 3 Axes>"
      ]
     },
     "metadata": {},
     "output_type": "display_data"
    }
   ],
   "source": [
    "evaluate(class_names,dev_labels,predicted,True)"
   ]
  },
  {
   "cell_type": "code",
   "execution_count": 19,
   "metadata": {},
   "outputs": [
    {
     "data": {
      "text/plain": [
       "RandomForestClassifier(bootstrap=True, class_weight='balanced',\n",
       "            criterion='gini', max_depth=80, max_features='sqrt',\n",
       "            max_leaf_nodes=None, min_impurity_decrease=0.0,\n",
       "            min_impurity_split=None, min_samples_leaf=1,\n",
       "            min_samples_split=11, min_weight_fraction_leaf=0.0,\n",
       "            n_estimators=300, n_jobs=None, oob_score=False,\n",
       "            random_state=None, verbose=0, warm_start=False)"
      ]
     },
     "execution_count": 19,
     "metadata": {},
     "output_type": "execute_result"
    }
   ],
   "source": [
    "from sklearn.ensemble import RandomForestClassifier\n",
    "from sklearn.datasets import make_classification\n",
    "\n",
    "y=train_labels\n",
    "X=train_data\n",
    "class_weight='balanced'\n",
    "rfclf = RandomForestClassifier(n_estimators=300,max_features='sqrt',max_depth=80,min_samples_leaf=1,bootstrap=True,min_samples_split=11,class_weight=class_weight)\n",
    "rfclf.fit(X, y)"
   ]
  },
  {
   "cell_type": "code",
   "execution_count": 20,
   "metadata": {},
   "outputs": [
    {
     "name": "stdout",
     "output_type": "stream",
     "text": [
      "Accuracy of classifier on dev set: 0.70\n",
      "LogLoss : 10.430129453577905\n"
     ]
    }
   ],
   "source": [
    "X_test=dev_data\n",
    "y_test=dev_labels\n",
    "y_pred = rfclf.predict(X_test)\n",
    "print('Accuracy of classifier on dev set: {:.2f}'.format(rfclf.score(X_test, y_test)))\n",
    "print('LogLoss : {score}'.format(score=log_loss(y_test, y_pred)))"
   ]
  },
  {
   "cell_type": "code",
   "execution_count": 21,
   "metadata": {},
   "outputs": [
    {
     "name": "stdout",
     "output_type": "stream",
     "text": [
      "              precision    recall  f1-score   support\n",
      "\n",
      "       False       0.78      0.83      0.81       913\n",
      "        True       0.36      0.30      0.33       299\n",
      "\n",
      "   micro avg       0.70      0.70      0.70      1212\n",
      "   macro avg       0.57      0.56      0.57      1212\n",
      "weighted avg       0.68      0.70      0.69      1212\n",
      "\n",
      "roc_auc_score : 0.563397 \n"
     ]
    },
    {
     "data": {
      "image/png": "[encoded data removed]",
      "text/plain": [
       "<Figure size 864x288 with 3 Axes>"
      ]
     },
     "metadata": {},
     "output_type": "display_data"
    }
   ],
   "source": [
    "evaluate(class_names,dev_labels,y_pred,True)"
   ]
  },
  {
   "cell_type": "code",
   "execution_count": 22,
   "metadata": {},
   "outputs": [],
   "source": [
    "predictions=[]\n",
    "predictions.append(rfclf.predict_proba(X_test))\n",
    "X_dev = vectorizer.transform(dev_data_text)\n",
    "predictions.append(gs_clf.predict_proba(X_dev))"
   ]
  },
  {
   "cell_type": "code",
   "execution_count": 23,
   "metadata": {},
   "outputs": [],
   "source": [
    "dev_probabilities=[int(k) for k in dev_labels]"
   ]
  },
  {
   "cell_type": "code",
   "execution_count": 24,
   "metadata": {},
   "outputs": [],
   "source": [
    "def log_loss_func(weights):\n",
    "    final_prediction = 0\n",
    "    ''' scipy minimize will pass the weights as a numpy array '''\n",
    "    for weight, prediction in zip(weights, predictions):\n",
    "            final_prediction += weight*prediction\n",
    "\n",
    "    return log_loss(dev_probabilities, final_prediction)\n",
    "    #return metrics.recall_score(dev_probabilities, final_prediction)"
   ]
  },
  {
   "cell_type": "code",
   "execution_count": 25,
   "metadata": {},
   "outputs": [
    {
     "name": "stdout",
     "output_type": "stream",
     "text": [
      "Ensemble Score: 0.587274958187204\n",
      "Best Weights: [0.98298454 0.01701546]\n"
     ]
    }
   ],
   "source": [
    "starting_values = [0.5]*len(predictions)\n",
    "\n",
    "cons = ({'type':'eq','fun':lambda w: 1-sum(w)})\n",
    "#our weights are bound between 0 and 1\n",
    "bounds = [(0,1)]*len(predictions)\n",
    "\n",
    "res = minimize(log_loss_func, starting_values, method='SLSQP', bounds=bounds, constraints=cons)\n",
    "\n",
    "print('Ensemble Score: {best_score}'.format(best_score=res['fun']))\n",
    "print('Best Weights: {weights}'.format(weights=res['x']))"
   ]
  },
  {
   "cell_type": "code",
   "execution_count": 26,
   "metadata": {},
   "outputs": [],
   "source": [
    "weights=res['x']\n",
    "#weights=starting_values\n",
    "y_pred=[weights[0]*predictions[0][k][1]+weights[1]*predictions[1][k][1] for k in range(len(dev_data))]\n",
    "y_pred=[True if k > 0.52 else False for k in y_pred]"
   ]
  },
  {
   "cell_type": "code",
   "execution_count": 27,
   "metadata": {},
   "outputs": [
    {
     "name": "stdout",
     "output_type": "stream",
     "text": [
      "              precision    recall  f1-score   support\n",
      "\n",
      "       False       0.78      0.86      0.82       913\n",
      "        True       0.37      0.25      0.30       299\n",
      "\n",
      "   micro avg       0.71      0.71      0.71      1212\n",
      "   macro avg       0.57      0.56      0.56      1212\n",
      "weighted avg       0.68      0.71      0.69      1212\n",
      "\n",
      "roc_auc_score : 0.556444 \n"
     ]
    },
    {
     "data": {
      "image/png": "[encoded data removed]",
      "text/plain": [
       "<Figure size 864x288 with 3 Axes>"
      ]
     },
     "metadata": {},
     "output_type": "display_data"
    }
   ],
   "source": [
    "evaluate(class_names,dev_labels,y_pred,True)"
   ]
  },
  {
   "cell_type": "markdown",
   "metadata": {},
   "source": [
    "## Kaggle Submission"
   ]
  },
  {
   "cell_type": "code",
   "execution_count": 28,
   "metadata": {},
   "outputs": [],
   "source": [
    "data = pd.read_json(\"data/test.json\")\n",
    "data['year']=data.apply(lambda x: datetime.utcfromtimestamp(x['unix_timestamp_of_request_utc']).strftime('%Y'), axis=1).astype(int)\n",
    "data['month']=data.apply(lambda x: datetime.utcfromtimestamp(x['unix_timestamp_of_request_utc']).strftime('%m'), axis=1).astype(int)\n",
    "data['day']=data.apply(lambda x: datetime.utcfromtimestamp(x['unix_timestamp_of_request_utc']).strftime('%d'), axis=1).astype(int)\n",
    "data['dayofweek']=data.apply(lambda x: datetime.utcfromtimestamp(x['unix_timestamp_of_request_utc']).weekday(), axis=1).astype(int)\n",
    "data=data.drop(['unix_timestamp_of_request'], axis=1)\n",
    "test_requests_id=data['request_id']\n",
    "data=data.drop(['request_id'], axis=1)\n",
    "data=data.drop(['unix_timestamp_of_request_utc'], axis=1)\n",
    "#data=data.drop(['request_text_edit_aware'], axis=1)\n",
    "data=data.drop(['request_title'], axis=1)\n",
    "data=data.drop(['requester_subreddits_at_request'], axis=1)\n",
    "data=data.drop(['requester_username'], axis=1)\n",
    "data=data.drop(['giver_username_if_known'], axis=1)"
   ]
  },
  {
   "cell_type": "code",
   "execution_count": 29,
   "metadata": {},
   "outputs": [],
   "source": [
    "data.requester_days_since_first_post_on_raop_at_request=data.requester_days_since_first_post_on_raop_at_request.astype(int)"
   ]
  },
  {
   "cell_type": "code",
   "execution_count": 30,
   "metadata": {},
   "outputs": [
    {
     "data": {
      "text/plain": [
       "(1631, 14)"
      ]
     },
     "execution_count": 30,
     "metadata": {},
     "output_type": "execute_result"
    }
   ],
   "source": [
    "data.shape"
   ]
  },
  {
   "cell_type": "code",
   "execution_count": 31,
   "metadata": {},
   "outputs": [],
   "source": [
    "test_data_text = data[\"request_text_edit_aware\"]\n",
    "test_data=data.drop(['request_text_edit_aware'], axis=1)"
   ]
  },
  {
   "cell_type": "code",
   "execution_count": 32,
   "metadata": {},
   "outputs": [],
   "source": [
    "predictions=[]\n",
    "predictions.append(rfclf.predict_proba(test_data))\n",
    "X_test = vectorizer.transform(test_data_text)\n",
    "predictions.append(gs_clf.predict_proba(X_test))"
   ]
  },
  {
   "cell_type": "code",
   "execution_count": 33,
   "metadata": {},
   "outputs": [],
   "source": [
    "weights=res['x']\n",
    "#weights=starting_values\n",
    "y_pred=[weights[0]*predictions[0][k][1]+weights[1]*predictions[1][k][1] for k in range(len(test_data))]\n",
    "y_pred=[True if k > 0.52 else False for k in y_pred]"
   ]
  },
  {
   "cell_type": "code",
   "execution_count": 34,
   "metadata": {},
   "outputs": [],
   "source": [
    "x = np.array(y_pred).reshape(-1,1)\n",
    "final_df = pd.DataFrame.from_records(x,columns=['requester_received_pizza'])"
   ]
  },
  {
   "cell_type": "code",
   "execution_count": 35,
   "metadata": {},
   "outputs": [],
   "source": [
    "final_df=final_df.join(test_requests_id)\n",
    "cols = final_df.columns.tolist()\n",
    "cols = cols[-1:] + cols[:-1]\n",
    "final_df = final_df[cols]\n",
    "final_df.requester_received_pizza=final_df.requester_received_pizza.astype(int)"
   ]
  },
  {
   "cell_type": "code",
   "execution_count": 36,
   "metadata": {},
   "outputs": [
    {
     "data": {
      "text/plain": [
       "requester_received_pizza\n",
       "0    1374\n",
       "1     257\n",
       "dtype: int64"
      ]
     },
     "execution_count": 36,
     "metadata": {},
     "output_type": "execute_result"
    }
   ],
   "source": [
    "final_df.groupby(['requester_received_pizza']).size()"
   ]
  },
  {
   "cell_type": "code",
   "execution_count": 37,
   "metadata": {},
   "outputs": [
    {
     "data": {
      "text/html": [
       "<div>\n",
       "<style scoped>\n",
       "    .dataframe tbody tr th:only-of-type {\n",
       "        vertical-align: middle;\n",
       "    }\n",
       "\n",
       "    .dataframe tbody tr th {\n",
       "        vertical-align: top;\n",
       "    }\n",
       "\n",
       "    .dataframe thead th {\n",
       "        text-align: right;\n",
       "    }\n",
       "</style>\n",
       "<table border=\"1\" class=\"dataframe\">\n",
       "  <thead>\n",
       "    <tr style=\"text-align: right;\">\n",
       "      <th></th>\n",
       "      <th>request_id</th>\n",
       "      <th>requester_received_pizza</th>\n",
       "    </tr>\n",
       "  </thead>\n",
       "  <tbody>\n",
       "    <tr>\n",
       "      <th>0</th>\n",
       "      <td>t3_i8iy4</td>\n",
       "      <td>1</td>\n",
       "    </tr>\n",
       "  </tbody>\n",
       "</table>\n",
       "</div>"
      ],
      "text/plain": [
       "  request_id  requester_received_pizza\n",
       "0   t3_i8iy4                         1"
      ]
     },
     "execution_count": 37,
     "metadata": {},
     "output_type": "execute_result"
    }
   ],
   "source": [
    "final_df.head(1)"
   ]
  },
  {
   "cell_type": "code",
   "execution_count": 38,
   "metadata": {},
   "outputs": [],
   "source": [
    "final_df.to_csv('/tmp/final_submission.csv',header=True,index=False)"
   ]
  },
  {
   "cell_type": "code",
   "execution_count": null,
   "metadata": {},
   "outputs": [],
   "source": []
  }
 ],
 "metadata": {
  "kernelspec": {
   "display_name": "Python 3",
   "language": "python",
   "name": "python3"
  },
  "language_info": {
   "codemirror_mode": {
    "name": "ipython",
    "version": 3
   },
   "file_extension": ".py",
   "mimetype": "text/x-python",
   "name": "python",
   "nbconvert_exporter": "python",
   "pygments_lexer": "ipython3",
   "version": "3.5.2"
  }
 },
 "nbformat": 4,
 "nbformat_minor": 2
}
