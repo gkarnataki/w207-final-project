{
 "cells": [
  {
   "cell_type": "code",
   "execution_count": 1,
   "metadata": {},
   "outputs": [],
   "source": [
    "%matplotlib inline\n",
    "\n",
    "import pandas as pd\n",
    "import numpy as np\n",
    "import matplotlib.pyplot as plt\n",
    "from sklearn.model_selection import train_test_split\n",
    "from datetime import datetime\n",
    "import re\n",
    "from sklearn.linear_model import LogisticRegression\n",
    "import itertools\n",
    "\n",
    "\n",
    "# SK-learn libraries for evaluation.\n",
    "from sklearn.metrics import confusion_matrix\n",
    "from sklearn import metrics\n",
    "from sklearn.metrics import classification_report\n",
    "from scipy.optimize import minimize\n",
    "from sklearn.metrics import log_loss\n",
    "\n",
    "# SK-learn libraries for feature extraction from text.\n",
    "from sklearn.feature_extraction.text import *"
   ]
  },
  {
   "cell_type": "code",
   "execution_count": 42,
   "metadata": {},
   "outputs": [],
   "source": [
    "def plot_confusion_matrix(cm, classes,\n",
    "                          normalize=False,\n",
    "                          title='Confusion matrix',\n",
    "                          cmap=plt.cm.Blues):\n",
    "    \"\"\"\n",
    "    This function prints and plots the confusion matrix.\n",
    "    Normalization can be applied by setting `normalize=True`.\n",
    "    \"\"\"\n",
    "    if normalize:\n",
    "        cm = cm.astype('float') / cm.sum(axis=1)[:, np.newaxis]\n",
    "\n",
    "    #print(cm)\n",
    "\n",
    "    plt.imshow(cm, interpolation='nearest', cmap=cmap)\n",
    "    plt.title(title)\n",
    "    plt.colorbar()\n",
    "    tick_marks = np.arange(len(classes))\n",
    "    plt.xticks(tick_marks, classes, rotation=45)\n",
    "    plt.yticks(tick_marks, classes)\n",
    "\n",
    "    fmt = '.2f' if normalize else 'd'\n",
    "    thresh = cm.max() / 2.\n",
    "    for i, j in itertools.product(range(cm.shape[0]), range(cm.shape[1])):\n",
    "        plt.text(j, i, format(cm[i, j], fmt),\n",
    "                 horizontalalignment=\"center\",\n",
    "                 color=\"black\" if cm[i, j] > thresh else \"black\")\n",
    "\n",
    "    plt.ylabel('True label')\n",
    "    plt.xlabel('Predicted label')\n",
    "    plt.tight_layout()"
   ]
  },
  {
   "cell_type": "code",
   "execution_count": 43,
   "metadata": {},
   "outputs": [],
   "source": [
    "def evaluate(classes,y_true,y_pred,normalize):\n",
    "    print (classification_report(y_true, y_pred))\n",
    "    print (\"roc_auc_score : %f \" % metrics.roc_auc_score(y_true, y_pred))\n",
    "    plot_confusion_matrix(confusion_matrix(y_true,y_pred), classes=class_names,normalize=normalize,\n",
    "                      title='Confusion matrix')\n",
    "    plt.show()"
   ]
  },
  {
   "cell_type": "code",
   "execution_count": 44,
   "metadata": {},
   "outputs": [],
   "source": [
    "data = pd.read_json(\"data/train.json\")\n",
    "data['year']=data.apply(lambda x: datetime.utcfromtimestamp(x['unix_timestamp_of_request_utc']).strftime('%Y'), axis=1).astype(int)\n",
    "data['month']=data.apply(lambda x: datetime.utcfromtimestamp(x['unix_timestamp_of_request_utc']).strftime('%m'), axis=1).astype(int)\n",
    "data['day']=data.apply(lambda x: datetime.utcfromtimestamp(x['unix_timestamp_of_request_utc']).strftime('%d'), axis=1).astype(int)\n",
    "data['dayofweek']=data.apply(lambda x: datetime.utcfromtimestamp(x['unix_timestamp_of_request_utc']).weekday(), axis=1).astype(int)\n",
    "data=data.drop(['unix_timestamp_of_request'], axis=1)\n",
    "data=data.drop(['request_id'], axis=1)\n",
    "data=data.drop(['unix_timestamp_of_request_utc'], axis=1)\n",
    "data=data.drop(['request_text_edit_aware'], axis=1)\n",
    "data=data.drop(['request_title'], axis=1)\n",
    "data=data.drop(['requester_subreddits_at_request'], axis=1)\n",
    "data=data.drop(['requester_username'], axis=1)\n",
    "data=data.drop(['giver_username_if_known'], axis=1)\n",
    "data=data.drop(['requester_user_flair'], axis=1)\n",
    "data=data.drop(['requester_days_since_first_post_on_raop_at_retrieval'], axis=1)\n",
    "#data=data.drop(['requester_account_age_in_days_at_request'], axis=1)\n",
    "data=data.drop(['requester_account_age_in_days_at_retrieval'], axis=1)\n",
    "data=data.drop(['number_of_downvotes_of_request_at_retrieval'], axis=1)\n",
    "data=data.drop(['number_of_upvotes_of_request_at_retrieval'], axis=1)\n",
    "data=data.drop(['post_was_edited'], axis=1)\n",
    "data=data.drop(['request_number_of_comments_at_retrieval'], axis=1)\n",
    "data=data.drop(['requester_number_of_comments_at_retrieval'], axis=1)\n",
    "data=data.drop(['requester_number_of_comments_in_raop_at_retrieval'], axis=1)\n",
    "data=data.drop(['requester_number_of_posts_at_retrieval'], axis=1)\n",
    "data=data.drop(['requester_number_of_posts_on_raop_at_retrieval'], axis=1)\n",
    "data=data.drop(['requester_upvotes_minus_downvotes_at_retrieval'], axis=1)\n",
    "data=data.drop(['requester_upvotes_plus_downvotes_at_retrieval'], axis=1)"
   ]
  },
  {
   "cell_type": "code",
   "execution_count": 45,
   "metadata": {},
   "outputs": [
    {
     "data": {
      "text/plain": [
       "requester_received_pizza\n",
       "False    3046\n",
       "True      994\n",
       "dtype: int64"
      ]
     },
     "execution_count": 45,
     "metadata": {},
     "output_type": "execute_result"
    }
   ],
   "source": [
    "data.groupby(['requester_received_pizza']).size()"
   ]
  },
  {
   "cell_type": "code",
   "execution_count": 48,
   "metadata": {},
   "outputs": [],
   "source": [
    "# Balance the classes by oversampling the success label"
   ]
  },
  {
   "cell_type": "code",
   "execution_count": 46,
   "metadata": {},
   "outputs": [],
   "source": [
    "data_fail = data[data['requester_received_pizza'] == 0]\n",
    "data_success = data[data['requester_received_pizza'] == 1]\n",
    "data = pd.concat([data_fail, data_success,\n",
    "                      data_success, data_success], axis = 0)"
   ]
  },
  {
   "cell_type": "code",
   "execution_count": 49,
   "metadata": {},
   "outputs": [
    {
     "data": {
      "text/plain": [
       "requester_received_pizza\n",
       "False    3046\n",
       "True     2982\n",
       "dtype: int64"
      ]
     },
     "execution_count": 49,
     "metadata": {},
     "output_type": "execute_result"
    }
   ],
   "source": [
    "data.groupby(['requester_received_pizza']).size()"
   ]
  },
  {
   "cell_type": "code",
   "execution_count": 50,
   "metadata": {},
   "outputs": [
    {
     "name": "stdout",
     "output_type": "stream",
     "text": [
      "(4219, 13)\n",
      "(4219,)\n",
      "(1809, 13)\n",
      "(1809,)\n"
     ]
    }
   ],
   "source": [
    "from sklearn.model_selection import train_test_split\n",
    "\n",
    "train_data, dev_data = train_test_split(data, test_size=0.3)\n",
    "train_labels = train_data[\"requester_received_pizza\"]\n",
    "dev_labels = dev_data[\"requester_received_pizza\"]\n",
    "train_data=train_data.drop(['requester_received_pizza'], axis=1)\n",
    "dev_data=dev_data.drop(['requester_received_pizza'], axis=1)\n",
    "\n",
    "train_data_text = train_data[\"request_text\"]\n",
    "train_data=train_data.drop(['request_text'], axis=1)\n",
    "dev_data_text = dev_data[\"request_text\"]\n",
    "dev_data=dev_data.drop(['request_text'], axis=1)\n",
    "\n",
    "print (train_data.shape)\n",
    "print (train_data_text.shape)\n",
    "print (dev_data.shape)\n",
    "print (dev_data_text.shape)"
   ]
  },
  {
   "cell_type": "code",
   "execution_count": 51,
   "metadata": {},
   "outputs": [
    {
     "data": {
      "text/html": [
       "<div>\n",
       "<style scoped>\n",
       "    .dataframe tbody tr th:only-of-type {\n",
       "        vertical-align: middle;\n",
       "    }\n",
       "\n",
       "    .dataframe tbody tr th {\n",
       "        vertical-align: top;\n",
       "    }\n",
       "\n",
       "    .dataframe thead th {\n",
       "        text-align: right;\n",
       "    }\n",
       "</style>\n",
       "<table border=\"1\" class=\"dataframe\">\n",
       "  <thead>\n",
       "    <tr style=\"text-align: right;\">\n",
       "      <th></th>\n",
       "      <th>requester_account_age_in_days_at_request</th>\n",
       "      <th>requester_days_since_first_post_on_raop_at_request</th>\n",
       "      <th>requester_number_of_comments_at_request</th>\n",
       "      <th>requester_number_of_comments_in_raop_at_request</th>\n",
       "      <th>requester_number_of_posts_at_request</th>\n",
       "      <th>requester_number_of_posts_on_raop_at_request</th>\n",
       "      <th>requester_number_of_subreddits_at_request</th>\n",
       "      <th>requester_upvotes_minus_downvotes_at_request</th>\n",
       "      <th>requester_upvotes_plus_downvotes_at_request</th>\n",
       "      <th>year</th>\n",
       "      <th>month</th>\n",
       "      <th>day</th>\n",
       "      <th>dayofweek</th>\n",
       "    </tr>\n",
       "  </thead>\n",
       "  <tbody>\n",
       "    <tr>\n",
       "      <th>3682</th>\n",
       "      <td>95.596181</td>\n",
       "      <td>0.0</td>\n",
       "      <td>12</td>\n",
       "      <td>0</td>\n",
       "      <td>5</td>\n",
       "      <td>0</td>\n",
       "      <td>4</td>\n",
       "      <td>48</td>\n",
       "      <td>64</td>\n",
       "      <td>2012</td>\n",
       "      <td>8</td>\n",
       "      <td>1</td>\n",
       "      <td>2</td>\n",
       "    </tr>\n",
       "  </tbody>\n",
       "</table>\n",
       "</div>"
      ],
      "text/plain": [
       "      requester_account_age_in_days_at_request  \\\n",
       "3682                                 95.596181   \n",
       "\n",
       "      requester_days_since_first_post_on_raop_at_request  \\\n",
       "3682                                                0.0    \n",
       "\n",
       "      requester_number_of_comments_at_request  \\\n",
       "3682                                       12   \n",
       "\n",
       "      requester_number_of_comments_in_raop_at_request  \\\n",
       "3682                                                0   \n",
       "\n",
       "      requester_number_of_posts_at_request  \\\n",
       "3682                                     5   \n",
       "\n",
       "      requester_number_of_posts_on_raop_at_request  \\\n",
       "3682                                             0   \n",
       "\n",
       "      requester_number_of_subreddits_at_request  \\\n",
       "3682                                          4   \n",
       "\n",
       "      requester_upvotes_minus_downvotes_at_request  \\\n",
       "3682                                            48   \n",
       "\n",
       "      requester_upvotes_plus_downvotes_at_request  year  month  day  dayofweek  \n",
       "3682                                           64  2012      8    1          2  "
      ]
     },
     "execution_count": 51,
     "metadata": {},
     "output_type": "execute_result"
    }
   ],
   "source": [
    "train_data.head(1)"
   ]
  },
  {
   "cell_type": "code",
   "execution_count": 52,
   "metadata": {},
   "outputs": [],
   "source": [
    "class_names = ['No-Pizza','Pizza']\n",
    "import string\n",
    "def better_preprocessor(s):\n",
    "    if len(s)>1: \n",
    "      for char in string.punctuation:\n",
    "         s = s.replace(char, ' ').lower()\n",
    "    elif (s.isdigit()):\n",
    "        s = ' '\n",
    "    else: s=' '        \n",
    "    return s"
   ]
  },
  {
   "cell_type": "code",
   "execution_count": 53,
   "metadata": {},
   "outputs": [],
   "source": [
    "from nltk.stem.porter import PorterStemmer\n",
    "porter_stemmer = PorterStemmer()\n",
    "\n",
    "def stemming_tokenizer(str_input):\n",
    "    words = str_input.split()\n",
    "    words = [porter_stemmer.stem(word) for word in words]\n",
    "    return words"
   ]
  },
  {
   "cell_type": "code",
   "execution_count": 54,
   "metadata": {},
   "outputs": [
    {
     "name": "stdout",
     "output_type": "stream",
     "text": [
      "6741\n"
     ]
    }
   ],
   "source": [
    "vectorizer = TfidfVectorizer(stop_words='english',\n",
    "                     preprocessor=better_preprocessor\n",
    "                     #,tokenizer=stemming_tokenizer\n",
    "                      ,min_df=2, \n",
    "                      max_df=0.5, \n",
    "                     ngram_range=(1,1)       \n",
    "                     )\n",
    "X = vectorizer.fit_transform(train_data_text)\n",
    "print (len(vectorizer.get_feature_names()))"
   ]
  },
  {
   "cell_type": "code",
   "execution_count": 55,
   "metadata": {},
   "outputs": [],
   "source": [
    "#Fit Logistic Regression model\n",
    "from sklearn.linear_model import LogisticRegression\n",
    "clf = LogisticRegression(random_state=0,solver='lbfgs',C=0.21,\n",
    "multi_class='multinomial',class_weight='balanced').fit(X,train_labels)\n",
    "features=vectorizer.get_feature_names()"
   ]
  },
  {
   "cell_type": "code",
   "execution_count": 56,
   "metadata": {},
   "outputs": [
    {
     "name": "stdout",
     "output_type": "stream",
     "text": [
      "\n",
      "F1 Score for Logistic Regression Classifier : 0.7009699434236988\n"
     ]
    }
   ],
   "source": [
    "from sklearn import metrics\n",
    "\n",
    "X_dev = vectorizer.transform(dev_data_text)\n",
    "predicted = clf.predict(X_dev)\n",
    "f=metrics.f1_score(dev_labels, predicted, average='weighted')\n",
    "print ('\\nF1 Score for Logistic Regression Classifier : %r' % f)"
   ]
  },
  {
   "cell_type": "code",
   "execution_count": 57,
   "metadata": {},
   "outputs": [
    {
     "name": "stdout",
     "output_type": "stream",
     "text": [
      "              precision    recall  f1-score   support\n",
      "\n",
      "       False       0.69      0.69      0.69       869\n",
      "        True       0.71      0.71      0.71       940\n",
      "\n",
      "   micro avg       0.70      0.70      0.70      1809\n",
      "   macro avg       0.70      0.70      0.70      1809\n",
      "weighted avg       0.70      0.70      0.70      1809\n",
      "\n",
      "roc_auc_score : 0.700587 \n"
     ]
    },
    {
     "data": {
      "image/png": "[encoded data removed]",
      "text/plain": [
       "<Figure size 432x288 with 2 Axes>"
      ]
     },
     "metadata": {},
     "output_type": "display_data"
    }
   ],
   "source": [
    "evaluate(class_names,dev_labels,predicted,True)"
   ]
  },
  {
   "cell_type": "code",
   "execution_count": 58,
   "metadata": {},
   "outputs": [],
   "source": [
    "from sklearn.model_selection import GridSearchCV\n",
    "\n",
    "param_range=[0.0001,0.0005,0.001]\n",
    "parameters = {'C': param_range, 'solver':['lbfgs'] }\n",
    "\n",
    "gs_clf=GridSearchCV(clf, parameters, cv=5, iid=False, n_jobs=-1,scoring='roc_auc')\n",
    "gs_clf = gs_clf.fit(X, train_labels)"
   ]
  },
  {
   "cell_type": "code",
   "execution_count": 59,
   "metadata": {},
   "outputs": [
    {
     "data": {
      "text/plain": [
       "{'C': 0.001, 'solver': 'lbfgs'}"
      ]
     },
     "execution_count": 59,
     "metadata": {},
     "output_type": "execute_result"
    }
   ],
   "source": [
    "gs_clf.best_params_"
   ]
  },
  {
   "cell_type": "code",
   "execution_count": 60,
   "metadata": {},
   "outputs": [
    {
     "name": "stdout",
     "output_type": "stream",
     "text": [
      "\n",
      "F1 Score for Logistic Regression Classifier : 0.6507253934192468\n",
      "LogLoss : 12.066742380123518\n"
     ]
    }
   ],
   "source": [
    "y_test=dev_labels\n",
    "\n",
    "gs_clf = gs_clf.best_estimator_\n",
    "predicted = gs_clf.predict(X_dev)\n",
    "f=metrics.f1_score(y_test, predicted, average='weighted')\n",
    "print ('\\nF1 Score for Logistic Regression Classifier : %r' % f)\n",
    "print('LogLoss : {score}'.format(score=log_loss(y_test, predicted)))"
   ]
  },
  {
   "cell_type": "code",
   "execution_count": 61,
   "metadata": {},
   "outputs": [],
   "source": [
    "dev_probs=gs_clf.predict_proba(X_dev)\n",
    "predicted=[True if dev_probs[k][1] > 0.50 else False for k in range(len(dev_probs))]"
   ]
  },
  {
   "cell_type": "code",
   "execution_count": 62,
   "metadata": {},
   "outputs": [
    {
     "name": "stdout",
     "output_type": "stream",
     "text": [
      "              precision    recall  f1-score   support\n",
      "\n",
      "       False       0.63      0.67      0.65       869\n",
      "        True       0.67      0.63      0.65       940\n",
      "\n",
      "   micro avg       0.65      0.65      0.65      1809\n",
      "   macro avg       0.65      0.65      0.65      1809\n",
      "weighted avg       0.65      0.65      0.65      1809\n",
      "\n",
      "roc_auc_score : 0.651314 \n"
     ]
    },
    {
     "data": {
      "image/png": "[encoded data removed]",
      "text/plain": [
       "<Figure size 432x288 with 2 Axes>"
      ]
     },
     "metadata": {},
     "output_type": "display_data"
    }
   ],
   "source": [
    "evaluate(class_names,dev_labels,predicted,True)"
   ]
  },
  {
   "cell_type": "code",
   "execution_count": 63,
   "metadata": {},
   "outputs": [
    {
     "data": {
      "text/plain": [
       "RandomForestClassifier(bootstrap=True, class_weight='balanced',\n",
       "            criterion='gini', max_depth=80, max_features='sqrt',\n",
       "            max_leaf_nodes=None, min_impurity_decrease=0.0,\n",
       "            min_impurity_split=None, min_samples_leaf=1,\n",
       "            min_samples_split=11, min_weight_fraction_leaf=0.0,\n",
       "            n_estimators=300, n_jobs=None, oob_score=False,\n",
       "            random_state=None, verbose=0, warm_start=False)"
      ]
     },
     "execution_count": 63,
     "metadata": {},
     "output_type": "execute_result"
    }
   ],
   "source": [
    "from sklearn.ensemble import RandomForestClassifier\n",
    "from sklearn.datasets import make_classification\n",
    "\n",
    "y=train_labels\n",
    "X=train_data\n",
    "class_weight='balanced'\n",
    "rfclf = RandomForestClassifier(n_estimators=300,max_features='sqrt',max_depth=80,min_samples_leaf=1,bootstrap=True,min_samples_split=11,class_weight=class_weight)\n",
    "rfclf.fit(X, y)"
   ]
  },
  {
   "cell_type": "code",
   "execution_count": 64,
   "metadata": {},
   "outputs": [
    {
     "name": "stdout",
     "output_type": "stream",
     "text": [
      "Accuracy of classifier on dev set: 0.83\n",
      "LogLoss : 5.9761035621754095\n"
     ]
    }
   ],
   "source": [
    "X_test=dev_data\n",
    "y_test=dev_labels\n",
    "y_pred = rfclf.predict(X_test)\n",
    "print('Accuracy of classifier on dev set: {:.2f}'.format(rfclf.score(X_test, y_test)))\n",
    "print('LogLoss : {score}'.format(score=log_loss(y_test, y_pred)))"
   ]
  },
  {
   "cell_type": "code",
   "execution_count": 65,
   "metadata": {},
   "outputs": [
    {
     "name": "stdout",
     "output_type": "stream",
     "text": [
      "              precision    recall  f1-score   support\n",
      "\n",
      "       False       0.83      0.81      0.82       869\n",
      "        True       0.83      0.85      0.84       940\n",
      "\n",
      "   micro avg       0.83      0.83      0.83      1809\n",
      "   macro avg       0.83      0.83      0.83      1809\n",
      "weighted avg       0.83      0.83      0.83      1809\n",
      "\n",
      "roc_auc_score : 0.826210 \n"
     ]
    },
    {
     "data": {
      "image/png": "[encoded data removed]",
      "text/plain": [
       "<Figure size 432x288 with 2 Axes>"
      ]
     },
     "metadata": {},
     "output_type": "display_data"
    }
   ],
   "source": [
    "evaluate(class_names,dev_labels,y_pred,True)"
   ]
  },
  {
   "cell_type": "code",
   "execution_count": 66,
   "metadata": {},
   "outputs": [],
   "source": [
    "predictions=[]\n",
    "predictions.append(rfclf.predict_proba(X_test))\n",
    "X_dev = vectorizer.transform(dev_data_text)\n",
    "predictions.append(gs_clf.predict_proba(X_dev))"
   ]
  },
  {
   "cell_type": "code",
   "execution_count": 67,
   "metadata": {},
   "outputs": [],
   "source": [
    "dev_probabilities=[int(k) for k in dev_labels]"
   ]
  },
  {
   "cell_type": "code",
   "execution_count": 68,
   "metadata": {},
   "outputs": [],
   "source": [
    "def log_loss_func(weights):\n",
    "    final_prediction = 0\n",
    "    ''' scipy minimize will pass the weights as a numpy array '''\n",
    "    for weight, prediction in zip(weights, predictions):\n",
    "            final_prediction += weight*prediction\n",
    "\n",
    "    return log_loss(dev_probabilities, final_prediction)\n",
    "    #return metrics.recall_score(dev_probabilities, final_prediction)"
   ]
  },
  {
   "cell_type": "code",
   "execution_count": 69,
   "metadata": {},
   "outputs": [
    {
     "name": "stdout",
     "output_type": "stream",
     "text": [
      "Ensemble Score: 0.47784897623252226\n",
      "Best Weights: [1.00000000e+00 5.55111512e-17]\n"
     ]
    }
   ],
   "source": [
    "starting_values = [0.5]*len(predictions)\n",
    "\n",
    "cons = ({'type':'eq','fun':lambda w: 1-sum(w)})\n",
    "#our weights are bound between 0 and 1\n",
    "bounds = [(0,1)]*len(predictions)\n",
    "\n",
    "res = minimize(log_loss_func, starting_values, method='SLSQP', bounds=bounds, constraints=cons)\n",
    "\n",
    "print('Ensemble Score: {best_score}'.format(best_score=res['fun']))\n",
    "print('Best Weights: {weights}'.format(weights=res['x']))"
   ]
  },
  {
   "cell_type": "code",
   "execution_count": 70,
   "metadata": {},
   "outputs": [],
   "source": [
    "weights=res['x']\n",
    "#weights=starting_values\n",
    "y_pred=[weights[0]*predictions[0][k][1]+weights[1]*predictions[1][k][1] for k in range(len(dev_data))]\n",
    "y_pred=[True if k > 0.52 else False for k in y_pred]"
   ]
  },
  {
   "cell_type": "code",
   "execution_count": 71,
   "metadata": {},
   "outputs": [
    {
     "name": "stdout",
     "output_type": "stream",
     "text": [
      "              precision    recall  f1-score   support\n",
      "\n",
      "       False       0.82      0.84      0.83       869\n",
      "        True       0.85      0.83      0.84       940\n",
      "\n",
      "   micro avg       0.83      0.83      0.83      1809\n",
      "   macro avg       0.83      0.83      0.83      1809\n",
      "weighted avg       0.83      0.83      0.83      1809\n",
      "\n",
      "roc_auc_score : 0.833853 \n"
     ]
    },
    {
     "data": {
      "image/png": "[encoded data removed]",
      "text/plain": [
       "<Figure size 432x288 with 2 Axes>"
      ]
     },
     "metadata": {},
     "output_type": "display_data"
    }
   ],
   "source": [
    "evaluate(class_names,dev_labels,y_pred,True)"
   ]
  },
  {
   "cell_type": "markdown",
   "metadata": {},
   "source": [
    "## Kaggle Submission"
   ]
  },
  {
   "cell_type": "code",
   "execution_count": 146,
   "metadata": {},
   "outputs": [],
   "source": [
    "data = pd.read_json(\"data/test.json\")\n",
    "data['year']=data.apply(lambda x: datetime.utcfromtimestamp(x['unix_timestamp_of_request_utc']).strftime('%Y'), axis=1).astype(int)\n",
    "data['month']=data.apply(lambda x: datetime.utcfromtimestamp(x['unix_timestamp_of_request_utc']).strftime('%m'), axis=1).astype(int)\n",
    "data['day']=data.apply(lambda x: datetime.utcfromtimestamp(x['unix_timestamp_of_request_utc']).strftime('%d'), axis=1).astype(int)\n",
    "data['dayofweek']=data.apply(lambda x: datetime.utcfromtimestamp(x['unix_timestamp_of_request_utc']).weekday(), axis=1).astype(int)\n",
    "data=data.drop(['unix_timestamp_of_request'], axis=1)\n",
    "test_requests_id=data['request_id']\n",
    "data=data.drop(['request_id'], axis=1)\n",
    "data=data.drop(['unix_timestamp_of_request_utc'], axis=1)\n",
    "#data=data.drop(['request_text_edit_aware'], axis=1)\n",
    "data=data.drop(['request_title'], axis=1)\n",
    "data=data.drop(['requester_subreddits_at_request'], axis=1)\n",
    "data=data.drop(['requester_username'], axis=1)\n",
    "data=data.drop(['giver_username_if_known'], axis=1)"
   ]
  },
  {
   "cell_type": "code",
   "execution_count": 147,
   "metadata": {},
   "outputs": [],
   "source": [
    "data.requester_days_since_first_post_on_raop_at_request=data.requester_days_since_first_post_on_raop_at_request.astype(int)"
   ]
  },
  {
   "cell_type": "code",
   "execution_count": 148,
   "metadata": {},
   "outputs": [
    {
     "data": {
      "text/plain": [
       "(1631, 14)"
      ]
     },
     "execution_count": 148,
     "metadata": {},
     "output_type": "execute_result"
    }
   ],
   "source": [
    "data.shape"
   ]
  },
  {
   "cell_type": "code",
   "execution_count": 149,
   "metadata": {},
   "outputs": [],
   "source": [
    "test_data_text = data[\"request_text_edit_aware\"]\n",
    "test_data=data.drop(['request_text_edit_aware'], axis=1)"
   ]
  },
  {
   "cell_type": "code",
   "execution_count": 150,
   "metadata": {},
   "outputs": [],
   "source": [
    "predictions=[]\n",
    "predictions.append(rfclf.predict_proba(test_data))\n",
    "X_test = vectorizer.transform(test_data_text)\n",
    "predictions.append(gs_clf.predict_proba(X_test))"
   ]
  },
  {
   "cell_type": "code",
   "execution_count": 151,
   "metadata": {},
   "outputs": [],
   "source": [
    "weights=res['x']\n",
    "#weights=starting_values\n",
    "y_pred=[weights[0]*predictions[0][k][1]+weights[1]*predictions[1][k][1] for k in range(len(test_data))]\n",
    "y_pred=[True if k > 0.52 else False for k in y_pred]"
   ]
  },
  {
   "cell_type": "code",
   "execution_count": 152,
   "metadata": {},
   "outputs": [],
   "source": [
    "x = np.array(y_pred).reshape(-1,1)\n",
    "final_df = pd.DataFrame.from_records(x,columns=['requester_received_pizza'])"
   ]
  },
  {
   "cell_type": "code",
   "execution_count": 153,
   "metadata": {},
   "outputs": [],
   "source": [
    "final_df=final_df.join(test_requests_id)\n",
    "cols = final_df.columns.tolist()\n",
    "cols = cols[-1:] + cols[:-1]\n",
    "final_df = final_df[cols]\n",
    "final_df.requester_received_pizza=final_df.requester_received_pizza.astype(int)"
   ]
  },
  {
   "cell_type": "code",
   "execution_count": 154,
   "metadata": {},
   "outputs": [
    {
     "data": {
      "text/plain": [
       "requester_received_pizza\n",
       "0    1297\n",
       "1     334\n",
       "dtype: int64"
      ]
     },
     "execution_count": 154,
     "metadata": {},
     "output_type": "execute_result"
    }
   ],
   "source": [
    "final_df.groupby(['requester_received_pizza']).size()"
   ]
  },
  {
   "cell_type": "code",
   "execution_count": 155,
   "metadata": {},
   "outputs": [
    {
     "data": {
      "text/html": [
       "<div>\n",
       "<style scoped>\n",
       "    .dataframe tbody tr th:only-of-type {\n",
       "        vertical-align: middle;\n",
       "    }\n",
       "\n",
       "    .dataframe tbody tr th {\n",
       "        vertical-align: top;\n",
       "    }\n",
       "\n",
       "    .dataframe thead th {\n",
       "        text-align: right;\n",
       "    }\n",
       "</style>\n",
       "<table border=\"1\" class=\"dataframe\">\n",
       "  <thead>\n",
       "    <tr style=\"text-align: right;\">\n",
       "      <th></th>\n",
       "      <th>request_id</th>\n",
       "      <th>requester_received_pizza</th>\n",
       "    </tr>\n",
       "  </thead>\n",
       "  <tbody>\n",
       "    <tr>\n",
       "      <th>0</th>\n",
       "      <td>t3_i8iy4</td>\n",
       "      <td>1</td>\n",
       "    </tr>\n",
       "  </tbody>\n",
       "</table>\n",
       "</div>"
      ],
      "text/plain": [
       "  request_id  requester_received_pizza\n",
       "0   t3_i8iy4                         1"
      ]
     },
     "execution_count": 155,
     "metadata": {},
     "output_type": "execute_result"
    }
   ],
   "source": [
    "final_df.head(1)"
   ]
  },
  {
   "cell_type": "code",
   "execution_count": 156,
   "metadata": {},
   "outputs": [],
   "source": [
    "final_df.to_csv('/tmp/final_submission.csv',header=True,index=False)"
   ]
  },
  {
   "cell_type": "code",
   "execution_count": null,
   "metadata": {},
   "outputs": [],
   "source": []
  }
 ],
 "metadata": {
  "kernelspec": {
   "display_name": "Python 3",
   "language": "python",
   "name": "python3"
  },
  "language_info": {
   "codemirror_mode": {
    "name": "ipython",
    "version": 3
   },
   "file_extension": ".py",
   "mimetype": "text/x-python",
   "name": "python",
   "nbconvert_exporter": "python",
   "pygments_lexer": "ipython3",
   "version": "3.5.2"
  }
 },
 "nbformat": 4,
 "nbformat_minor": 2
}
