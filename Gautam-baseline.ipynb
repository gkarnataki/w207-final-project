{
 "cells": [
  {
   "cell_type": "code",
   "execution_count": 91,
   "metadata": {
    "collapsed": false
   },
   "outputs": [],
   "source": [
    "%matplotlib inline\n",
    "\n",
    "import pandas as pd\n",
    "import re\n",
    "import numpy as np\n",
    "import matplotlib.pyplot as plt\n",
    "from sklearn.pipeline import Pipeline\n",
    "from sklearn.neighbors import KNeighborsClassifier\n",
    "from sklearn.linear_model import LogisticRegression\n",
    "from sklearn.naive_bayes import BernoulliNB\n",
    "from sklearn.naive_bayes import MultinomialNB\n",
    "from sklearn.grid_search import GridSearchCV\n",
    "\n",
    "# SK-learn libraries for evaluation.\n",
    "from sklearn.metrics import confusion_matrix\n",
    "from sklearn import metrics\n",
    "from sklearn.metrics import classification_report\n",
    "\n",
    "# SK-learn libraries for feature extraction from text.\n",
    "from sklearn.feature_extraction.text import *"
   ]
  },
  {
   "cell_type": "code",
   "execution_count": 92,
   "metadata": {
    "collapsed": false
   },
   "outputs": [
    {
     "name": "stdout",
     "output_type": "stream",
     "text": [
      "(4040, 2)\n"
     ]
    }
   ],
   "source": [
    "data = pd.read_json(\"/Users/gautamkarnataki/MIDS/train.json\")[[\"request_text\",\"requester_received_pizza\"]]\n",
    "print data.shape\n",
    "train_data = data[:3500][\"request_text\"]\n",
    "train_labels = data[:3500][\"requester_received_pizza\"]\n",
    "dev_data = data[3501:][\"request_text\"]\n",
    "dev_labels = data[3501:][\"requester_received_pizza\"]"
   ]
  },
  {
   "cell_type": "code",
   "execution_count": 93,
   "metadata": {
    "collapsed": true
   },
   "outputs": [],
   "source": [
    "from nltk.stem.porter import PorterStemmer\n",
    "porter_stemmer = PorterStemmer()\n",
    "\n",
    "def better_preprocessor(s):\n",
    "    message = s.lower()\n",
    "    message = re.sub(r\"[^a-z]\", \" \", message)\n",
    "    message = re.sub(r\"[-]*\", \"\", message)\n",
    "    return message\n",
    "\n",
    "def stemming_tokenizer(str_input):\n",
    "    words = re.sub(r\"[^a-z]\", \" \", str_input).split()\n",
    "    words = [porter_stemmer.stem(word) for word in words]\n",
    "    return words"
   ]
  },
  {
   "cell_type": "code",
   "execution_count": 94,
   "metadata": {
    "collapsed": false
   },
   "outputs": [
    {
     "name": "stdout",
     "output_type": "stream",
     "text": [
      "Default F1-score (on dev set): 0.7570\n"
     ]
    }
   ],
   "source": [
    "cv = TfidfVectorizer(stop_words='english',preprocessor=better_preprocessor,tokenizer=stemming_tokenizer)\n",
    "transformer = cv.fit_transform(train_data)\n",
    "classifier = KNeighborsClassifier(n_neighbors=11)\n",
    "classifier.fit(transformer,train_labels)\n",
    "dev_data_trans = cv.transform(dev_data)\n",
    "y_pred = classifier.predict(dev_data_trans)\n",
    "print \"Default F1-score (on dev set): %.4f\" % metrics.accuracy_score(y_true=dev_labels, y_pred=y_pred)"
   ]
  },
  {
   "cell_type": "code",
   "execution_count": 77,
   "metadata": {
    "collapsed": false
   },
   "outputs": [
    {
     "name": "stdout",
     "output_type": "stream",
     "text": [
      "Default F1-score (on dev set): 0.7570\n"
     ]
    }
   ],
   "source": [
    "cv = CountVectorizer(stop_words='english',preprocessor=better_preprocessor,tokenizer=stemming_tokenizer)\n",
    "transformer = cv.fit_transform(train_data)\n",
    "classifier = LogisticRegression(C=0.001)\n",
    "classifier.fit(transformer,train_labels)\n",
    "dev_data_trans = cv.transform(dev_data)\n",
    "y_pred = classifier.predict(dev_data_trans)\n",
    "print \"Default F1-score (on dev set): %.4f\" % metrics.accuracy_score(y_true=dev_labels, y_pred=y_pred)"
   ]
  },
  {
   "cell_type": "code",
   "execution_count": 78,
   "metadata": {
    "collapsed": false
   },
   "outputs": [
    {
     "name": "stdout",
     "output_type": "stream",
     "text": [
      "Default F1-score (on dev set): 0.7570\n"
     ]
    }
   ],
   "source": [
    "cv = TfidfVectorizer(stop_words='english',preprocessor=better_preprocessor,tokenizer=stemming_tokenizer)\n",
    "transformer = cv.fit_transform(train_data)\n",
    "classifier = LogisticRegression(C=0.001)\n",
    "classifier.fit(transformer,train_labels)\n",
    "dev_data_trans = cv.transform(dev_data)\n",
    "y_pred = classifier.predict(dev_data_trans)\n",
    "print \"Default F1-score (on dev set): %.4f\" % metrics.accuracy_score(y_true=dev_labels, y_pred=y_pred)"
   ]
  },
  {
   "cell_type": "code",
   "execution_count": 90,
   "metadata": {
    "collapsed": false
   },
   "outputs": [
    {
     "name": "stdout",
     "output_type": "stream",
     "text": [
      "             precision    recall  f1-score   support\n",
      "\n",
      "      False       0.76      1.00      0.86       408\n",
      "       True       0.00      0.00      0.00       131\n",
      "\n",
      "avg / total       0.57      0.76      0.65       539\n",
      "\n"
     ]
    }
   ],
   "source": [
    "print metrics.classification_report(y_true=dev_labels, y_pred=y_pred)"
   ]
  },
  {
   "cell_type": "code",
   "execution_count": null,
   "metadata": {
    "collapsed": true
   },
   "outputs": [],
   "source": []
  }
 ],
 "metadata": {
  "anaconda-cloud": {},
  "kernelspec": {
   "display_name": "Python 2",
   "language": "python",
   "name": "python2"
  },
  "language_info": {
   "codemirror_mode": {
    "name": "ipython",
    "version": 2
   },
   "file_extension": ".py",
   "mimetype": "text/x-python",
   "name": "python",
   "nbconvert_exporter": "python",
   "pygments_lexer": "ipython2",
   "version": "2.7.11"
  }
 },
 "nbformat": 4,
 "nbformat_minor": 0
}
