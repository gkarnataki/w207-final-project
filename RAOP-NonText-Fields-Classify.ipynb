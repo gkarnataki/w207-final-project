{
 "cells": [
  {
   "cell_type": "markdown",
   "metadata": {},
   "source": [
    "# Random Acts of Pizza"
   ]
  },
  {
   "cell_type": "markdown",
   "metadata": {},
   "source": [
    "The objective of the project is to predict if the requester on Reddit will receive a Pizza as an act of altruism from one of the other Reddit users. \n",
    "The train and test data files are available in kaggle.com and have been downloaded at the below location before executing this notebook. \n",
    "\n",
    "In this notebook we are going to look at only the non-text field and build a classification model."
   ]
  },
  {
   "cell_type": "code",
   "execution_count": 1,
   "metadata": {},
   "outputs": [],
   "source": [
    "%matplotlib inline\n",
    "\n",
    "import pandas as pd\n",
    "import numpy as np\n",
    "import matplotlib.pyplot as plt\n",
    "from sklearn.model_selection import train_test_split\n",
    "from datetime import datetime\n",
    "import re\n",
    "from sklearn.linear_model import LogisticRegression\n",
    "\n",
    "# SK-learn libraries for evaluation.\n",
    "from sklearn.metrics import confusion_matrix\n",
    "from sklearn import metrics\n",
    "from sklearn.metrics import classification_report\n",
    "from scipy.optimize import minimize\n",
    "from sklearn.metrics import log_loss\n",
    "\n",
    "# SK-learn libraries for feature extraction from text.\n",
    "from sklearn.feature_extraction.text import *"
   ]
  },
  {
   "cell_type": "markdown",
   "metadata": {},
   "source": [
    "We are going to add year, month, day and dayofweek fields and drop all text fields as well user-specific fields like giver_username_if_known, requester_username etc."
   ]
  },
  {
   "cell_type": "code",
   "execution_count": 2,
   "metadata": {},
   "outputs": [],
   "source": [
    "data = pd.read_json(\"data/train.json\")\n",
    "data['year']=data.apply(lambda x: datetime.utcfromtimestamp(x['unix_timestamp_of_request_utc']).strftime('%Y'), axis=1).astype(int)\n",
    "data['month']=data.apply(lambda x: datetime.utcfromtimestamp(x['unix_timestamp_of_request_utc']).strftime('%m'), axis=1).astype(int)\n",
    "data['day']=data.apply(lambda x: datetime.utcfromtimestamp(x['unix_timestamp_of_request_utc']).strftime('%d'), axis=1).astype(int)\n",
    "data['dayofweek']=data.apply(lambda x: datetime.utcfromtimestamp(x['unix_timestamp_of_request_utc']).weekday(), axis=1).astype(int)\n",
    "data=data.drop(['unix_timestamp_of_request'], axis=1)\n",
    "data=data.drop(['request_id'], axis=1)\n",
    "data=data.drop(['unix_timestamp_of_request_utc'], axis=1)\n",
    "data=data.drop(['request_text_edit_aware'], axis=1)\n",
    "data=data.drop(['request_title'], axis=1)\n",
    "data=data.drop(['requester_subreddits_at_request'], axis=1)\n",
    "data=data.drop(['requester_username'], axis=1)\n",
    "data=data.drop(['giver_username_if_known'], axis=1)\n",
    "data=data.drop(['requester_user_flair'], axis=1)"
   ]
  },
  {
   "cell_type": "markdown",
   "metadata": {},
   "source": [
    "Let's cast the non-integer fields to integers. These fields represent days and having days as integers is sufficient for our analysis."
   ]
  },
  {
   "cell_type": "code",
   "execution_count": 3,
   "metadata": {},
   "outputs": [],
   "source": [
    "data.requester_account_age_in_days_at_request=data.requester_account_age_in_days_at_request.astype(int)\n",
    "data.requester_account_age_in_days_at_retrieval=data.requester_account_age_in_days_at_retrieval.astype(int)\n",
    "data.requester_days_since_first_post_on_raop_at_retrieval=data.requester_days_since_first_post_on_raop_at_retrieval.astype(int)\n",
    "data.requester_days_since_first_post_on_raop_at_request=data.requester_days_since_first_post_on_raop_at_request.astype(int)"
   ]
  },
  {
   "cell_type": "code",
   "execution_count": 4,
   "metadata": {},
   "outputs": [
    {
     "data": {
      "text/plain": [
       "number_of_downvotes_of_request_at_retrieval              int64\n",
       "number_of_upvotes_of_request_at_retrieval                int64\n",
       "post_was_edited                                          int64\n",
       "request_number_of_comments_at_retrieval                  int64\n",
       "request_text                                            object\n",
       "requester_account_age_in_days_at_request                 int64\n",
       "requester_account_age_in_days_at_retrieval               int64\n",
       "requester_days_since_first_post_on_raop_at_request       int64\n",
       "requester_days_since_first_post_on_raop_at_retrieval     int64\n",
       "requester_number_of_comments_at_request                  int64\n",
       "requester_number_of_comments_at_retrieval                int64\n",
       "requester_number_of_comments_in_raop_at_request          int64\n",
       "requester_number_of_comments_in_raop_at_retrieval        int64\n",
       "requester_number_of_posts_at_request                     int64\n",
       "requester_number_of_posts_at_retrieval                   int64\n",
       "requester_number_of_posts_on_raop_at_request             int64\n",
       "requester_number_of_posts_on_raop_at_retrieval           int64\n",
       "requester_number_of_subreddits_at_request                int64\n",
       "requester_received_pizza                                  bool\n",
       "requester_upvotes_minus_downvotes_at_request             int64\n",
       "requester_upvotes_minus_downvotes_at_retrieval           int64\n",
       "requester_upvotes_plus_downvotes_at_request              int64\n",
       "requester_upvotes_plus_downvotes_at_retrieval            int64\n",
       "year                                                     int64\n",
       "month                                                    int64\n",
       "day                                                      int64\n",
       "dayofweek                                                int64\n",
       "dtype: object"
      ]
     },
     "execution_count": 4,
     "metadata": {},
     "output_type": "execute_result"
    }
   ],
   "source": [
    "data.dtypes"
   ]
  },
  {
   "cell_type": "markdown",
   "metadata": {},
   "source": [
    "Let's make a 80:20 split for training and dev."
   ]
  },
  {
   "cell_type": "code",
   "execution_count": 5,
   "metadata": {},
   "outputs": [
    {
     "name": "stdout",
     "output_type": "stream",
     "text": [
      "(2828, 25)\n",
      "(2828,)\n",
      "(1212, 25)\n",
      "(1212,)\n"
     ]
    }
   ],
   "source": [
    "from sklearn.model_selection import train_test_split\n",
    "\n",
    "train_data, dev_data = train_test_split(data, test_size=0.3)\n",
    "train_labels = train_data[\"requester_received_pizza\"]\n",
    "dev_labels = dev_data[\"requester_received_pizza\"]\n",
    "train_data=train_data.drop(['requester_received_pizza'], axis=1)\n",
    "dev_data=dev_data.drop(['requester_received_pizza'], axis=1)\n",
    "\n",
    "train_data_text = train_data[\"request_text\"]\n",
    "train_data=train_data.drop(['request_text'], axis=1)\n",
    "dev_data_text = dev_data[\"request_text\"]\n",
    "dev_data=dev_data.drop(['request_text'], axis=1)\n",
    "\n",
    "print (train_data.shape)\n",
    "print (train_data_text.shape)\n",
    "print (dev_data.shape)\n",
    "print (dev_data_text.shape)"
   ]
  },
  {
   "cell_type": "code",
   "execution_count": 6,
   "metadata": {},
   "outputs": [
    {
     "data": {
      "text/html": [
       "<div>\n",
       "<style scoped>\n",
       "    .dataframe tbody tr th:only-of-type {\n",
       "        vertical-align: middle;\n",
       "    }\n",
       "\n",
       "    .dataframe tbody tr th {\n",
       "        vertical-align: top;\n",
       "    }\n",
       "\n",
       "    .dataframe thead th {\n",
       "        text-align: right;\n",
       "    }\n",
       "</style>\n",
       "<table border=\"1\" class=\"dataframe\">\n",
       "  <thead>\n",
       "    <tr style=\"text-align: right;\">\n",
       "      <th></th>\n",
       "      <th>number_of_downvotes_of_request_at_retrieval</th>\n",
       "      <th>number_of_upvotes_of_request_at_retrieval</th>\n",
       "      <th>post_was_edited</th>\n",
       "      <th>request_number_of_comments_at_retrieval</th>\n",
       "      <th>requester_account_age_in_days_at_request</th>\n",
       "      <th>requester_account_age_in_days_at_retrieval</th>\n",
       "      <th>requester_days_since_first_post_on_raop_at_request</th>\n",
       "      <th>requester_days_since_first_post_on_raop_at_retrieval</th>\n",
       "      <th>requester_number_of_comments_at_request</th>\n",
       "      <th>requester_number_of_comments_at_retrieval</th>\n",
       "      <th>...</th>\n",
       "      <th>requester_number_of_posts_on_raop_at_retrieval</th>\n",
       "      <th>requester_number_of_subreddits_at_request</th>\n",
       "      <th>requester_upvotes_minus_downvotes_at_request</th>\n",
       "      <th>requester_upvotes_minus_downvotes_at_retrieval</th>\n",
       "      <th>requester_upvotes_plus_downvotes_at_request</th>\n",
       "      <th>requester_upvotes_plus_downvotes_at_retrieval</th>\n",
       "      <th>year</th>\n",
       "      <th>month</th>\n",
       "      <th>day</th>\n",
       "      <th>dayofweek</th>\n",
       "    </tr>\n",
       "  </thead>\n",
       "  <tbody>\n",
       "    <tr>\n",
       "      <th>3299</th>\n",
       "      <td>0</td>\n",
       "      <td>2</td>\n",
       "      <td>0</td>\n",
       "      <td>1</td>\n",
       "      <td>337</td>\n",
       "      <td>871</td>\n",
       "      <td>0</td>\n",
       "      <td>533</td>\n",
       "      <td>645</td>\n",
       "      <td>997</td>\n",
       "      <td>...</td>\n",
       "      <td>1</td>\n",
       "      <td>74</td>\n",
       "      <td>2500</td>\n",
       "      <td>3304</td>\n",
       "      <td>5988</td>\n",
       "      <td>7916</td>\n",
       "      <td>2012</td>\n",
       "      <td>6</td>\n",
       "      <td>20</td>\n",
       "      <td>2</td>\n",
       "    </tr>\n",
       "    <tr>\n",
       "      <th>3313</th>\n",
       "      <td>3</td>\n",
       "      <td>3</td>\n",
       "      <td>0</td>\n",
       "      <td>2</td>\n",
       "      <td>452</td>\n",
       "      <td>920</td>\n",
       "      <td>259</td>\n",
       "      <td>727</td>\n",
       "      <td>248</td>\n",
       "      <td>377</td>\n",
       "      <td>...</td>\n",
       "      <td>1</td>\n",
       "      <td>26</td>\n",
       "      <td>507</td>\n",
       "      <td>648</td>\n",
       "      <td>997</td>\n",
       "      <td>2108</td>\n",
       "      <td>2012</td>\n",
       "      <td>8</td>\n",
       "      <td>25</td>\n",
       "      <td>5</td>\n",
       "    </tr>\n",
       "    <tr>\n",
       "      <th>2698</th>\n",
       "      <td>3</td>\n",
       "      <td>4</td>\n",
       "      <td>0</td>\n",
       "      <td>1</td>\n",
       "      <td>24</td>\n",
       "      <td>135</td>\n",
       "      <td>0</td>\n",
       "      <td>110</td>\n",
       "      <td>1</td>\n",
       "      <td>4</td>\n",
       "      <td>...</td>\n",
       "      <td>1</td>\n",
       "      <td>1</td>\n",
       "      <td>1</td>\n",
       "      <td>4</td>\n",
       "      <td>1</td>\n",
       "      <td>14</td>\n",
       "      <td>2013</td>\n",
       "      <td>8</td>\n",
       "      <td>17</td>\n",
       "      <td>5</td>\n",
       "    </tr>\n",
       "    <tr>\n",
       "      <th>2548</th>\n",
       "      <td>1</td>\n",
       "      <td>5</td>\n",
       "      <td>0</td>\n",
       "      <td>0</td>\n",
       "      <td>139</td>\n",
       "      <td>324</td>\n",
       "      <td>0</td>\n",
       "      <td>184</td>\n",
       "      <td>213</td>\n",
       "      <td>306</td>\n",
       "      <td>...</td>\n",
       "      <td>1</td>\n",
       "      <td>35</td>\n",
       "      <td>1599</td>\n",
       "      <td>2678</td>\n",
       "      <td>2909</td>\n",
       "      <td>4792</td>\n",
       "      <td>2013</td>\n",
       "      <td>6</td>\n",
       "      <td>5</td>\n",
       "      <td>2</td>\n",
       "    </tr>\n",
       "    <tr>\n",
       "      <th>659</th>\n",
       "      <td>2</td>\n",
       "      <td>3</td>\n",
       "      <td>0</td>\n",
       "      <td>0</td>\n",
       "      <td>8</td>\n",
       "      <td>914</td>\n",
       "      <td>0</td>\n",
       "      <td>905</td>\n",
       "      <td>3</td>\n",
       "      <td>9</td>\n",
       "      <td>...</td>\n",
       "      <td>1</td>\n",
       "      <td>3</td>\n",
       "      <td>11</td>\n",
       "      <td>42</td>\n",
       "      <td>15</td>\n",
       "      <td>86</td>\n",
       "      <td>2011</td>\n",
       "      <td>6</td>\n",
       "      <td>14</td>\n",
       "      <td>1</td>\n",
       "    </tr>\n",
       "    <tr>\n",
       "      <th>444</th>\n",
       "      <td>2</td>\n",
       "      <td>5</td>\n",
       "      <td>0</td>\n",
       "      <td>4</td>\n",
       "      <td>0</td>\n",
       "      <td>803</td>\n",
       "      <td>0</td>\n",
       "      <td>802</td>\n",
       "      <td>0</td>\n",
       "      <td>6</td>\n",
       "      <td>...</td>\n",
       "      <td>1</td>\n",
       "      <td>1</td>\n",
       "      <td>1</td>\n",
       "      <td>10</td>\n",
       "      <td>1</td>\n",
       "      <td>14</td>\n",
       "      <td>2011</td>\n",
       "      <td>9</td>\n",
       "      <td>25</td>\n",
       "      <td>6</td>\n",
       "    </tr>\n",
       "    <tr>\n",
       "      <th>2026</th>\n",
       "      <td>5</td>\n",
       "      <td>11</td>\n",
       "      <td>0</td>\n",
       "      <td>3</td>\n",
       "      <td>259</td>\n",
       "      <td>445</td>\n",
       "      <td>0</td>\n",
       "      <td>186</td>\n",
       "      <td>52</td>\n",
       "      <td>77</td>\n",
       "      <td>...</td>\n",
       "      <td>1</td>\n",
       "      <td>10</td>\n",
       "      <td>1451</td>\n",
       "      <td>1797</td>\n",
       "      <td>2009</td>\n",
       "      <td>2769</td>\n",
       "      <td>2013</td>\n",
       "      <td>6</td>\n",
       "      <td>3</td>\n",
       "      <td>0</td>\n",
       "    </tr>\n",
       "    <tr>\n",
       "      <th>3283</th>\n",
       "      <td>11</td>\n",
       "      <td>57</td>\n",
       "      <td>0</td>\n",
       "      <td>7</td>\n",
       "      <td>302</td>\n",
       "      <td>655</td>\n",
       "      <td>0</td>\n",
       "      <td>352</td>\n",
       "      <td>502</td>\n",
       "      <td>987</td>\n",
       "      <td>...</td>\n",
       "      <td>1</td>\n",
       "      <td>50</td>\n",
       "      <td>2058</td>\n",
       "      <td>5278</td>\n",
       "      <td>4356</td>\n",
       "      <td>9756</td>\n",
       "      <td>2012</td>\n",
       "      <td>12</td>\n",
       "      <td>18</td>\n",
       "      <td>1</td>\n",
       "    </tr>\n",
       "    <tr>\n",
       "      <th>1643</th>\n",
       "      <td>1</td>\n",
       "      <td>9</td>\n",
       "      <td>0</td>\n",
       "      <td>0</td>\n",
       "      <td>170</td>\n",
       "      <td>497</td>\n",
       "      <td>0</td>\n",
       "      <td>327</td>\n",
       "      <td>96</td>\n",
       "      <td>205</td>\n",
       "      <td>...</td>\n",
       "      <td>1</td>\n",
       "      <td>18</td>\n",
       "      <td>1788</td>\n",
       "      <td>2310</td>\n",
       "      <td>5824</td>\n",
       "      <td>6680</td>\n",
       "      <td>2013</td>\n",
       "      <td>1</td>\n",
       "      <td>12</td>\n",
       "      <td>5</td>\n",
       "    </tr>\n",
       "    <tr>\n",
       "      <th>1070</th>\n",
       "      <td>1</td>\n",
       "      <td>2</td>\n",
       "      <td>0</td>\n",
       "      <td>0</td>\n",
       "      <td>1381</td>\n",
       "      <td>1680</td>\n",
       "      <td>0</td>\n",
       "      <td>299</td>\n",
       "      <td>561</td>\n",
       "      <td>820</td>\n",
       "      <td>...</td>\n",
       "      <td>1</td>\n",
       "      <td>69</td>\n",
       "      <td>3210</td>\n",
       "      <td>5310</td>\n",
       "      <td>6536</td>\n",
       "      <td>9866</td>\n",
       "      <td>2013</td>\n",
       "      <td>2</td>\n",
       "      <td>9</td>\n",
       "      <td>5</td>\n",
       "    </tr>\n",
       "  </tbody>\n",
       "</table>\n",
       "<p>10 rows × 25 columns</p>\n",
       "</div>"
      ],
      "text/plain": [
       "      number_of_downvotes_of_request_at_retrieval  \\\n",
       "3299                                            0   \n",
       "3313                                            3   \n",
       "2698                                            3   \n",
       "2548                                            1   \n",
       "659                                             2   \n",
       "444                                             2   \n",
       "2026                                            5   \n",
       "3283                                           11   \n",
       "1643                                            1   \n",
       "1070                                            1   \n",
       "\n",
       "      number_of_upvotes_of_request_at_retrieval  post_was_edited  \\\n",
       "3299                                          2                0   \n",
       "3313                                          3                0   \n",
       "2698                                          4                0   \n",
       "2548                                          5                0   \n",
       "659                                           3                0   \n",
       "444                                           5                0   \n",
       "2026                                         11                0   \n",
       "3283                                         57                0   \n",
       "1643                                          9                0   \n",
       "1070                                          2                0   \n",
       "\n",
       "      request_number_of_comments_at_retrieval  \\\n",
       "3299                                        1   \n",
       "3313                                        2   \n",
       "2698                                        1   \n",
       "2548                                        0   \n",
       "659                                         0   \n",
       "444                                         4   \n",
       "2026                                        3   \n",
       "3283                                        7   \n",
       "1643                                        0   \n",
       "1070                                        0   \n",
       "\n",
       "      requester_account_age_in_days_at_request  \\\n",
       "3299                                       337   \n",
       "3313                                       452   \n",
       "2698                                        24   \n",
       "2548                                       139   \n",
       "659                                          8   \n",
       "444                                          0   \n",
       "2026                                       259   \n",
       "3283                                       302   \n",
       "1643                                       170   \n",
       "1070                                      1381   \n",
       "\n",
       "      requester_account_age_in_days_at_retrieval  \\\n",
       "3299                                         871   \n",
       "3313                                         920   \n",
       "2698                                         135   \n",
       "2548                                         324   \n",
       "659                                          914   \n",
       "444                                          803   \n",
       "2026                                         445   \n",
       "3283                                         655   \n",
       "1643                                         497   \n",
       "1070                                        1680   \n",
       "\n",
       "      requester_days_since_first_post_on_raop_at_request  \\\n",
       "3299                                                  0    \n",
       "3313                                                259    \n",
       "2698                                                  0    \n",
       "2548                                                  0    \n",
       "659                                                   0    \n",
       "444                                                   0    \n",
       "2026                                                  0    \n",
       "3283                                                  0    \n",
       "1643                                                  0    \n",
       "1070                                                  0    \n",
       "\n",
       "      requester_days_since_first_post_on_raop_at_retrieval  \\\n",
       "3299                                                533      \n",
       "3313                                                727      \n",
       "2698                                                110      \n",
       "2548                                                184      \n",
       "659                                                 905      \n",
       "444                                                 802      \n",
       "2026                                                186      \n",
       "3283                                                352      \n",
       "1643                                                327      \n",
       "1070                                                299      \n",
       "\n",
       "      requester_number_of_comments_at_request  \\\n",
       "3299                                      645   \n",
       "3313                                      248   \n",
       "2698                                        1   \n",
       "2548                                      213   \n",
       "659                                         3   \n",
       "444                                         0   \n",
       "2026                                       52   \n",
       "3283                                      502   \n",
       "1643                                       96   \n",
       "1070                                      561   \n",
       "\n",
       "      requester_number_of_comments_at_retrieval    ...      \\\n",
       "3299                                        997    ...       \n",
       "3313                                        377    ...       \n",
       "2698                                          4    ...       \n",
       "2548                                        306    ...       \n",
       "659                                           9    ...       \n",
       "444                                           6    ...       \n",
       "2026                                         77    ...       \n",
       "3283                                        987    ...       \n",
       "1643                                        205    ...       \n",
       "1070                                        820    ...       \n",
       "\n",
       "      requester_number_of_posts_on_raop_at_retrieval  \\\n",
       "3299                                               1   \n",
       "3313                                               1   \n",
       "2698                                               1   \n",
       "2548                                               1   \n",
       "659                                                1   \n",
       "444                                                1   \n",
       "2026                                               1   \n",
       "3283                                               1   \n",
       "1643                                               1   \n",
       "1070                                               1   \n",
       "\n",
       "      requester_number_of_subreddits_at_request  \\\n",
       "3299                                         74   \n",
       "3313                                         26   \n",
       "2698                                          1   \n",
       "2548                                         35   \n",
       "659                                           3   \n",
       "444                                           1   \n",
       "2026                                         10   \n",
       "3283                                         50   \n",
       "1643                                         18   \n",
       "1070                                         69   \n",
       "\n",
       "      requester_upvotes_minus_downvotes_at_request  \\\n",
       "3299                                          2500   \n",
       "3313                                           507   \n",
       "2698                                             1   \n",
       "2548                                          1599   \n",
       "659                                             11   \n",
       "444                                              1   \n",
       "2026                                          1451   \n",
       "3283                                          2058   \n",
       "1643                                          1788   \n",
       "1070                                          3210   \n",
       "\n",
       "      requester_upvotes_minus_downvotes_at_retrieval  \\\n",
       "3299                                            3304   \n",
       "3313                                             648   \n",
       "2698                                               4   \n",
       "2548                                            2678   \n",
       "659                                               42   \n",
       "444                                               10   \n",
       "2026                                            1797   \n",
       "3283                                            5278   \n",
       "1643                                            2310   \n",
       "1070                                            5310   \n",
       "\n",
       "      requester_upvotes_plus_downvotes_at_request  \\\n",
       "3299                                         5988   \n",
       "3313                                          997   \n",
       "2698                                            1   \n",
       "2548                                         2909   \n",
       "659                                            15   \n",
       "444                                             1   \n",
       "2026                                         2009   \n",
       "3283                                         4356   \n",
       "1643                                         5824   \n",
       "1070                                         6536   \n",
       "\n",
       "      requester_upvotes_plus_downvotes_at_retrieval  year  month  day  \\\n",
       "3299                                           7916  2012      6   20   \n",
       "3313                                           2108  2012      8   25   \n",
       "2698                                             14  2013      8   17   \n",
       "2548                                           4792  2013      6    5   \n",
       "659                                              86  2011      6   14   \n",
       "444                                              14  2011      9   25   \n",
       "2026                                           2769  2013      6    3   \n",
       "3283                                           9756  2012     12   18   \n",
       "1643                                           6680  2013      1   12   \n",
       "1070                                           9866  2013      2    9   \n",
       "\n",
       "      dayofweek  \n",
       "3299          2  \n",
       "3313          5  \n",
       "2698          5  \n",
       "2548          2  \n",
       "659           1  \n",
       "444           6  \n",
       "2026          0  \n",
       "3283          1  \n",
       "1643          5  \n",
       "1070          5  \n",
       "\n",
       "[10 rows x 25 columns]"
      ]
     },
     "execution_count": 6,
     "metadata": {},
     "output_type": "execute_result"
    }
   ],
   "source": [
    "train_data.head(10)"
   ]
  },
  {
   "cell_type": "markdown",
   "metadata": {},
   "source": [
    "Let's fit a RandomForestClassifier this dataset."
   ]
  },
  {
   "cell_type": "code",
   "execution_count": 7,
   "metadata": {},
   "outputs": [
    {
     "data": {
      "text/plain": [
       "RandomForestClassifier(bootstrap=True, class_weight=None, criterion='gini',\n",
       "            max_depth=None, max_features='auto', max_leaf_nodes=None,\n",
       "            min_impurity_decrease=0.0, min_impurity_split=None,\n",
       "            min_samples_leaf=1, min_samples_split=2,\n",
       "            min_weight_fraction_leaf=0.0, n_estimators=10, n_jobs=1,\n",
       "            oob_score=False, random_state=0, verbose=0, warm_start=False)"
      ]
     },
     "execution_count": 7,
     "metadata": {},
     "output_type": "execute_result"
    }
   ],
   "source": [
    "from sklearn.ensemble import RandomForestClassifier\n",
    "from sklearn.datasets import make_classification\n",
    "\n",
    "y=train_labels\n",
    "X=train_data\n",
    "clf = RandomForestClassifier(random_state=0)\n",
    "clf.fit(X, y)"
   ]
  },
  {
   "cell_type": "markdown",
   "metadata": {},
   "source": [
    "Let's test the accuracy of the model on the dev dataset."
   ]
  },
  {
   "cell_type": "code",
   "execution_count": 8,
   "metadata": {},
   "outputs": [
    {
     "name": "stdout",
     "output_type": "stream",
     "text": [
      "Accuracy of classifier on dev set: 0.84\n",
      "LogLoss : 5.414524997124438\n"
     ]
    }
   ],
   "source": [
    "X_test=dev_data\n",
    "y_test=dev_labels\n",
    "y_pred = clf.predict(X_test)\n",
    "print('Accuracy of classifier on dev set: {:.2f}'.format(clf.score(X_test, y_test)))\n",
    "print('LogLoss : {score}'.format(score=log_loss(dev_labels, y_pred)))"
   ]
  },
  {
   "cell_type": "code",
   "execution_count": 9,
   "metadata": {},
   "outputs": [],
   "source": [
    "predictions=[]\n",
    "predictions.append(clf.predict_proba(X_test))"
   ]
  },
  {
   "cell_type": "markdown",
   "metadata": {},
   "source": [
    "Let's run a detailed classification report."
   ]
  },
  {
   "cell_type": "code",
   "execution_count": 10,
   "metadata": {},
   "outputs": [
    {
     "name": "stdout",
     "output_type": "stream",
     "text": [
      "             precision    recall  f1-score   support\n",
      "\n",
      "      False       0.86      0.95      0.90       911\n",
      "       True       0.77      0.52      0.62       301\n",
      "\n",
      "avg / total       0.84      0.84      0.83      1212\n",
      "\n"
     ]
    }
   ],
   "source": [
    "print(classification_report(y_test, y_pred))"
   ]
  },
  {
   "cell_type": "code",
   "execution_count": 40,
   "metadata": {},
   "outputs": [],
   "source": [
    "#all_data = data[data[\"requester_received_pizza\"]==True].iloc[0:1000]\n",
    "#all_data = all_data.append(data[data[\"requester_received_pizza\"]==False].iloc[0:1000])\n",
    "#all_data = all_data.sample(frac=1)\n"
   ]
  },
  {
   "cell_type": "code",
   "execution_count": 11,
   "metadata": {},
   "outputs": [
    {
     "name": "stdout",
     "output_type": "stream",
     "text": [
      "(2828,)\n",
      "(1212,)\n"
     ]
    }
   ],
   "source": [
    "print (train_data_text.shape)\n",
    "print (dev_data_text.shape)"
   ]
  },
  {
   "cell_type": "markdown",
   "metadata": {},
   "source": [
    "### Text Classificaton"
   ]
  },
  {
   "cell_type": "code",
   "execution_count": 12,
   "metadata": {},
   "outputs": [],
   "source": [
    "# Use basic pre-processing techniques\n",
    "from nltk.stem.porter import PorterStemmer\n",
    "porter_stemmer = PorterStemmer()\n",
    "\n",
    "def no_preprocessor(s):\n",
    "    return s\n",
    "\n",
    "def better_preprocessor(s):\n",
    "    message = s.lower()\n",
    "    message = re.sub(r\"[^a-zA-Z0-9]\", \" \", message)\n",
    "    message = re.sub(r\"[-]*\", \"\", message)\n",
    "    message = ' '.join([word[0:8] for word in message.split()])\n",
    "    return message\n",
    "\n",
    "def stemming_tokenizer(str_input):\n",
    "    words = str_input.split()\n",
    "    words = [porter_stemmer.stem(word) for word in words]\n",
    "    return words"
   ]
  },
  {
   "cell_type": "code",
   "execution_count": 13,
   "metadata": {},
   "outputs": [
    {
     "name": "stdout",
     "output_type": "stream",
     "text": [
      "Accuracy (on dev set): 0.7541\n",
      "             precision    recall  f1-score   support\n",
      "\n",
      "      False       0.75      1.00      0.86       911\n",
      "       True       1.00      0.01      0.02       301\n",
      "\n",
      "avg / total       0.81      0.75      0.65      1212\n",
      "\n",
      "LogLoss 8.492207397428535\n"
     ]
    }
   ],
   "source": [
    "cv = TfidfVectorizer(stop_words='english',\n",
    "                     preprocessor=better_preprocessor,\n",
    "                     lowercase=True,\n",
    "                     tokenizer=stemming_tokenizer,\n",
    "                     min_df=2, \n",
    "                     max_df=0.5, \n",
    "                     ngram_range=(1,3))\n",
    "transformer = cv.fit_transform(train_data_text)\n",
    "text_clf = LogisticRegression()\n",
    "text_clf.fit(transformer,train_labels)\n",
    "dev_data_trans = cv.transform(dev_data_text)\n",
    "y_pred = text_clf.predict(dev_data_trans)\n",
    "print (\"Accuracy (on dev set): %.4f\" % metrics.accuracy_score(y_true=dev_labels, y_pred=y_pred))\n",
    "print (metrics.classification_report(y_true=dev_labels, y_pred=y_pred))\n",
    "print('LogLoss {score}'.format(score=log_loss(dev_labels, y_pred)))"
   ]
  },
  {
   "cell_type": "code",
   "execution_count": 14,
   "metadata": {},
   "outputs": [],
   "source": [
    "predictions.append(text_clf.predict_proba(dev_data_trans))"
   ]
  },
  {
   "cell_type": "code",
   "execution_count": 15,
   "metadata": {},
   "outputs": [
    {
     "data": {
      "text/plain": [
       "(2, 1212, 2)"
      ]
     },
     "execution_count": 15,
     "metadata": {},
     "output_type": "execute_result"
    }
   ],
   "source": [
    "np.array(predictions).shape"
   ]
  },
  {
   "cell_type": "code",
   "execution_count": 16,
   "metadata": {},
   "outputs": [],
   "source": [
    "dev_probabilities=[int(k) for k in dev_labels]"
   ]
  },
  {
   "cell_type": "markdown",
   "metadata": {},
   "source": [
    "### Building an Ensemble model"
   ]
  },
  {
   "cell_type": "code",
   "execution_count": 17,
   "metadata": {},
   "outputs": [],
   "source": [
    "def log_loss_func(weights):\n",
    "    final_prediction = 0\n",
    "    ''' scipy minimize will pass the weights as a numpy array '''\n",
    "    for weight, prediction in zip(weights, predictions):\n",
    "            final_prediction += weight*prediction\n",
    "\n",
    "    return log_loss(dev_probabilities, final_prediction)\n",
    "    #return metrics.recall_score(dev_probabilities, final_prediction)"
   ]
  },
  {
   "cell_type": "code",
   "execution_count": 22,
   "metadata": {},
   "outputs": [
    {
     "name": "stdout",
     "output_type": "stream",
     "text": [
      "Ensemble Score: 0.3804418839256663\n",
      "Best Weights: [0.86485372 0.13514628]\n"
     ]
    }
   ],
   "source": [
    "starting_values = [0.5]*len(predictions)\n",
    "\n",
    "cons = ({'type':'eq','fun':lambda w: 1-sum(w)})\n",
    "#our weights are bound between 0 and 1\n",
    "bounds = [(0,1)]*len(predictions)\n",
    "\n",
    "res = minimize(log_loss_func, starting_values, method='SLSQP', bounds=bounds, constraints=cons)\n",
    "\n",
    "print('Ensemble Score: {best_score}'.format(best_score=res['fun']))\n",
    "print('Best Weights: {weights}'.format(weights=res['x']))"
   ]
  },
  {
   "cell_type": "code",
   "execution_count": 23,
   "metadata": {},
   "outputs": [],
   "source": [
    "weights=res['x']\n",
    "y_pred=[weights[0]*predictions[0][k][1]+weights[1]*predictions[1][k][1] for k in range(len(dev_data))]"
   ]
  },
  {
   "cell_type": "code",
   "execution_count": 24,
   "metadata": {},
   "outputs": [],
   "source": [
    "y_pred=[True if k > 0.5 else False for k in y_pred]"
   ]
  },
  {
   "cell_type": "code",
   "execution_count": 25,
   "metadata": {},
   "outputs": [
    {
     "name": "stdout",
     "output_type": "stream",
     "text": [
      "             precision    recall  f1-score   support\n",
      "\n",
      "      False       0.86      0.95      0.90       911\n",
      "       True       0.77      0.52      0.62       301\n",
      "\n",
      "avg / total       0.84      0.84      0.83      1212\n",
      "\n",
      "LogLoss : 5.414524997124438\n"
     ]
    }
   ],
   "source": [
    "print (metrics.classification_report(y_true=dev_labels, y_pred=y_pred))\n",
    "print('LogLoss : {score}'.format(score=log_loss(dev_labels, y_pred)))"
   ]
  },
  {
   "cell_type": "code",
   "execution_count": null,
   "metadata": {},
   "outputs": [],
   "source": []
  }
 ],
 "metadata": {
  "anaconda-cloud": {},
  "kernelspec": {
   "display_name": "Python 3",
   "language": "python",
   "name": "python3"
  },
  "language_info": {
   "codemirror_mode": {
    "name": "ipython",
    "version": 3
   },
   "file_extension": ".py",
   "mimetype": "text/x-python",
   "name": "python",
   "nbconvert_exporter": "python",
   "pygments_lexer": "ipython3",
   "version": "3.5.2"
  }
 },
 "nbformat": 4,
 "nbformat_minor": 1
}
